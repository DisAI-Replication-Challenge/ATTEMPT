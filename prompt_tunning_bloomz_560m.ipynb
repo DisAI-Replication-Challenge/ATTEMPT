{
 "cells": [
  {
   "cell_type": "markdown",
   "metadata": {},
   "source": [
    "# Prompt tunning with huggingface\n",
    "Most of the code is from [huggingface task guide](https://huggingface.co/docs/peft/task_guides/clm-prompt-tuning)"
   ]
  },
  {
   "cell_type": "code",
   "execution_count": 1,
   "metadata": {},
   "outputs": [],
   "source": [
    "from transformers import AutoModelForCausalLM, AutoTokenizer, default_data_collator, get_linear_schedule_with_warmup\n",
    "from peft import get_peft_config, get_peft_model, PromptTuningInit, PromptTuningConfig, TaskType, PeftType\n",
    "import torch\n",
    "from datasets import load_dataset\n",
    "import os\n",
    "import wandb\n",
    "\n",
    "from torch.utils.data import DataLoader\n",
    "from tqdm import tqdm\n",
    "\n",
    "import numpy as np\n",
    "\n",
    "os.environ[\"WANDB_NOTEBOOK_NAME\"] = \"prompt_tunning.ipynb\""
   ]
  },
  {
   "cell_type": "code",
   "execution_count": 2,
   "metadata": {},
   "outputs": [
    {
     "name": "stderr",
     "output_type": "stream",
     "text": [
      "\u001b[34m\u001b[1mwandb\u001b[0m: Logging into wandb.ai. (Learn how to deploy a W&B server locally: https://wandb.me/wandb-server)\n",
      "\u001b[34m\u001b[1mwandb\u001b[0m: You can find your API key in your browser here: https://wandb.ai/authorize\n",
      "\u001b[34m\u001b[1mwandb\u001b[0m: Paste an API key from your profile and hit enter, or press ctrl+c to quit:"
     ]
    },
    {
     "name": "stdin",
     "output_type": "stream",
     "text": [
      "  ········\n"
     ]
    },
    {
     "name": "stderr",
     "output_type": "stream",
     "text": [
      "\u001b[34m\u001b[1mwandb\u001b[0m: Appending key for api.wandb.ai to your netrc file: /home/jovyan/.netrc\n"
     ]
    },
    {
     "data": {
      "text/html": [
       "Tracking run with wandb version 0.15.12"
      ],
      "text/plain": [
       "<IPython.core.display.HTML object>"
      ]
     },
     "metadata": {},
     "output_type": "display_data"
    },
    {
     "data": {
      "text/html": [
       "Run data is saved locally in <code>/home/jovyan/KInIT/PhD/replication_challenge/wandb/run-20231019_071104-0o6b5zaa</code>"
      ],
      "text/plain": [
       "<IPython.core.display.HTML object>"
      ]
     },
     "metadata": {},
     "output_type": "display_data"
    },
    {
     "data": {
      "text/html": [
       "Syncing run <strong><a href='https://wandb.ai/rbelanec/bloomz-560m_prompt_tunning_casual_lm/runs/0o6b5zaa' target=\"_blank\">run_1</a></strong> to <a href='https://wandb.ai/rbelanec/bloomz-560m_prompt_tunning_casual_lm' target=\"_blank\">Weights & Biases</a> (<a href='https://wandb.me/run' target=\"_blank\">docs</a>)<br/>"
      ],
      "text/plain": [
       "<IPython.core.display.HTML object>"
      ]
     },
     "metadata": {},
     "output_type": "display_data"
    },
    {
     "data": {
      "text/html": [
       " View project at <a href='https://wandb.ai/rbelanec/bloomz-560m_prompt_tunning_casual_lm' target=\"_blank\">https://wandb.ai/rbelanec/bloomz-560m_prompt_tunning_casual_lm</a>"
      ],
      "text/plain": [
       "<IPython.core.display.HTML object>"
      ]
     },
     "metadata": {},
     "output_type": "display_data"
    },
    {
     "data": {
      "text/html": [
       " View run at <a href='https://wandb.ai/rbelanec/bloomz-560m_prompt_tunning_casual_lm/runs/0o6b5zaa' target=\"_blank\">https://wandb.ai/rbelanec/bloomz-560m_prompt_tunning_casual_lm/runs/0o6b5zaa</a>"
      ],
      "text/plain": [
       "<IPython.core.display.HTML object>"
      ]
     },
     "metadata": {},
     "output_type": "display_data"
    }
   ],
   "source": [
    "dataset_name = \"twitter_complaints\"\n",
    "model_name_or_path = \"bigscience/bloomz-560m\"\n",
    "run_i = 1\n",
    "\n",
    "peft_config = PromptTuningConfig(\n",
    "    task_type=TaskType.CAUSAL_LM,\n",
    "    prompt_tuning_init=PromptTuningInit.TEXT,\n",
    "    num_virtual_tokens=8,\n",
    "    prompt_tuning_init_text=\"Classify if the tweet is a complaint or not:\",\n",
    "    tokenizer_name_or_path=model_name_or_path,\n",
    ")\n",
    "\n",
    "config={\n",
    "    \"dataset_hf_account\": \"ought/raft\",\n",
    "    \"dataset_name\": dataset_name,\n",
    "    \"device\": \"cuda\",\n",
    "    \"learning_rate\": 3e-2,\n",
    "    \"architecture\": \"LM\",\n",
    "    \"model_name_or_path\": model_name_or_path,\n",
    "    \"tokenizer_name_or_path\": model_name_or_path, \n",
    "    \"max_length\": 64,\n",
    "    \"num_epochs\": 50,\n",
    "    \"batch_size\": 8,\n",
    "    \"peft_config_peft_type\": peft_config.peft_type,\n",
    "    \"peft_config_task_type\": peft_config.task_type,\n",
    "    \"checkpoint_name\": f\"{dataset_name}_{model_name_or_path}_{peft_config.peft_type}_{peft_config.task_type}_v1.pt\".replace(\"/\", \"_\")\n",
    "}\n",
    "\n",
    "wandb.init(project=\"bloomz-560m_prompt_tunning_casual_lm\", config=config, group=\"bloomz-560m_prompt_tunning_casual_lm\", name=f\"run_{run_i}\")\n",
    "\n",
    "text_column = \"Tweet text\"\n",
    "label_column = \"text_label\""
   ]
  },
  {
   "cell_type": "code",
   "execution_count": 3,
   "metadata": {},
   "outputs": [
    {
     "data": {
      "application/vnd.jupyter.widget-view+json": {
       "model_id": "1af04bbc13ca4d27902e08990dd614ee",
       "version_major": 2,
       "version_minor": 0
      },
      "text/plain": [
       "Downloading builder script:   0%|          | 0.00/11.9k [00:00<?, ?B/s]"
      ]
     },
     "metadata": {},
     "output_type": "display_data"
    },
    {
     "data": {
      "application/vnd.jupyter.widget-view+json": {
       "model_id": "c4627621626c43b29ae661245ecc2ed0",
       "version_major": 2,
       "version_minor": 0
      },
      "text/plain": [
       "Downloading metadata:   0%|          | 0.00/56.1k [00:00<?, ?B/s]"
      ]
     },
     "metadata": {},
     "output_type": "display_data"
    },
    {
     "data": {
      "application/vnd.jupyter.widget-view+json": {
       "model_id": "c0ca6500f69d4ee284508d381ca2399b",
       "version_major": 2,
       "version_minor": 0
      },
      "text/plain": [
       "Downloading readme:   0%|          | 0.00/15.2k [00:00<?, ?B/s]"
      ]
     },
     "metadata": {},
     "output_type": "display_data"
    },
    {
     "data": {
      "application/vnd.jupyter.widget-view+json": {
       "model_id": "a8de8de9b81a4cad9f35d3876936b1df",
       "version_major": 2,
       "version_minor": 0
      },
      "text/plain": [
       "Downloading data files:   0%|          | 0/11 [00:00<?, ?it/s]"
      ]
     },
     "metadata": {},
     "output_type": "display_data"
    },
    {
     "data": {
      "application/vnd.jupyter.widget-view+json": {
       "model_id": "e51091e761ce4c578e04c43e4a53c212",
       "version_major": 2,
       "version_minor": 0
      },
      "text/plain": [
       "Downloading data:   0%|          | 0.00/7.79k [00:00<?, ?B/s]"
      ]
     },
     "metadata": {},
     "output_type": "display_data"
    },
    {
     "data": {
      "application/vnd.jupyter.widget-view+json": {
       "model_id": "41e6df311a6c4492bdd27aeea01ce85e",
       "version_major": 2,
       "version_minor": 0
      },
      "text/plain": [
       "Downloading data:   0%|          | 0.00/662k [00:00<?, ?B/s]"
      ]
     },
     "metadata": {},
     "output_type": "display_data"
    },
    {
     "data": {
      "application/vnd.jupyter.widget-view+json": {
       "model_id": "e483adf9e96741f3a45fde4a149290f5",
       "version_major": 2,
       "version_minor": 0
      },
      "text/plain": [
       "Downloading data:   0%|          | 0.00/3.91k [00:00<?, ?B/s]"
      ]
     },
     "metadata": {},
     "output_type": "display_data"
    },
    {
     "data": {
      "application/vnd.jupyter.widget-view+json": {
       "model_id": "e797d2356af34e8ba7560e4028c9a148",
       "version_major": 2,
       "version_minor": 0
      },
      "text/plain": [
       "Downloading data:   0%|          | 0.00/327k [00:00<?, ?B/s]"
      ]
     },
     "metadata": {},
     "output_type": "display_data"
    },
    {
     "data": {
      "application/vnd.jupyter.widget-view+json": {
       "model_id": "babd5d4a80324bc9a59ea511fd567f8d",
       "version_major": 2,
       "version_minor": 0
      },
      "text/plain": [
       "Downloading data:   0%|          | 0.00/11.5k [00:00<?, ?B/s]"
      ]
     },
     "metadata": {},
     "output_type": "display_data"
    },
    {
     "data": {
      "application/vnd.jupyter.widget-view+json": {
       "model_id": "54b12723bb224f48b6d4e9f43980c19b",
       "version_major": 2,
       "version_minor": 0
      },
      "text/plain": [
       "Downloading data:   0%|          | 0.00/917k [00:00<?, ?B/s]"
      ]
     },
     "metadata": {},
     "output_type": "display_data"
    },
    {
     "data": {
      "application/vnd.jupyter.widget-view+json": {
       "model_id": "8fd02b3d02764ed08759cc46444dbcbb",
       "version_major": 2,
       "version_minor": 0
      },
      "text/plain": [
       "Downloading data:   0%|          | 0.00/54.8k [00:00<?, ?B/s]"
      ]
     },
     "metadata": {},
     "output_type": "display_data"
    },
    {
     "data": {
      "application/vnd.jupyter.widget-view+json": {
       "model_id": "6e3d398c50eb4df4881c4fa6d8a303e5",
       "version_major": 2,
       "version_minor": 0
      },
      "text/plain": [
       "Downloading data:   0%|          | 0.00/1.59M [00:00<?, ?B/s]"
      ]
     },
     "metadata": {},
     "output_type": "display_data"
    },
    {
     "data": {
      "application/vnd.jupyter.widget-view+json": {
       "model_id": "e6f3f1a525344e0abe2cf28f17e622f9",
       "version_major": 2,
       "version_minor": 0
      },
      "text/plain": [
       "Downloading data:   0%|          | 0.00/70.0k [00:00<?, ?B/s]"
      ]
     },
     "metadata": {},
     "output_type": "display_data"
    },
    {
     "data": {
      "application/vnd.jupyter.widget-view+json": {
       "model_id": "59fb7774eb814453851beb06e2bfab9f",
       "version_major": 2,
       "version_minor": 0
      },
      "text/plain": [
       "Downloading data:   0%|          | 0.00/196k [00:00<?, ?B/s]"
      ]
     },
     "metadata": {},
     "output_type": "display_data"
    },
    {
     "data": {
      "application/vnd.jupyter.widget-view+json": {
       "model_id": "09c7c83557dd414c9ff1181e31abe26c",
       "version_major": 2,
       "version_minor": 0
      },
      "text/plain": [
       "Downloading data:   0%|          | 0.00/7.58k [00:00<?, ?B/s]"
      ]
     },
     "metadata": {},
     "output_type": "display_data"
    },
    {
     "data": {
      "application/vnd.jupyter.widget-view+json": {
       "model_id": "5524bcd55975459eaf7cd5e902d02307",
       "version_major": 2,
       "version_minor": 0
      },
      "text/plain": [
       "Downloading data:   0%|          | 0.00/412k [00:00<?, ?B/s]"
      ]
     },
     "metadata": {},
     "output_type": "display_data"
    },
    {
     "data": {
      "application/vnd.jupyter.widget-view+json": {
       "model_id": "343c842fa88e4b4ea74975b93a68683d",
       "version_major": 2,
       "version_minor": 0
      },
      "text/plain": [
       "Downloading data:   0%|          | 0.00/52.5k [00:00<?, ?B/s]"
      ]
     },
     "metadata": {},
     "output_type": "display_data"
    },
    {
     "data": {
      "application/vnd.jupyter.widget-view+json": {
       "model_id": "1cab73b6068a4cddb518648a8d894319",
       "version_major": 2,
       "version_minor": 0
      },
      "text/plain": [
       "Downloading data:   0%|          | 0.00/2.31M [00:00<?, ?B/s]"
      ]
     },
     "metadata": {},
     "output_type": "display_data"
    },
    {
     "data": {
      "application/vnd.jupyter.widget-view+json": {
       "model_id": "5e77a6edd09b4cb79b6b2f72878d4a29",
       "version_major": 2,
       "version_minor": 0
      },
      "text/plain": [
       "Downloading data:   0%|          | 0.00/201k [00:00<?, ?B/s]"
      ]
     },
     "metadata": {},
     "output_type": "display_data"
    },
    {
     "data": {
      "application/vnd.jupyter.widget-view+json": {
       "model_id": "1136eadba5fe4ccc89e765fb4fa264d3",
       "version_major": 2,
       "version_minor": 0
      },
      "text/plain": [
       "Downloading data:   0%|          | 0.00/2.09M [00:00<?, ?B/s]"
      ]
     },
     "metadata": {},
     "output_type": "display_data"
    },
    {
     "data": {
      "application/vnd.jupyter.widget-view+json": {
       "model_id": "113b29e93d9b41719000f42b2910067d",
       "version_major": 2,
       "version_minor": 0
      },
      "text/plain": [
       "Downloading data:   0%|          | 0.00/7.64k [00:00<?, ?B/s]"
      ]
     },
     "metadata": {},
     "output_type": "display_data"
    },
    {
     "data": {
      "application/vnd.jupyter.widget-view+json": {
       "model_id": "e2629e84a7a64127a578ca462703e672",
       "version_major": 2,
       "version_minor": 0
      },
      "text/plain": [
       "Downloading data:   0%|          | 0.00/412k [00:00<?, ?B/s]"
      ]
     },
     "metadata": {},
     "output_type": "display_data"
    },
    {
     "data": {
      "application/vnd.jupyter.widget-view+json": {
       "model_id": "216fd6efbc06430eb8c9b8ef748e663e",
       "version_major": 2,
       "version_minor": 0
      },
      "text/plain": [
       "Downloading data:   0%|          | 0.00/5.38k [00:00<?, ?B/s]"
      ]
     },
     "metadata": {},
     "output_type": "display_data"
    },
    {
     "data": {
      "application/vnd.jupyter.widget-view+json": {
       "model_id": "068d934a6d0d4d90a86f41a74c6d8071",
       "version_major": 2,
       "version_minor": 0
      },
      "text/plain": [
       "Downloading data:   0%|          | 0.00/336k [00:00<?, ?B/s]"
      ]
     },
     "metadata": {},
     "output_type": "display_data"
    },
    {
     "data": {
      "application/vnd.jupyter.widget-view+json": {
       "model_id": "6ac68148d5cf4121b7bff1524c3a6051",
       "version_major": 2,
       "version_minor": 0
      },
      "text/plain": [
       "Downloading data:   0%|          | 0.00/8.12k [00:00<?, ?B/s]"
      ]
     },
     "metadata": {},
     "output_type": "display_data"
    },
    {
     "data": {
      "application/vnd.jupyter.widget-view+json": {
       "model_id": "3e624f1f0c70473387d2caf1122d15aa",
       "version_major": 2,
       "version_minor": 0
      },
      "text/plain": [
       "Downloading data:   0%|          | 0.00/68.5k [00:00<?, ?B/s]"
      ]
     },
     "metadata": {},
     "output_type": "display_data"
    },
    {
     "data": {
      "application/vnd.jupyter.widget-view+json": {
       "model_id": "d1cc303bd58f48169e377805e41ec3ea",
       "version_major": 2,
       "version_minor": 0
      },
      "text/plain": [
       "Extracting data files:   0%|          | 0/11 [00:00<?, ?it/s]"
      ]
     },
     "metadata": {},
     "output_type": "display_data"
    },
    {
     "data": {
      "application/vnd.jupyter.widget-view+json": {
       "model_id": "5bb660cacdbd400a9d3b716ef4c323ce",
       "version_major": 2,
       "version_minor": 0
      },
      "text/plain": [
       "Generating train split:   0%|          | 0/50 [00:00<?, ? examples/s]"
      ]
     },
     "metadata": {},
     "output_type": "display_data"
    },
    {
     "data": {
      "application/vnd.jupyter.widget-view+json": {
       "model_id": "9d008e3987cb42719bf1658b95deca3c",
       "version_major": 2,
       "version_minor": 0
      },
      "text/plain": [
       "Generating test split:   0%|          | 0/3399 [00:00<?, ? examples/s]"
      ]
     },
     "metadata": {},
     "output_type": "display_data"
    },
    {
     "data": {
      "text/plain": [
       "{'Tweet text': '@HMRCcustomers No this is my first job', 'ID': 0, 'Label': 2}"
      ]
     },
     "execution_count": 3,
     "metadata": {},
     "output_type": "execute_result"
    }
   ],
   "source": [
    "dataset = load_dataset(\"ought/raft\", dataset_name)\n",
    "dataset[\"train\"][0]"
   ]
  },
  {
   "cell_type": "code",
   "execution_count": 4,
   "metadata": {},
   "outputs": [
    {
     "data": {
      "application/vnd.jupyter.widget-view+json": {
       "model_id": "88e1366e93314aeca87a08fc8bbbb232",
       "version_major": 2,
       "version_minor": 0
      },
      "text/plain": [
       "Map:   0%|          | 0/50 [00:00<?, ? examples/s]"
      ]
     },
     "metadata": {},
     "output_type": "display_data"
    },
    {
     "data": {
      "application/vnd.jupyter.widget-view+json": {
       "model_id": "3872ecc54e1b4b1095d299337377e8fa",
       "version_major": 2,
       "version_minor": 0
      },
      "text/plain": [
       "Map:   0%|          | 0/3399 [00:00<?, ? examples/s]"
      ]
     },
     "metadata": {},
     "output_type": "display_data"
    },
    {
     "data": {
      "text/plain": [
       "{'Tweet text': '@HMRCcustomers No this is my first job',\n",
       " 'ID': 0,\n",
       " 'Label': 2,\n",
       " 'text_label': 'no complaint'}"
      ]
     },
     "execution_count": 4,
     "metadata": {},
     "output_type": "execute_result"
    }
   ],
   "source": [
    "classes = [k.replace(\"_\", \" \") for k in dataset[\"train\"].features[\"Label\"].names]\n",
    "dataset = dataset.map(\n",
    "    lambda x: {\"text_label\": [classes[label] for label in x[\"Label\"]]},\n",
    "    batched=True,\n",
    "    num_proc=1,\n",
    ")\n",
    "dataset[\"train\"][0]\n"
   ]
  },
  {
   "cell_type": "markdown",
   "metadata": {},
   "source": [
    "## Preprocessing"
   ]
  },
  {
   "cell_type": "code",
   "execution_count": 5,
   "metadata": {},
   "outputs": [
    {
     "data": {
      "application/vnd.jupyter.widget-view+json": {
       "model_id": "d3e0aa0f2b9d4d9bb2f20772c7df6a3d",
       "version_major": 2,
       "version_minor": 0
      },
      "text/plain": [
       "Downloading (…)okenizer_config.json:   0%|          | 0.00/222 [00:00<?, ?B/s]"
      ]
     },
     "metadata": {},
     "output_type": "display_data"
    },
    {
     "data": {
      "application/vnd.jupyter.widget-view+json": {
       "model_id": "4c5bc8954af0486b97931b6391acced8",
       "version_major": 2,
       "version_minor": 0
      },
      "text/plain": [
       "Downloading tokenizer.json:   0%|          | 0.00/14.5M [00:00<?, ?B/s]"
      ]
     },
     "metadata": {},
     "output_type": "display_data"
    },
    {
     "data": {
      "application/vnd.jupyter.widget-view+json": {
       "model_id": "6542a6bc1c844f09b50712ed86a5971b",
       "version_major": 2,
       "version_minor": 0
      },
      "text/plain": [
       "Downloading (…)cial_tokens_map.json:   0%|          | 0.00/85.0 [00:00<?, ?B/s]"
      ]
     },
     "metadata": {},
     "output_type": "display_data"
    },
    {
     "data": {
      "text/plain": [
       "3"
      ]
     },
     "execution_count": 5,
     "metadata": {},
     "output_type": "execute_result"
    }
   ],
   "source": [
    "tokenizer = AutoTokenizer.from_pretrained(wandb.config[\"tokenizer_name_or_path\"])\n",
    "if tokenizer.pad_token_id is None:\n",
    "    tokenizer.pad_token_id = tokenizer.eos_token_id\n",
    "\n",
    "target_max_length = max([len(tokenizer(class_label)[\"input_ids\"]) for class_label in classes])\n",
    "target_max_length"
   ]
  },
  {
   "cell_type": "code",
   "execution_count": 6,
   "metadata": {},
   "outputs": [],
   "source": [
    "# why do we do this black magic?\n",
    "# [1] *, [-100] * etc\n",
    "def preprocess_function(examples):\n",
    "    batch_size = len(examples[text_column])\n",
    "    inputs = [f\"{text_column} : {x} Label : \" for x in examples[text_column]] # better prompting\n",
    "    targets = [str(x) for x in examples[label_column]]\n",
    "    model_inputs = tokenizer(inputs)\n",
    "    labels = tokenizer(targets)\n",
    "    \n",
    "    for i in range(batch_size):\n",
    "        sample_input_ids = model_inputs[\"input_ids\"][i] \n",
    "        label_input_ids = labels[\"input_ids\"][i] + [tokenizer.pad_token_id] # first we add padding token at the end of every label\n",
    "        # print(i, sample_input_ids, label_input_ids)\n",
    "\n",
    "        model_inputs[\"input_ids\"][i] = sample_input_ids + label_input_ids # concatenate sample ids with label ids with padding token id at the end\n",
    "        labels[\"input_ids\"][i] = [-100] * len(sample_input_ids) + label_input_ids # now make the labels same lenght as the samples and instead of samples there are -100 everywhere\n",
    "        model_inputs[\"attention_mask\"][i] = [1] * len(model_inputs[\"input_ids\"][i]) # we change the attenttion masks to be all 1 for every id of the input sample\n",
    "    \n",
    "    # print(model_inputs)\n",
    "\n",
    "    # now we have input sample token lenghts matching input label lenghts\n",
    "\n",
    "    for i in range(batch_size):\n",
    "        # load a single sample and its coresponding label\n",
    "        sample_input_ids = model_inputs[\"input_ids\"][i]\n",
    "        label_input_ids = labels[\"input_ids\"][i]\n",
    "   \n",
    "        model_inputs[\"input_ids\"][i] = [tokenizer.pad_token_id] * (wandb.config[\"max_length\"] - len(sample_input_ids)) + sample_input_ids # prepend 64 - sample_len padding tokens \n",
    "        model_inputs[\"attention_mask\"][i] = [0] * (wandb.config[\"max_length\"] - len(sample_input_ids)) + model_inputs[\"attention_mask\"][i] # prepend 64 - sample_len 0 zeros to attention mask, because we want to ingnore the padding tokens\n",
    "\n",
    "        labels[\"input_ids\"][i] = [-100] * (wandb.config[\"max_length\"] - len(sample_input_ids)) + label_input_ids # prepend 64 - sample len -100 also for labels (sum will be 64)\n",
    "\n",
    "        # in case some samples or lables are larger than 64 tokens take only first 64 tokens\n",
    "        model_inputs[\"input_ids\"][i] = torch.tensor(model_inputs[\"input_ids\"][i][:wandb.config[\"max_length\"]])\n",
    "        model_inputs[\"attention_mask\"][i] = torch.tensor(model_inputs[\"attention_mask\"][i][:wandb.config[\"max_length\"]])\n",
    "        labels[\"input_ids\"][i] = torch.tensor(labels[\"input_ids\"][i][:wandb.config[\"max_length\"]])\n",
    "        \n",
    "    model_inputs[\"labels\"] = labels[\"input_ids\"]\n",
    "    return model_inputs"
   ]
  },
  {
   "cell_type": "code",
   "execution_count": 7,
   "metadata": {},
   "outputs": [
    {
     "data": {
      "application/vnd.jupyter.widget-view+json": {
       "model_id": "6905d465369c40dfb6a82481b74aff95",
       "version_major": 2,
       "version_minor": 0
      },
      "text/plain": [
       "Running tokenizer on dataset:   0%|          | 0/50 [00:00<?, ? examples/s]"
      ]
     },
     "metadata": {},
     "output_type": "display_data"
    },
    {
     "data": {
      "application/vnd.jupyter.widget-view+json": {
       "model_id": "a9047a33f4424e28bf40123eb80319c2",
       "version_major": 2,
       "version_minor": 0
      },
      "text/plain": [
       "Running tokenizer on dataset:   0%|          | 0/3399 [00:00<?, ? examples/s]"
      ]
     },
     "metadata": {},
     "output_type": "display_data"
    }
   ],
   "source": [
    "processed_datasets = dataset.map(\n",
    "    preprocess_function,\n",
    "    batched=True,\n",
    "    num_proc=1,\n",
    "    remove_columns=dataset[\"train\"].column_names,\n",
    "    load_from_cache_file=False,\n",
    "    desc=\"Running tokenizer on dataset\",\n",
    ")"
   ]
  },
  {
   "cell_type": "code",
   "execution_count": 8,
   "metadata": {},
   "outputs": [],
   "source": [
    "train_dataset = processed_datasets[\"train\"]\n",
    "eval_dataset = processed_datasets[\"test\"]\n",
    "\n",
    "train_dataloader = DataLoader(train_dataset, shuffle=True, collate_fn=default_data_collator, batch_size=wandb.config[\"batch_size\"], pin_memory=True)\n",
    "eval_dataloader = DataLoader(eval_dataset, collate_fn=default_data_collator, batch_size=wandb.config[\"batch_size\"], pin_memory=True)"
   ]
  },
  {
   "cell_type": "code",
   "execution_count": 11,
   "metadata": {},
   "outputs": [
    {
     "name": "stdout",
     "output_type": "stream",
     "text": [
      "trainable params: 8,192 || all params: 559,222,784 || trainable%: 0.0014648902430985358\n"
     ]
    },
    {
     "name": "stderr",
     "output_type": "stream",
     "text": [
      "100%|██████████| 7/7 [00:01<00:00,  6.15it/s]\n",
      "100%|██████████| 425/425 [00:24<00:00, 17.03it/s]\n"
     ]
    },
    {
     "name": "stdout",
     "output_type": "stream",
     "text": [
      "epoch=0: train_ppl=tensor(8.3367e+17, device='cuda:0') train_epoch_loss=tensor(41.2646, device='cuda:0') eval_ppl=tensor(15351.5586, device='cuda:0') eval_epoch_loss=tensor(9.6390, device='cuda:0')\n"
     ]
    },
    {
     "name": "stderr",
     "output_type": "stream",
     "text": [
      "100%|██████████| 7/7 [00:00<00:00,  8.54it/s]\n",
      "100%|██████████| 425/425 [00:25<00:00, 16.96it/s]\n"
     ]
    },
    {
     "name": "stdout",
     "output_type": "stream",
     "text": [
      "epoch=1: train_ppl=tensor(397190.7188, device='cuda:0') train_epoch_loss=tensor(12.8922, device='cuda:0') eval_ppl=tensor(8629.9424, device='cuda:0') eval_epoch_loss=tensor(9.0630, device='cuda:0')\n"
     ]
    },
    {
     "name": "stderr",
     "output_type": "stream",
     "text": [
      "100%|██████████| 7/7 [00:00<00:00,  8.64it/s]\n",
      "100%|██████████| 425/425 [00:25<00:00, 16.80it/s]\n"
     ]
    },
    {
     "name": "stdout",
     "output_type": "stream",
     "text": [
      "epoch=2: train_ppl=tensor(122973.3359, device='cuda:0') train_epoch_loss=tensor(11.7197, device='cuda:0') eval_ppl=tensor(6201.0703, device='cuda:0') eval_epoch_loss=tensor(8.7325, device='cuda:0')\n"
     ]
    },
    {
     "name": "stderr",
     "output_type": "stream",
     "text": [
      "100%|██████████| 7/7 [00:00<00:00,  8.67it/s]\n",
      "100%|██████████| 425/425 [00:25<00:00, 16.67it/s]\n"
     ]
    },
    {
     "name": "stdout",
     "output_type": "stream",
     "text": [
      "epoch=3: train_ppl=tensor(18153.1895, device='cuda:0') train_epoch_loss=tensor(9.8066, device='cuda:0') eval_ppl=tensor(7777.5581, device='cuda:0') eval_epoch_loss=tensor(8.9590, device='cuda:0')\n"
     ]
    },
    {
     "name": "stderr",
     "output_type": "stream",
     "text": [
      "100%|██████████| 7/7 [00:00<00:00,  8.55it/s]\n",
      "100%|██████████| 425/425 [00:25<00:00, 16.68it/s]\n"
     ]
    },
    {
     "name": "stdout",
     "output_type": "stream",
     "text": [
      "epoch=4: train_ppl=tensor(3274.8696, device='cuda:0') train_epoch_loss=tensor(8.0940, device='cuda:0') eval_ppl=tensor(4911.7930, device='cuda:0') eval_epoch_loss=tensor(8.4994, device='cuda:0')\n"
     ]
    },
    {
     "name": "stderr",
     "output_type": "stream",
     "text": [
      "100%|██████████| 7/7 [00:00<00:00,  8.33it/s]\n",
      "100%|██████████| 425/425 [00:25<00:00, 16.68it/s]\n"
     ]
    },
    {
     "name": "stdout",
     "output_type": "stream",
     "text": [
      "epoch=5: train_ppl=tensor(811.9193, device='cuda:0') train_epoch_loss=tensor(6.6994, device='cuda:0') eval_ppl=tensor(6605.7725, device='cuda:0') eval_epoch_loss=tensor(8.7957, device='cuda:0')\n"
     ]
    },
    {
     "name": "stderr",
     "output_type": "stream",
     "text": [
      "100%|██████████| 7/7 [00:00<00:00,  8.52it/s]\n",
      "100%|██████████| 425/425 [00:25<00:00, 16.68it/s]\n"
     ]
    },
    {
     "name": "stdout",
     "output_type": "stream",
     "text": [
      "epoch=6: train_ppl=tensor(349.5655, device='cuda:0') train_epoch_loss=tensor(5.8567, device='cuda:0') eval_ppl=tensor(12908.9023, device='cuda:0') eval_epoch_loss=tensor(9.4657, device='cuda:0')\n"
     ]
    },
    {
     "name": "stderr",
     "output_type": "stream",
     "text": [
      "100%|██████████| 7/7 [00:00<00:00,  8.73it/s]\n",
      "100%|██████████| 425/425 [00:25<00:00, 16.65it/s]\n"
     ]
    },
    {
     "name": "stdout",
     "output_type": "stream",
     "text": [
      "epoch=7: train_ppl=tensor(282.3629, device='cuda:0') train_epoch_loss=tensor(5.6432, device='cuda:0') eval_ppl=tensor(18044.6543, device='cuda:0') eval_epoch_loss=tensor(9.8006, device='cuda:0')\n"
     ]
    },
    {
     "name": "stderr",
     "output_type": "stream",
     "text": [
      "100%|██████████| 7/7 [00:00<00:00,  8.51it/s]\n",
      "100%|██████████| 425/425 [00:25<00:00, 16.68it/s]\n"
     ]
    },
    {
     "name": "stdout",
     "output_type": "stream",
     "text": [
      "epoch=8: train_ppl=tensor(243.4718, device='cuda:0') train_epoch_loss=tensor(5.4950, device='cuda:0') eval_ppl=tensor(16669.2520, device='cuda:0') eval_epoch_loss=tensor(9.7213, device='cuda:0')\n"
     ]
    },
    {
     "name": "stderr",
     "output_type": "stream",
     "text": [
      "100%|██████████| 7/7 [00:00<00:00,  8.38it/s]\n",
      "100%|██████████| 425/425 [00:25<00:00, 16.68it/s]\n"
     ]
    },
    {
     "name": "stdout",
     "output_type": "stream",
     "text": [
      "epoch=9: train_ppl=tensor(194.8473, device='cuda:0') train_epoch_loss=tensor(5.2722, device='cuda:0') eval_ppl=tensor(18875.3047, device='cuda:0') eval_epoch_loss=tensor(9.8456, device='cuda:0')\n"
     ]
    },
    {
     "name": "stderr",
     "output_type": "stream",
     "text": [
      "100%|██████████| 7/7 [00:00<00:00,  8.51it/s]\n",
      "100%|██████████| 425/425 [00:25<00:00, 16.68it/s]\n"
     ]
    },
    {
     "name": "stdout",
     "output_type": "stream",
     "text": [
      "epoch=10: train_ppl=tensor(165.3395, device='cuda:0') train_epoch_loss=tensor(5.1080, device='cuda:0') eval_ppl=tensor(28455.3945, device='cuda:0') eval_epoch_loss=tensor(10.2561, device='cuda:0')\n"
     ]
    },
    {
     "name": "stderr",
     "output_type": "stream",
     "text": [
      "100%|██████████| 7/7 [00:00<00:00,  8.57it/s]\n",
      "100%|██████████| 425/425 [00:25<00:00, 16.67it/s]\n"
     ]
    },
    {
     "name": "stdout",
     "output_type": "stream",
     "text": [
      "epoch=11: train_ppl=tensor(143.3752, device='cuda:0') train_epoch_loss=tensor(4.9655, device='cuda:0') eval_ppl=tensor(29776.0117, device='cuda:0') eval_epoch_loss=tensor(10.3015, device='cuda:0')\n"
     ]
    },
    {
     "name": "stderr",
     "output_type": "stream",
     "text": [
      "100%|██████████| 7/7 [00:00<00:00,  8.74it/s]\n",
      "100%|██████████| 425/425 [00:25<00:00, 16.68it/s]\n"
     ]
    },
    {
     "name": "stdout",
     "output_type": "stream",
     "text": [
      "epoch=12: train_ppl=tensor(106.9004, device='cuda:0') train_epoch_loss=tensor(4.6719, device='cuda:0') eval_ppl=tensor(36787.4414, device='cuda:0') eval_epoch_loss=tensor(10.5129, device='cuda:0')\n"
     ]
    },
    {
     "name": "stderr",
     "output_type": "stream",
     "text": [
      "100%|██████████| 7/7 [00:00<00:00,  8.69it/s]\n",
      "100%|██████████| 425/425 [00:25<00:00, 16.68it/s]\n"
     ]
    },
    {
     "name": "stdout",
     "output_type": "stream",
     "text": [
      "epoch=13: train_ppl=tensor(104.7922, device='cuda:0') train_epoch_loss=tensor(4.6520, device='cuda:0') eval_ppl=tensor(20367.9844, device='cuda:0') eval_epoch_loss=tensor(9.9217, device='cuda:0')\n"
     ]
    },
    {
     "name": "stderr",
     "output_type": "stream",
     "text": [
      "100%|██████████| 7/7 [00:00<00:00,  8.51it/s]\n",
      "100%|██████████| 425/425 [00:25<00:00, 16.68it/s]\n"
     ]
    },
    {
     "name": "stdout",
     "output_type": "stream",
     "text": [
      "epoch=14: train_ppl=tensor(72.7380, device='cuda:0') train_epoch_loss=tensor(4.2869, device='cuda:0') eval_ppl=tensor(53271.8086, device='cuda:0') eval_epoch_loss=tensor(10.8832, device='cuda:0')\n"
     ]
    },
    {
     "name": "stderr",
     "output_type": "stream",
     "text": [
      "100%|██████████| 7/7 [00:00<00:00,  8.59it/s]\n",
      "100%|██████████| 425/425 [00:25<00:00, 16.68it/s]\n"
     ]
    },
    {
     "name": "stdout",
     "output_type": "stream",
     "text": [
      "epoch=15: train_ppl=tensor(53.4192, device='cuda:0') train_epoch_loss=tensor(3.9782, device='cuda:0') eval_ppl=tensor(85101.2344, device='cuda:0') eval_epoch_loss=tensor(11.3516, device='cuda:0')\n"
     ]
    },
    {
     "name": "stderr",
     "output_type": "stream",
     "text": [
      "100%|██████████| 7/7 [00:00<00:00,  8.45it/s]\n",
      "100%|██████████| 425/425 [00:25<00:00, 16.68it/s]\n"
     ]
    },
    {
     "name": "stdout",
     "output_type": "stream",
     "text": [
      "epoch=16: train_ppl=tensor(44.3690, device='cuda:0') train_epoch_loss=tensor(3.7925, device='cuda:0') eval_ppl=tensor(100129.1797, device='cuda:0') eval_epoch_loss=tensor(11.5142, device='cuda:0')\n"
     ]
    },
    {
     "name": "stderr",
     "output_type": "stream",
     "text": [
      "100%|██████████| 7/7 [00:00<00:00,  8.56it/s]\n",
      "100%|██████████| 425/425 [00:25<00:00, 16.67it/s]\n"
     ]
    },
    {
     "name": "stdout",
     "output_type": "stream",
     "text": [
      "epoch=17: train_ppl=tensor(34.3122, device='cuda:0') train_epoch_loss=tensor(3.5355, device='cuda:0') eval_ppl=tensor(77048.8047, device='cuda:0') eval_epoch_loss=tensor(11.2522, device='cuda:0')\n"
     ]
    },
    {
     "name": "stderr",
     "output_type": "stream",
     "text": [
      "100%|██████████| 7/7 [00:00<00:00,  8.75it/s]\n",
      "100%|██████████| 425/425 [00:25<00:00, 16.68it/s]\n"
     ]
    },
    {
     "name": "stdout",
     "output_type": "stream",
     "text": [
      "epoch=18: train_ppl=tensor(26.7739, device='cuda:0') train_epoch_loss=tensor(3.2874, device='cuda:0') eval_ppl=tensor(99527.0234, device='cuda:0') eval_epoch_loss=tensor(11.5082, device='cuda:0')\n"
     ]
    },
    {
     "name": "stderr",
     "output_type": "stream",
     "text": [
      "100%|██████████| 7/7 [00:00<00:00,  8.70it/s]\n",
      "100%|██████████| 425/425 [00:25<00:00, 16.68it/s]\n"
     ]
    },
    {
     "name": "stdout",
     "output_type": "stream",
     "text": [
      "epoch=19: train_ppl=tensor(22.4255, device='cuda:0') train_epoch_loss=tensor(3.1102, device='cuda:0') eval_ppl=tensor(145401.7188, device='cuda:0') eval_epoch_loss=tensor(11.8873, device='cuda:0')\n"
     ]
    },
    {
     "name": "stderr",
     "output_type": "stream",
     "text": [
      "100%|██████████| 7/7 [00:00<00:00,  8.30it/s]\n",
      "100%|██████████| 425/425 [00:25<00:00, 16.68it/s]\n"
     ]
    },
    {
     "name": "stdout",
     "output_type": "stream",
     "text": [
      "epoch=20: train_ppl=tensor(29.2556, device='cuda:0') train_epoch_loss=tensor(3.3761, device='cuda:0') eval_ppl=tensor(141533.8750, device='cuda:0') eval_epoch_loss=tensor(11.8603, device='cuda:0')\n"
     ]
    },
    {
     "name": "stderr",
     "output_type": "stream",
     "text": [
      "100%|██████████| 7/7 [00:00<00:00,  8.78it/s]\n",
      "100%|██████████| 425/425 [00:25<00:00, 16.69it/s]\n"
     ]
    },
    {
     "name": "stdout",
     "output_type": "stream",
     "text": [
      "epoch=21: train_ppl=tensor(22.8127, device='cuda:0') train_epoch_loss=tensor(3.1273, device='cuda:0') eval_ppl=tensor(112792.1172, device='cuda:0') eval_epoch_loss=tensor(11.6333, device='cuda:0')\n"
     ]
    },
    {
     "name": "stderr",
     "output_type": "stream",
     "text": [
      "100%|██████████| 7/7 [00:00<00:00,  8.78it/s]\n",
      "100%|██████████| 425/425 [00:25<00:00, 16.70it/s]\n"
     ]
    },
    {
     "name": "stdout",
     "output_type": "stream",
     "text": [
      "epoch=22: train_ppl=tensor(17.5944, device='cuda:0') train_epoch_loss=tensor(2.8676, device='cuda:0') eval_ppl=tensor(229141.3750, device='cuda:0') eval_epoch_loss=tensor(12.3421, device='cuda:0')\n"
     ]
    },
    {
     "name": "stderr",
     "output_type": "stream",
     "text": [
      "100%|██████████| 7/7 [00:00<00:00,  8.78it/s]\n",
      "100%|██████████| 425/425 [00:25<00:00, 16.69it/s]\n"
     ]
    },
    {
     "name": "stdout",
     "output_type": "stream",
     "text": [
      "epoch=23: train_ppl=tensor(17.4579, device='cuda:0') train_epoch_loss=tensor(2.8598, device='cuda:0') eval_ppl=tensor(126170.9297, device='cuda:0') eval_epoch_loss=tensor(11.7454, device='cuda:0')\n"
     ]
    },
    {
     "name": "stderr",
     "output_type": "stream",
     "text": [
      "100%|██████████| 7/7 [00:00<00:00,  8.77it/s]\n",
      "100%|██████████| 425/425 [00:25<00:00, 16.68it/s]\n"
     ]
    },
    {
     "name": "stdout",
     "output_type": "stream",
     "text": [
      "epoch=24: train_ppl=tensor(12.7798, device='cuda:0') train_epoch_loss=tensor(2.5479, device='cuda:0') eval_ppl=tensor(79957.8672, device='cuda:0') eval_epoch_loss=tensor(11.2893, device='cuda:0')\n"
     ]
    },
    {
     "name": "stderr",
     "output_type": "stream",
     "text": [
      "100%|██████████| 7/7 [00:00<00:00,  8.66it/s]\n",
      "100%|██████████| 425/425 [00:25<00:00, 16.70it/s]\n"
     ]
    },
    {
     "name": "stdout",
     "output_type": "stream",
     "text": [
      "epoch=25: train_ppl=tensor(11.3607, device='cuda:0') train_epoch_loss=tensor(2.4302, device='cuda:0') eval_ppl=tensor(72763.6641, device='cuda:0') eval_epoch_loss=tensor(11.1950, device='cuda:0')\n"
     ]
    },
    {
     "name": "stderr",
     "output_type": "stream",
     "text": [
      "100%|██████████| 7/7 [00:00<00:00,  8.78it/s]\n",
      "100%|██████████| 425/425 [00:25<00:00, 16.67it/s]\n"
     ]
    },
    {
     "name": "stdout",
     "output_type": "stream",
     "text": [
      "epoch=26: train_ppl=tensor(8.7195, device='cuda:0') train_epoch_loss=tensor(2.1656, device='cuda:0') eval_ppl=tensor(172356.7188, device='cuda:0') eval_epoch_loss=tensor(12.0573, device='cuda:0')\n"
     ]
    },
    {
     "name": "stderr",
     "output_type": "stream",
     "text": [
      "100%|██████████| 7/7 [00:00<00:00,  8.46it/s]\n",
      "100%|██████████| 425/425 [00:25<00:00, 16.68it/s]\n"
     ]
    },
    {
     "name": "stdout",
     "output_type": "stream",
     "text": [
      "epoch=27: train_ppl=tensor(7.2746, device='cuda:0') train_epoch_loss=tensor(1.9844, device='cuda:0') eval_ppl=tensor(429537.2500, device='cuda:0') eval_epoch_loss=tensor(12.9705, device='cuda:0')\n"
     ]
    },
    {
     "name": "stderr",
     "output_type": "stream",
     "text": [
      "100%|██████████| 7/7 [00:00<00:00,  8.64it/s]\n",
      "100%|██████████| 425/425 [00:25<00:00, 16.68it/s]\n"
     ]
    },
    {
     "name": "stdout",
     "output_type": "stream",
     "text": [
      "epoch=28: train_ppl=tensor(6.2448, device='cuda:0') train_epoch_loss=tensor(1.8317, device='cuda:0') eval_ppl=tensor(813246.4375, device='cuda:0') eval_epoch_loss=tensor(13.6088, device='cuda:0')\n"
     ]
    },
    {
     "name": "stderr",
     "output_type": "stream",
     "text": [
      "100%|██████████| 7/7 [00:00<00:00,  8.56it/s]\n",
      "100%|██████████| 425/425 [00:25<00:00, 16.70it/s]\n"
     ]
    },
    {
     "name": "stdout",
     "output_type": "stream",
     "text": [
      "epoch=29: train_ppl=tensor(6.5383, device='cuda:0') train_epoch_loss=tensor(1.8777, device='cuda:0') eval_ppl=tensor(764394.0625, device='cuda:0') eval_epoch_loss=tensor(13.5468, device='cuda:0')\n"
     ]
    },
    {
     "name": "stderr",
     "output_type": "stream",
     "text": [
      "100%|██████████| 7/7 [00:00<00:00,  8.66it/s]\n",
      "100%|██████████| 425/425 [00:25<00:00, 16.71it/s]\n"
     ]
    },
    {
     "name": "stdout",
     "output_type": "stream",
     "text": [
      "epoch=30: train_ppl=tensor(4.9109, device='cuda:0') train_epoch_loss=tensor(1.5915, device='cuda:0') eval_ppl=tensor(482998.3750, device='cuda:0') eval_epoch_loss=tensor(13.0878, device='cuda:0')\n"
     ]
    },
    {
     "name": "stderr",
     "output_type": "stream",
     "text": [
      "100%|██████████| 7/7 [00:00<00:00,  8.47it/s]\n",
      "100%|██████████| 425/425 [00:25<00:00, 16.71it/s]\n"
     ]
    },
    {
     "name": "stdout",
     "output_type": "stream",
     "text": [
      "epoch=31: train_ppl=tensor(4.0801, device='cuda:0') train_epoch_loss=tensor(1.4061, device='cuda:0') eval_ppl=tensor(724874.9375, device='cuda:0') eval_epoch_loss=tensor(13.4938, device='cuda:0')\n"
     ]
    },
    {
     "name": "stderr",
     "output_type": "stream",
     "text": [
      "100%|██████████| 7/7 [00:00<00:00,  8.39it/s]\n",
      "100%|██████████| 425/425 [00:25<00:00, 16.68it/s]\n"
     ]
    },
    {
     "name": "stdout",
     "output_type": "stream",
     "text": [
      "epoch=32: train_ppl=tensor(3.4566, device='cuda:0') train_epoch_loss=tensor(1.2403, device='cuda:0') eval_ppl=tensor(1073653.2500, device='cuda:0') eval_epoch_loss=tensor(13.8866, device='cuda:0')\n"
     ]
    },
    {
     "name": "stderr",
     "output_type": "stream",
     "text": [
      "100%|██████████| 7/7 [00:00<00:00,  8.28it/s]\n",
      "100%|██████████| 425/425 [00:25<00:00, 16.68it/s]\n"
     ]
    },
    {
     "name": "stdout",
     "output_type": "stream",
     "text": [
      "epoch=33: train_ppl=tensor(3.0780, device='cuda:0') train_epoch_loss=tensor(1.1243, device='cuda:0') eval_ppl=tensor(1071286.5000, device='cuda:0') eval_epoch_loss=tensor(13.8844, device='cuda:0')\n"
     ]
    },
    {
     "name": "stderr",
     "output_type": "stream",
     "text": [
      "100%|██████████| 7/7 [00:00<00:00,  8.61it/s]\n",
      "100%|██████████| 425/425 [00:25<00:00, 16.67it/s]\n"
     ]
    },
    {
     "name": "stdout",
     "output_type": "stream",
     "text": [
      "epoch=34: train_ppl=tensor(2.6685, device='cuda:0') train_epoch_loss=tensor(0.9815, device='cuda:0') eval_ppl=tensor(1113092., device='cuda:0') eval_epoch_loss=tensor(13.9227, device='cuda:0')\n"
     ]
    },
    {
     "name": "stderr",
     "output_type": "stream",
     "text": [
      "100%|██████████| 7/7 [00:00<00:00,  8.65it/s]\n",
      "100%|██████████| 425/425 [00:25<00:00, 16.68it/s]\n"
     ]
    },
    {
     "name": "stdout",
     "output_type": "stream",
     "text": [
      "epoch=35: train_ppl=tensor(2.6390, device='cuda:0') train_epoch_loss=tensor(0.9704, device='cuda:0') eval_ppl=tensor(1103362.3750, device='cuda:0') eval_epoch_loss=tensor(13.9139, device='cuda:0')\n"
     ]
    },
    {
     "name": "stderr",
     "output_type": "stream",
     "text": [
      "100%|██████████| 7/7 [00:00<00:00,  8.64it/s]\n",
      "100%|██████████| 425/425 [00:25<00:00, 16.70it/s]\n"
     ]
    },
    {
     "name": "stdout",
     "output_type": "stream",
     "text": [
      "epoch=36: train_ppl=tensor(2.3081, device='cuda:0') train_epoch_loss=tensor(0.8364, device='cuda:0') eval_ppl=tensor(871761.6250, device='cuda:0') eval_epoch_loss=tensor(13.6783, device='cuda:0')\n"
     ]
    },
    {
     "name": "stderr",
     "output_type": "stream",
     "text": [
      "100%|██████████| 7/7 [00:00<00:00,  8.75it/s]\n",
      "100%|██████████| 425/425 [00:25<00:00, 16.69it/s]\n"
     ]
    },
    {
     "name": "stdout",
     "output_type": "stream",
     "text": [
      "epoch=37: train_ppl=tensor(2.0807, device='cuda:0') train_epoch_loss=tensor(0.7327, device='cuda:0') eval_ppl=tensor(1187785.5000, device='cuda:0') eval_epoch_loss=tensor(13.9876, device='cuda:0')\n"
     ]
    },
    {
     "name": "stderr",
     "output_type": "stream",
     "text": [
      "100%|██████████| 7/7 [00:00<00:00,  8.43it/s]\n",
      "100%|██████████| 425/425 [00:25<00:00, 16.70it/s]\n"
     ]
    },
    {
     "name": "stdout",
     "output_type": "stream",
     "text": [
      "epoch=38: train_ppl=tensor(2.0457, device='cuda:0') train_epoch_loss=tensor(0.7157, device='cuda:0') eval_ppl=tensor(885743.2500, device='cuda:0') eval_epoch_loss=tensor(13.6942, device='cuda:0')\n"
     ]
    },
    {
     "name": "stderr",
     "output_type": "stream",
     "text": [
      "100%|██████████| 7/7 [00:00<00:00,  8.45it/s]\n",
      "100%|██████████| 425/425 [00:25<00:00, 16.68it/s]\n"
     ]
    },
    {
     "name": "stdout",
     "output_type": "stream",
     "text": [
      "epoch=39: train_ppl=tensor(1.8992, device='cuda:0') train_epoch_loss=tensor(0.6415, device='cuda:0') eval_ppl=tensor(960676.9375, device='cuda:0') eval_epoch_loss=tensor(13.7754, device='cuda:0')\n"
     ]
    },
    {
     "name": "stderr",
     "output_type": "stream",
     "text": [
      "100%|██████████| 7/7 [00:00<00:00,  8.56it/s]\n",
      "100%|██████████| 425/425 [00:25<00:00, 16.69it/s]\n"
     ]
    },
    {
     "name": "stdout",
     "output_type": "stream",
     "text": [
      "epoch=40: train_ppl=tensor(1.8040, device='cuda:0') train_epoch_loss=tensor(0.5900, device='cuda:0') eval_ppl=tensor(1017149.5625, device='cuda:0') eval_epoch_loss=tensor(13.8325, device='cuda:0')\n"
     ]
    },
    {
     "name": "stderr",
     "output_type": "stream",
     "text": [
      "100%|██████████| 7/7 [00:00<00:00,  8.57it/s]\n",
      "100%|██████████| 425/425 [00:25<00:00, 16.67it/s]\n"
     ]
    },
    {
     "name": "stdout",
     "output_type": "stream",
     "text": [
      "epoch=41: train_ppl=tensor(1.7467, device='cuda:0') train_epoch_loss=tensor(0.5577, device='cuda:0') eval_ppl=tensor(954078.5000, device='cuda:0') eval_epoch_loss=tensor(13.7685, device='cuda:0')\n"
     ]
    },
    {
     "name": "stderr",
     "output_type": "stream",
     "text": [
      "100%|██████████| 7/7 [00:00<00:00,  8.61it/s]\n",
      "100%|██████████| 425/425 [00:25<00:00, 16.70it/s]\n"
     ]
    },
    {
     "name": "stdout",
     "output_type": "stream",
     "text": [
      "epoch=42: train_ppl=tensor(1.6469, device='cuda:0') train_epoch_loss=tensor(0.4989, device='cuda:0') eval_ppl=tensor(1120674.6250, device='cuda:0') eval_epoch_loss=tensor(13.9294, device='cuda:0')\n"
     ]
    },
    {
     "name": "stderr",
     "output_type": "stream",
     "text": [
      "100%|██████████| 7/7 [00:00<00:00,  8.35it/s]\n",
      "100%|██████████| 425/425 [00:25<00:00, 16.69it/s]\n"
     ]
    },
    {
     "name": "stdout",
     "output_type": "stream",
     "text": [
      "epoch=43: train_ppl=tensor(1.5923, device='cuda:0') train_epoch_loss=tensor(0.4652, device='cuda:0') eval_ppl=tensor(1072183.8750, device='cuda:0') eval_epoch_loss=tensor(13.8852, device='cuda:0')\n"
     ]
    },
    {
     "name": "stderr",
     "output_type": "stream",
     "text": [
      "100%|██████████| 7/7 [00:00<00:00,  8.50it/s]\n",
      "100%|██████████| 425/425 [00:25<00:00, 16.68it/s]\n"
     ]
    },
    {
     "name": "stdout",
     "output_type": "stream",
     "text": [
      "epoch=44: train_ppl=tensor(1.6286, device='cuda:0') train_epoch_loss=tensor(0.4877, device='cuda:0') eval_ppl=tensor(1113374.3750, device='cuda:0') eval_epoch_loss=tensor(13.9229, device='cuda:0')\n"
     ]
    },
    {
     "name": "stderr",
     "output_type": "stream",
     "text": [
      "100%|██████████| 7/7 [00:00<00:00,  8.56it/s]\n",
      "100%|██████████| 425/425 [00:25<00:00, 16.68it/s]\n"
     ]
    },
    {
     "name": "stdout",
     "output_type": "stream",
     "text": [
      "epoch=45: train_ppl=tensor(1.5516, device='cuda:0') train_epoch_loss=tensor(0.4393, device='cuda:0') eval_ppl=tensor(1385079., device='cuda:0') eval_epoch_loss=tensor(14.1413, device='cuda:0')\n"
     ]
    },
    {
     "name": "stderr",
     "output_type": "stream",
     "text": [
      "100%|██████████| 7/7 [00:00<00:00,  8.56it/s]\n",
      "100%|██████████| 425/425 [00:25<00:00, 16.68it/s]\n"
     ]
    },
    {
     "name": "stdout",
     "output_type": "stream",
     "text": [
      "epoch=46: train_ppl=tensor(1.5472, device='cuda:0') train_epoch_loss=tensor(0.4364, device='cuda:0') eval_ppl=tensor(1442916., device='cuda:0') eval_epoch_loss=tensor(14.1822, device='cuda:0')\n"
     ]
    },
    {
     "name": "stderr",
     "output_type": "stream",
     "text": [
      "100%|██████████| 7/7 [00:00<00:00,  8.78it/s]\n",
      "100%|██████████| 425/425 [00:25<00:00, 16.68it/s]\n"
     ]
    },
    {
     "name": "stdout",
     "output_type": "stream",
     "text": [
      "epoch=47: train_ppl=tensor(1.4895, device='cuda:0') train_epoch_loss=tensor(0.3984, device='cuda:0') eval_ppl=tensor(1405874.2500, device='cuda:0') eval_epoch_loss=tensor(14.1562, device='cuda:0')\n"
     ]
    },
    {
     "name": "stderr",
     "output_type": "stream",
     "text": [
      "100%|██████████| 7/7 [00:00<00:00,  8.75it/s]\n",
      "100%|██████████| 425/425 [00:25<00:00, 16.68it/s]\n"
     ]
    },
    {
     "name": "stdout",
     "output_type": "stream",
     "text": [
      "epoch=48: train_ppl=tensor(1.4705, device='cuda:0') train_epoch_loss=tensor(0.3856, device='cuda:0') eval_ppl=tensor(1411344.3750, device='cuda:0') eval_epoch_loss=tensor(14.1601, device='cuda:0')\n"
     ]
    },
    {
     "name": "stderr",
     "output_type": "stream",
     "text": [
      "100%|██████████| 7/7 [00:00<00:00,  8.67it/s]\n",
      "100%|██████████| 425/425 [00:25<00:00, 16.67it/s]\n"
     ]
    },
    {
     "name": "stdout",
     "output_type": "stream",
     "text": [
      "epoch=49: train_ppl=tensor(1.4615, device='cuda:0') train_epoch_loss=tensor(0.3795, device='cuda:0') eval_ppl=tensor(1428084.3750, device='cuda:0') eval_epoch_loss=tensor(14.1718, device='cuda:0')\n"
     ]
    },
    {
     "data": {
      "text/html": [
       "Waiting for W&B process to finish... <strong style=\"color:green\">(success).</strong>"
      ],
      "text/plain": [
       "<IPython.core.display.HTML object>"
      ]
     },
     "metadata": {},
     "output_type": "display_data"
    },
    {
     "name": "stderr",
     "output_type": "stream",
     "text": [
      "wandb: WARNING Source type is set to 'repo' but some required information is missing from the environment. A job will not be created from this run. See https://docs.wandb.ai/guides/launch/create-job\n"
     ]
    },
    {
     "data": {
      "text/html": [
       "<style>\n",
       "    table.wandb td:nth-child(1) { padding: 0 10px; text-align: left ; width: auto;} td:nth-child(2) {text-align: left ; width: 100%}\n",
       "    .wandb-row { display: flex; flex-direction: row; flex-wrap: wrap; justify-content: flex-start; width: 100% }\n",
       "    .wandb-col { display: flex; flex-direction: column; flex-basis: 100%; flex: 1; padding: 10px; }\n",
       "    </style>\n",
       "<div class=\"wandb-row\"><div class=\"wandb-col\"><h3>Run history:</h3><br/><table class=\"wandb\"><tr><td>epoch</td><td>▁▁▁▁▂▂▂▂▂▃▃▃▃▃▃▄▄▄▄▄▅▅▅▅▅▅▆▆▆▆▆▆▇▇▇▇▇███</td></tr><tr><td>eval_epoch_loss</td><td>▂▁▁▁▁▂▂▂▃▃▃▃▄▅▄▅▅▅▆▅▄▅▆▇▇▇███▇█▇█▇██████</td></tr><tr><td>eval_ppl</td><td>▁▁▁▁▁▁▁▁▁▁▁▁▁▁▁▁▂▂▂▂▁▂▃▅▃▅▆▆▆▅▇▅▆▆▆▆████</td></tr><tr><td>train_epoch_loss</td><td>█▃▃▃▂▂▂▂▂▂▂▂▂▂▂▁▂▁▁▁▁▁▁▁▁▁▁▁▁▁▁▁▁▁▁▁▁▁▁▁</td></tr><tr><td>train_ppl</td><td>█▁▁▁▁▁▁▁▁▁▁▁▁▁▁▁▁▁▁▁▁▁▁▁▁▁▁▁▁▁▁▁▁▁▁▁▁▁▁▁</td></tr></table><br/></div><div class=\"wandb-col\"><h3>Run summary:</h3><br/><table class=\"wandb\"><tr><td>epoch</td><td>49</td></tr><tr><td>eval_epoch_loss</td><td>14.17184</td></tr><tr><td>eval_ppl</td><td>1428084.375</td></tr><tr><td>train_epoch_loss</td><td>0.37949</td></tr><tr><td>train_ppl</td><td>1.46153</td></tr></table><br/></div></div>"
      ],
      "text/plain": [
       "<IPython.core.display.HTML object>"
      ]
     },
     "metadata": {},
     "output_type": "display_data"
    },
    {
     "data": {
      "text/html": [
       " View run <strong style=\"color:#cdcd00\">run_1</strong> at: <a href='https://wandb.ai/rbelanec/bloomz-560m_prompt_tunning_casual_lm/runs/0o6b5zaa' target=\"_blank\">https://wandb.ai/rbelanec/bloomz-560m_prompt_tunning_casual_lm/runs/0o6b5zaa</a><br/>Synced 6 W&B file(s), 0 media file(s), 0 artifact file(s) and 0 other file(s)"
      ],
      "text/plain": [
       "<IPython.core.display.HTML object>"
      ]
     },
     "metadata": {},
     "output_type": "display_data"
    },
    {
     "data": {
      "text/html": [
       "Find logs at: <code>./wandb/run-20231019_071104-0o6b5zaa/logs</code>"
      ],
      "text/plain": [
       "<IPython.core.display.HTML object>"
      ]
     },
     "metadata": {},
     "output_type": "display_data"
    },
    {
     "name": "stderr",
     "output_type": "stream",
     "text": [
      "\u001b[34m\u001b[1mwandb\u001b[0m: Currently logged in as: \u001b[33mrobert-belanec\u001b[0m (\u001b[33mrbelanec\u001b[0m). Use \u001b[1m`wandb login --relogin`\u001b[0m to force relogin\n"
     ]
    },
    {
     "data": {
      "application/vnd.jupyter.widget-view+json": {
       "model_id": "95b1b9e2886e4352b2f938c61f48eec8",
       "version_major": 2,
       "version_minor": 0
      },
      "text/plain": [
       "VBox(children=(Label(value='Waiting for wandb.init()...\\r'), FloatProgress(value=0.011112471519865923, max=1.0…"
      ]
     },
     "metadata": {},
     "output_type": "display_data"
    },
    {
     "data": {
      "text/html": [
       "Tracking run with wandb version 0.15.12"
      ],
      "text/plain": [
       "<IPython.core.display.HTML object>"
      ]
     },
     "metadata": {},
     "output_type": "display_data"
    },
    {
     "data": {
      "text/html": [
       "Run data is saved locally in <code>/home/jovyan/KInIT/PhD/replication_challenge/wandb/run-20231019_073612-7wk9ydgd</code>"
      ],
      "text/plain": [
       "<IPython.core.display.HTML object>"
      ]
     },
     "metadata": {},
     "output_type": "display_data"
    },
    {
     "data": {
      "text/html": [
       "Syncing run <strong><a href='https://wandb.ai/rbelanec/bloomz-560m_prompt_tunning_casual_lm/runs/7wk9ydgd' target=\"_blank\">run_2</a></strong> to <a href='https://wandb.ai/rbelanec/bloomz-560m_prompt_tunning_casual_lm' target=\"_blank\">Weights & Biases</a> (<a href='https://wandb.me/run' target=\"_blank\">docs</a>)<br/>"
      ],
      "text/plain": [
       "<IPython.core.display.HTML object>"
      ]
     },
     "metadata": {},
     "output_type": "display_data"
    },
    {
     "data": {
      "text/html": [
       " View project at <a href='https://wandb.ai/rbelanec/bloomz-560m_prompt_tunning_casual_lm' target=\"_blank\">https://wandb.ai/rbelanec/bloomz-560m_prompt_tunning_casual_lm</a>"
      ],
      "text/plain": [
       "<IPython.core.display.HTML object>"
      ]
     },
     "metadata": {},
     "output_type": "display_data"
    },
    {
     "data": {
      "text/html": [
       " View run at <a href='https://wandb.ai/rbelanec/bloomz-560m_prompt_tunning_casual_lm/runs/7wk9ydgd' target=\"_blank\">https://wandb.ai/rbelanec/bloomz-560m_prompt_tunning_casual_lm/runs/7wk9ydgd</a>"
      ],
      "text/plain": [
       "<IPython.core.display.HTML object>"
      ]
     },
     "metadata": {},
     "output_type": "display_data"
    },
    {
     "name": "stdout",
     "output_type": "stream",
     "text": [
      "trainable params: 8,192 || all params: 559,222,784 || trainable%: 0.0014648902430985358\n"
     ]
    },
    {
     "name": "stderr",
     "output_type": "stream",
     "text": [
      "100%|██████████| 7/7 [00:00<00:00,  8.77it/s]\n",
      "100%|██████████| 425/425 [00:25<00:00, 16.80it/s]\n"
     ]
    },
    {
     "name": "stdout",
     "output_type": "stream",
     "text": [
      "epoch=0: train_ppl=tensor(7.2794e+12, device='cuda:0') train_epoch_loss=tensor(29.6161, device='cuda:0') eval_ppl=tensor(5357.9365, device='cuda:0') eval_epoch_loss=tensor(8.5863, device='cuda:0')\n"
     ]
    },
    {
     "name": "stderr",
     "output_type": "stream",
     "text": [
      "100%|██████████| 7/7 [00:00<00:00,  8.65it/s]\n",
      "100%|██████████| 425/425 [00:25<00:00, 16.77it/s]\n"
     ]
    },
    {
     "name": "stdout",
     "output_type": "stream",
     "text": [
      "epoch=1: train_ppl=tensor(2528.4409, device='cuda:0') train_epoch_loss=tensor(7.8354, device='cuda:0') eval_ppl=tensor(4073.4800, device='cuda:0') eval_epoch_loss=tensor(8.3123, device='cuda:0')\n"
     ]
    },
    {
     "name": "stderr",
     "output_type": "stream",
     "text": [
      "100%|██████████| 7/7 [00:00<00:00,  8.42it/s]\n",
      "100%|██████████| 425/425 [00:25<00:00, 16.75it/s]\n"
     ]
    },
    {
     "name": "stdout",
     "output_type": "stream",
     "text": [
      "epoch=2: train_ppl=tensor(315.3751, device='cuda:0') train_epoch_loss=tensor(5.7538, device='cuda:0') eval_ppl=tensor(4998.1343, device='cuda:0') eval_epoch_loss=tensor(8.5168, device='cuda:0')\n"
     ]
    },
    {
     "name": "stderr",
     "output_type": "stream",
     "text": [
      "100%|██████████| 7/7 [00:00<00:00,  8.38it/s]\n",
      "100%|██████████| 425/425 [00:25<00:00, 16.66it/s]\n"
     ]
    },
    {
     "name": "stdout",
     "output_type": "stream",
     "text": [
      "epoch=3: train_ppl=tensor(172.4394, device='cuda:0') train_epoch_loss=tensor(5.1500, device='cuda:0') eval_ppl=tensor(4854.7778, device='cuda:0') eval_epoch_loss=tensor(8.4877, device='cuda:0')\n"
     ]
    },
    {
     "name": "stderr",
     "output_type": "stream",
     "text": [
      "100%|██████████| 7/7 [00:00<00:00,  8.74it/s]\n",
      "100%|██████████| 425/425 [00:25<00:00, 16.68it/s]\n"
     ]
    },
    {
     "name": "stdout",
     "output_type": "stream",
     "text": [
      "epoch=4: train_ppl=tensor(120.1308, device='cuda:0') train_epoch_loss=tensor(4.7886, device='cuda:0') eval_ppl=tensor(5026.9692, device='cuda:0') eval_epoch_loss=tensor(8.5226, device='cuda:0')\n"
     ]
    },
    {
     "name": "stderr",
     "output_type": "stream",
     "text": [
      "100%|██████████| 7/7 [00:00<00:00,  8.37it/s]\n",
      "100%|██████████| 425/425 [00:25<00:00, 16.68it/s]\n"
     ]
    },
    {
     "name": "stdout",
     "output_type": "stream",
     "text": [
      "epoch=5: train_ppl=tensor(84.0298, device='cuda:0') train_epoch_loss=tensor(4.4312, device='cuda:0') eval_ppl=tensor(5310.4644, device='cuda:0') eval_epoch_loss=tensor(8.5774, device='cuda:0')\n"
     ]
    },
    {
     "name": "stderr",
     "output_type": "stream",
     "text": [
      "100%|██████████| 7/7 [00:00<00:00,  8.42it/s]\n",
      "100%|██████████| 425/425 [00:25<00:00, 16.68it/s]\n"
     ]
    },
    {
     "name": "stdout",
     "output_type": "stream",
     "text": [
      "epoch=6: train_ppl=tensor(64.9872, device='cuda:0') train_epoch_loss=tensor(4.1742, device='cuda:0') eval_ppl=tensor(6183.7319, device='cuda:0') eval_epoch_loss=tensor(8.7297, device='cuda:0')\n"
     ]
    },
    {
     "name": "stderr",
     "output_type": "stream",
     "text": [
      "100%|██████████| 7/7 [00:00<00:00,  8.53it/s]\n",
      "100%|██████████| 425/425 [00:25<00:00, 16.67it/s]\n"
     ]
    },
    {
     "name": "stdout",
     "output_type": "stream",
     "text": [
      "epoch=7: train_ppl=tensor(46.9676, device='cuda:0') train_epoch_loss=tensor(3.8495, device='cuda:0') eval_ppl=tensor(5348.3647, device='cuda:0') eval_epoch_loss=tensor(8.5845, device='cuda:0')\n"
     ]
    },
    {
     "name": "stderr",
     "output_type": "stream",
     "text": [
      "100%|██████████| 7/7 [00:00<00:00,  8.52it/s]\n",
      "100%|██████████| 425/425 [00:25<00:00, 16.68it/s]\n"
     ]
    },
    {
     "name": "stdout",
     "output_type": "stream",
     "text": [
      "epoch=8: train_ppl=tensor(31.4723, device='cuda:0') train_epoch_loss=tensor(3.4491, device='cuda:0') eval_ppl=tensor(5832.0093, device='cuda:0') eval_epoch_loss=tensor(8.6711, device='cuda:0')\n"
     ]
    },
    {
     "name": "stderr",
     "output_type": "stream",
     "text": [
      "100%|██████████| 7/7 [00:00<00:00,  8.54it/s]\n",
      "100%|██████████| 425/425 [00:25<00:00, 16.68it/s]\n"
     ]
    },
    {
     "name": "stdout",
     "output_type": "stream",
     "text": [
      "epoch=9: train_ppl=tensor(21.8920, device='cuda:0') train_epoch_loss=tensor(3.0861, device='cuda:0') eval_ppl=tensor(7713.1997, device='cuda:0') eval_epoch_loss=tensor(8.9507, device='cuda:0')\n"
     ]
    },
    {
     "name": "stderr",
     "output_type": "stream",
     "text": [
      "100%|██████████| 7/7 [00:00<00:00,  8.50it/s]\n",
      "100%|██████████| 425/425 [00:25<00:00, 16.68it/s]\n"
     ]
    },
    {
     "name": "stdout",
     "output_type": "stream",
     "text": [
      "epoch=10: train_ppl=tensor(16.9697, device='cuda:0') train_epoch_loss=tensor(2.8314, device='cuda:0') eval_ppl=tensor(13619.3398, device='cuda:0') eval_epoch_loss=tensor(9.5192, device='cuda:0')\n"
     ]
    },
    {
     "name": "stderr",
     "output_type": "stream",
     "text": [
      "100%|██████████| 7/7 [00:00<00:00,  8.53it/s]\n",
      "100%|██████████| 425/425 [00:25<00:00, 16.68it/s]\n"
     ]
    },
    {
     "name": "stdout",
     "output_type": "stream",
     "text": [
      "epoch=11: train_ppl=tensor(14.3628, device='cuda:0') train_epoch_loss=tensor(2.6646, device='cuda:0') eval_ppl=tensor(9310.6045, device='cuda:0') eval_epoch_loss=tensor(9.1389, device='cuda:0')\n"
     ]
    },
    {
     "name": "stderr",
     "output_type": "stream",
     "text": [
      "100%|██████████| 7/7 [00:00<00:00,  8.57it/s]\n",
      "100%|██████████| 425/425 [00:25<00:00, 16.67it/s]\n"
     ]
    },
    {
     "name": "stdout",
     "output_type": "stream",
     "text": [
      "epoch=12: train_ppl=tensor(9.3392, device='cuda:0') train_epoch_loss=tensor(2.2342, device='cuda:0') eval_ppl=tensor(21019.7441, device='cuda:0') eval_epoch_loss=tensor(9.9532, device='cuda:0')\n"
     ]
    },
    {
     "name": "stderr",
     "output_type": "stream",
     "text": [
      "100%|██████████| 7/7 [00:00<00:00,  8.62it/s]\n",
      "100%|██████████| 425/425 [00:25<00:00, 16.69it/s]\n"
     ]
    },
    {
     "name": "stdout",
     "output_type": "stream",
     "text": [
      "epoch=13: train_ppl=tensor(6.3016, device='cuda:0') train_epoch_loss=tensor(1.8408, device='cuda:0') eval_ppl=tensor(24469.5449, device='cuda:0') eval_epoch_loss=tensor(10.1052, device='cuda:0')\n"
     ]
    },
    {
     "name": "stderr",
     "output_type": "stream",
     "text": [
      "100%|██████████| 7/7 [00:00<00:00,  8.47it/s]\n",
      "100%|██████████| 425/425 [00:25<00:00, 16.68it/s]\n"
     ]
    },
    {
     "name": "stdout",
     "output_type": "stream",
     "text": [
      "epoch=14: train_ppl=tensor(4.5054, device='cuda:0') train_epoch_loss=tensor(1.5053, device='cuda:0') eval_ppl=tensor(39493.9727, device='cuda:0') eval_epoch_loss=tensor(10.5839, device='cuda:0')\n"
     ]
    },
    {
     "name": "stderr",
     "output_type": "stream",
     "text": [
      "100%|██████████| 7/7 [00:00<00:00,  8.74it/s]\n",
      "100%|██████████| 425/425 [00:25<00:00, 16.68it/s]\n"
     ]
    },
    {
     "name": "stdout",
     "output_type": "stream",
     "text": [
      "epoch=15: train_ppl=tensor(3.1072, device='cuda:0') train_epoch_loss=tensor(1.1337, device='cuda:0') eval_ppl=tensor(21519.1367, device='cuda:0') eval_epoch_loss=tensor(9.9767, device='cuda:0')\n"
     ]
    },
    {
     "name": "stderr",
     "output_type": "stream",
     "text": [
      "100%|██████████| 7/7 [00:00<00:00,  8.61it/s]\n",
      "100%|██████████| 425/425 [00:25<00:00, 16.69it/s]\n"
     ]
    },
    {
     "name": "stdout",
     "output_type": "stream",
     "text": [
      "epoch=16: train_ppl=tensor(2.3373, device='cuda:0') train_epoch_loss=tensor(0.8490, device='cuda:0') eval_ppl=tensor(20653.5039, device='cuda:0') eval_epoch_loss=tensor(9.9356, device='cuda:0')\n"
     ]
    },
    {
     "name": "stderr",
     "output_type": "stream",
     "text": [
      "100%|██████████| 7/7 [00:00<00:00,  8.27it/s]\n",
      "100%|██████████| 425/425 [00:25<00:00, 16.68it/s]\n"
     ]
    },
    {
     "name": "stdout",
     "output_type": "stream",
     "text": [
      "epoch=17: train_ppl=tensor(1.9580, device='cuda:0') train_epoch_loss=tensor(0.6719, device='cuda:0') eval_ppl=tensor(18780.7324, device='cuda:0') eval_epoch_loss=tensor(9.8406, device='cuda:0')\n"
     ]
    },
    {
     "name": "stderr",
     "output_type": "stream",
     "text": [
      "100%|██████████| 7/7 [00:00<00:00,  8.63it/s]\n",
      "100%|██████████| 425/425 [00:25<00:00, 16.68it/s]\n"
     ]
    },
    {
     "name": "stdout",
     "output_type": "stream",
     "text": [
      "epoch=18: train_ppl=tensor(1.6851, device='cuda:0') train_epoch_loss=tensor(0.5218, device='cuda:0') eval_ppl=tensor(40511.1680, device='cuda:0') eval_epoch_loss=tensor(10.6093, device='cuda:0')\n"
     ]
    },
    {
     "name": "stderr",
     "output_type": "stream",
     "text": [
      "100%|██████████| 7/7 [00:00<00:00,  8.63it/s]\n",
      "100%|██████████| 425/425 [00:25<00:00, 16.68it/s]\n"
     ]
    },
    {
     "name": "stdout",
     "output_type": "stream",
     "text": [
      "epoch=19: train_ppl=tensor(1.8563, device='cuda:0') train_epoch_loss=tensor(0.6186, device='cuda:0') eval_ppl=tensor(23113.3867, device='cuda:0') eval_epoch_loss=tensor(10.0482, device='cuda:0')\n"
     ]
    },
    {
     "name": "stderr",
     "output_type": "stream",
     "text": [
      "100%|██████████| 7/7 [00:00<00:00,  8.53it/s]\n",
      "100%|██████████| 425/425 [00:25<00:00, 16.68it/s]\n"
     ]
    },
    {
     "name": "stdout",
     "output_type": "stream",
     "text": [
      "epoch=20: train_ppl=tensor(1.5473, device='cuda:0') train_epoch_loss=tensor(0.4365, device='cuda:0') eval_ppl=tensor(18548.0898, device='cuda:0') eval_epoch_loss=tensor(9.8281, device='cuda:0')\n"
     ]
    },
    {
     "name": "stderr",
     "output_type": "stream",
     "text": [
      "100%|██████████| 7/7 [00:00<00:00,  8.55it/s]\n",
      "100%|██████████| 425/425 [00:25<00:00, 16.67it/s]\n"
     ]
    },
    {
     "name": "stdout",
     "output_type": "stream",
     "text": [
      "epoch=21: train_ppl=tensor(1.6197, device='cuda:0') train_epoch_loss=tensor(0.4822, device='cuda:0') eval_ppl=tensor(12760.2627, device='cuda:0') eval_epoch_loss=tensor(9.4541, device='cuda:0')\n"
     ]
    },
    {
     "name": "stderr",
     "output_type": "stream",
     "text": [
      "100%|██████████| 7/7 [00:00<00:00,  8.77it/s]\n",
      "100%|██████████| 425/425 [00:25<00:00, 16.68it/s]\n"
     ]
    },
    {
     "name": "stdout",
     "output_type": "stream",
     "text": [
      "epoch=22: train_ppl=tensor(1.4938, device='cuda:0') train_epoch_loss=tensor(0.4014, device='cuda:0') eval_ppl=tensor(16094.8936, device='cuda:0') eval_epoch_loss=tensor(9.6863, device='cuda:0')\n"
     ]
    },
    {
     "name": "stderr",
     "output_type": "stream",
     "text": [
      "100%|██████████| 7/7 [00:00<00:00,  8.57it/s]\n",
      "100%|██████████| 425/425 [00:25<00:00, 16.68it/s]\n"
     ]
    },
    {
     "name": "stdout",
     "output_type": "stream",
     "text": [
      "epoch=23: train_ppl=tensor(1.3317, device='cuda:0') train_epoch_loss=tensor(0.2864, device='cuda:0') eval_ppl=tensor(22076.9805, device='cuda:0') eval_epoch_loss=tensor(10.0023, device='cuda:0')\n"
     ]
    },
    {
     "name": "stderr",
     "output_type": "stream",
     "text": [
      "100%|██████████| 7/7 [00:00<00:00,  8.36it/s]\n",
      "100%|██████████| 425/425 [00:25<00:00, 16.68it/s]\n"
     ]
    },
    {
     "name": "stdout",
     "output_type": "stream",
     "text": [
      "epoch=24: train_ppl=tensor(1.2616, device='cuda:0') train_epoch_loss=tensor(0.2324, device='cuda:0') eval_ppl=tensor(47196.5234, device='cuda:0') eval_epoch_loss=tensor(10.7621, device='cuda:0')\n"
     ]
    },
    {
     "name": "stderr",
     "output_type": "stream",
     "text": [
      "100%|██████████| 7/7 [00:00<00:00,  8.57it/s]\n",
      "100%|██████████| 425/425 [00:25<00:00, 16.68it/s]\n"
     ]
    },
    {
     "name": "stdout",
     "output_type": "stream",
     "text": [
      "epoch=25: train_ppl=tensor(1.2490, device='cuda:0') train_epoch_loss=tensor(0.2224, device='cuda:0') eval_ppl=tensor(54790.7617, device='cuda:0') eval_epoch_loss=tensor(10.9113, device='cuda:0')\n"
     ]
    },
    {
     "name": "stderr",
     "output_type": "stream",
     "text": [
      "100%|██████████| 7/7 [00:00<00:00,  8.57it/s]\n",
      "100%|██████████| 425/425 [00:25<00:00, 16.68it/s]\n"
     ]
    },
    {
     "name": "stdout",
     "output_type": "stream",
     "text": [
      "epoch=26: train_ppl=tensor(1.2555, device='cuda:0') train_epoch_loss=tensor(0.2275, device='cuda:0') eval_ppl=tensor(47388.5625, device='cuda:0') eval_epoch_loss=tensor(10.7661, device='cuda:0')\n"
     ]
    },
    {
     "name": "stderr",
     "output_type": "stream",
     "text": [
      "100%|██████████| 7/7 [00:00<00:00,  8.64it/s]\n",
      "100%|██████████| 425/425 [00:25<00:00, 16.68it/s]\n"
     ]
    },
    {
     "name": "stdout",
     "output_type": "stream",
     "text": [
      "epoch=27: train_ppl=tensor(1.2181, device='cuda:0') train_epoch_loss=tensor(0.1973, device='cuda:0') eval_ppl=tensor(54185.1797, device='cuda:0') eval_epoch_loss=tensor(10.9002, device='cuda:0')\n"
     ]
    },
    {
     "name": "stderr",
     "output_type": "stream",
     "text": [
      "100%|██████████| 7/7 [00:00<00:00,  8.73it/s]\n",
      "100%|██████████| 425/425 [00:25<00:00, 16.68it/s]\n"
     ]
    },
    {
     "name": "stdout",
     "output_type": "stream",
     "text": [
      "epoch=28: train_ppl=tensor(1.3149, device='cuda:0') train_epoch_loss=tensor(0.2738, device='cuda:0') eval_ppl=tensor(35922.7852, device='cuda:0') eval_epoch_loss=tensor(10.4891, device='cuda:0')\n"
     ]
    },
    {
     "name": "stderr",
     "output_type": "stream",
     "text": [
      "100%|██████████| 7/7 [00:00<00:00,  8.57it/s]\n",
      "100%|██████████| 425/425 [00:25<00:00, 16.68it/s]\n"
     ]
    },
    {
     "name": "stdout",
     "output_type": "stream",
     "text": [
      "epoch=29: train_ppl=tensor(1.2037, device='cuda:0') train_epoch_loss=tensor(0.1854, device='cuda:0') eval_ppl=tensor(52663.0273, device='cuda:0') eval_epoch_loss=tensor(10.8717, device='cuda:0')\n"
     ]
    },
    {
     "name": "stderr",
     "output_type": "stream",
     "text": [
      "100%|██████████| 7/7 [00:00<00:00,  8.57it/s]\n",
      "100%|██████████| 425/425 [00:25<00:00, 16.68it/s]\n"
     ]
    },
    {
     "name": "stdout",
     "output_type": "stream",
     "text": [
      "epoch=30: train_ppl=tensor(1.1753, device='cuda:0') train_epoch_loss=tensor(0.1615, device='cuda:0') eval_ppl=tensor(64595.6914, device='cuda:0') eval_epoch_loss=tensor(11.0759, device='cuda:0')\n"
     ]
    },
    {
     "name": "stderr",
     "output_type": "stream",
     "text": [
      "100%|██████████| 7/7 [00:00<00:00,  8.36it/s]\n",
      "100%|██████████| 425/425 [00:25<00:00, 16.68it/s]\n"
     ]
    },
    {
     "name": "stdout",
     "output_type": "stream",
     "text": [
      "epoch=31: train_ppl=tensor(1.3131, device='cuda:0') train_epoch_loss=tensor(0.2724, device='cuda:0') eval_ppl=tensor(30423.0566, device='cuda:0') eval_epoch_loss=tensor(10.3230, device='cuda:0')\n"
     ]
    },
    {
     "name": "stderr",
     "output_type": "stream",
     "text": [
      "100%|██████████| 7/7 [00:00<00:00,  8.65it/s]\n",
      "100%|██████████| 425/425 [00:25<00:00, 16.67it/s]\n"
     ]
    },
    {
     "name": "stdout",
     "output_type": "stream",
     "text": [
      "epoch=32: train_ppl=tensor(1.2615, device='cuda:0') train_epoch_loss=tensor(0.2323, device='cuda:0') eval_ppl=tensor(40267.1992, device='cuda:0') eval_epoch_loss=tensor(10.6033, device='cuda:0')\n"
     ]
    },
    {
     "name": "stderr",
     "output_type": "stream",
     "text": [
      "100%|██████████| 7/7 [00:00<00:00,  8.66it/s]\n",
      "100%|██████████| 425/425 [00:25<00:00, 16.68it/s]\n"
     ]
    },
    {
     "name": "stdout",
     "output_type": "stream",
     "text": [
      "epoch=33: train_ppl=tensor(1.2114, device='cuda:0') train_epoch_loss=tensor(0.1918, device='cuda:0') eval_ppl=tensor(60221.0625, device='cuda:0') eval_epoch_loss=tensor(11.0058, device='cuda:0')\n"
     ]
    },
    {
     "name": "stderr",
     "output_type": "stream",
     "text": [
      "100%|██████████| 7/7 [00:00<00:00,  8.44it/s]\n",
      "100%|██████████| 425/425 [00:25<00:00, 16.68it/s]\n"
     ]
    },
    {
     "name": "stdout",
     "output_type": "stream",
     "text": [
      "epoch=34: train_ppl=tensor(1.1612, device='cuda:0') train_epoch_loss=tensor(0.1495, device='cuda:0') eval_ppl=tensor(50349.6016, device='cuda:0') eval_epoch_loss=tensor(10.8267, device='cuda:0')\n"
     ]
    },
    {
     "name": "stderr",
     "output_type": "stream",
     "text": [
      "100%|██████████| 7/7 [00:00<00:00,  8.35it/s]\n",
      "100%|██████████| 425/425 [00:25<00:00, 16.68it/s]\n"
     ]
    },
    {
     "name": "stdout",
     "output_type": "stream",
     "text": [
      "epoch=35: train_ppl=tensor(1.1786, device='cuda:0') train_epoch_loss=tensor(0.1643, device='cuda:0') eval_ppl=tensor(65326.4023, device='cuda:0') eval_epoch_loss=tensor(11.0872, device='cuda:0')\n"
     ]
    },
    {
     "name": "stderr",
     "output_type": "stream",
     "text": [
      "100%|██████████| 7/7 [00:00<00:00,  8.52it/s]\n",
      "100%|██████████| 425/425 [00:25<00:00, 16.68it/s]\n"
     ]
    },
    {
     "name": "stdout",
     "output_type": "stream",
     "text": [
      "epoch=36: train_ppl=tensor(1.1537, device='cuda:0') train_epoch_loss=tensor(0.1430, device='cuda:0') eval_ppl=tensor(58730.6914, device='cuda:0') eval_epoch_loss=tensor(10.9807, device='cuda:0')\n"
     ]
    },
    {
     "name": "stderr",
     "output_type": "stream",
     "text": [
      "100%|██████████| 7/7 [00:00<00:00,  8.51it/s]\n",
      "100%|██████████| 425/425 [00:25<00:00, 16.68it/s]\n"
     ]
    },
    {
     "name": "stdout",
     "output_type": "stream",
     "text": [
      "epoch=37: train_ppl=tensor(1.1450, device='cuda:0') train_epoch_loss=tensor(0.1354, device='cuda:0') eval_ppl=tensor(70118.4844, device='cuda:0') eval_epoch_loss=tensor(11.1579, device='cuda:0')\n"
     ]
    },
    {
     "name": "stderr",
     "output_type": "stream",
     "text": [
      "100%|██████████| 7/7 [00:00<00:00,  8.75it/s]\n",
      "100%|██████████| 425/425 [00:25<00:00, 16.68it/s]\n"
     ]
    },
    {
     "name": "stdout",
     "output_type": "stream",
     "text": [
      "epoch=38: train_ppl=tensor(1.1242, device='cuda:0') train_epoch_loss=tensor(0.1171, device='cuda:0') eval_ppl=tensor(73181.1406, device='cuda:0') eval_epoch_loss=tensor(11.2007, device='cuda:0')\n"
     ]
    },
    {
     "name": "stderr",
     "output_type": "stream",
     "text": [
      "100%|██████████| 7/7 [00:00<00:00,  8.51it/s]\n",
      "100%|██████████| 425/425 [00:25<00:00, 16.68it/s]\n"
     ]
    },
    {
     "name": "stdout",
     "output_type": "stream",
     "text": [
      "epoch=39: train_ppl=tensor(1.1663, device='cuda:0') train_epoch_loss=tensor(0.1539, device='cuda:0') eval_ppl=tensor(68697.5859, device='cuda:0') eval_epoch_loss=tensor(11.1375, device='cuda:0')\n"
     ]
    },
    {
     "name": "stderr",
     "output_type": "stream",
     "text": [
      "100%|██████████| 7/7 [00:00<00:00,  8.76it/s]\n",
      "100%|██████████| 425/425 [00:25<00:00, 16.68it/s]\n"
     ]
    },
    {
     "name": "stdout",
     "output_type": "stream",
     "text": [
      "epoch=40: train_ppl=tensor(1.1734, device='cuda:0') train_epoch_loss=tensor(0.1599, device='cuda:0') eval_ppl=tensor(49961.3516, device='cuda:0') eval_epoch_loss=tensor(10.8190, device='cuda:0')\n"
     ]
    },
    {
     "name": "stderr",
     "output_type": "stream",
     "text": [
      "100%|██████████| 7/7 [00:00<00:00,  8.76it/s]\n",
      "100%|██████████| 425/425 [00:25<00:00, 16.68it/s]\n"
     ]
    },
    {
     "name": "stdout",
     "output_type": "stream",
     "text": [
      "epoch=41: train_ppl=tensor(1.0958, device='cuda:0') train_epoch_loss=tensor(0.0915, device='cuda:0') eval_ppl=tensor(55654.0156, device='cuda:0') eval_epoch_loss=tensor(10.9269, device='cuda:0')\n"
     ]
    },
    {
     "name": "stderr",
     "output_type": "stream",
     "text": [
      "100%|██████████| 7/7 [00:00<00:00,  8.53it/s]\n",
      "100%|██████████| 425/425 [00:25<00:00, 16.68it/s]\n"
     ]
    },
    {
     "name": "stdout",
     "output_type": "stream",
     "text": [
      "epoch=42: train_ppl=tensor(1.0932, device='cuda:0') train_epoch_loss=tensor(0.0891, device='cuda:0') eval_ppl=tensor(67724.8203, device='cuda:0') eval_epoch_loss=tensor(11.1232, device='cuda:0')\n"
     ]
    },
    {
     "name": "stderr",
     "output_type": "stream",
     "text": [
      "100%|██████████| 7/7 [00:00<00:00,  8.50it/s]\n",
      "100%|██████████| 425/425 [00:25<00:00, 16.68it/s]\n"
     ]
    },
    {
     "name": "stdout",
     "output_type": "stream",
     "text": [
      "epoch=43: train_ppl=tensor(1.0979, device='cuda:0') train_epoch_loss=tensor(0.0934, device='cuda:0') eval_ppl=tensor(80168.6875, device='cuda:0') eval_epoch_loss=tensor(11.2919, device='cuda:0')\n"
     ]
    },
    {
     "name": "stderr",
     "output_type": "stream",
     "text": [
      "100%|██████████| 7/7 [00:00<00:00,  8.61it/s]\n",
      "100%|██████████| 425/425 [00:25<00:00, 16.68it/s]\n"
     ]
    },
    {
     "name": "stdout",
     "output_type": "stream",
     "text": [
      "epoch=48: train_ppl=tensor(1.0650, device='cuda:0') train_epoch_loss=tensor(0.0630, device='cuda:0') eval_ppl=tensor(85026.9297, device='cuda:0') eval_epoch_loss=tensor(11.3507, device='cuda:0')\n"
     ]
    },
    {
     "name": "stderr",
     "output_type": "stream",
     "text": [
      "100%|██████████| 7/7 [00:00<00:00,  8.62it/s]\n",
      "100%|██████████| 425/425 [00:25<00:00, 16.69it/s]"
     ]
    },
    {
     "name": "stdout",
     "output_type": "stream",
     "text": [
      "epoch=49: train_ppl=tensor(1.0647, device='cuda:0') train_epoch_loss=tensor(0.0627, device='cuda:0') eval_ppl=tensor(84989.6328, device='cuda:0') eval_epoch_loss=tensor(11.3503, device='cuda:0')\n"
     ]
    },
    {
     "name": "stderr",
     "output_type": "stream",
     "text": [
      "\n"
     ]
    },
    {
     "data": {
      "text/html": [
       "Waiting for W&B process to finish... <strong style=\"color:green\">(success).</strong>"
      ],
      "text/plain": [
       "<IPython.core.display.HTML object>"
      ]
     },
     "metadata": {},
     "output_type": "display_data"
    },
    {
     "name": "stderr",
     "output_type": "stream",
     "text": [
      "wandb: WARNING Source type is set to 'repo' but some required information is missing from the environment. A job will not be created from this run. See https://docs.wandb.ai/guides/launch/create-job\n"
     ]
    },
    {
     "data": {
      "application/vnd.jupyter.widget-view+json": {
       "model_id": "494dd8cefab94d9287bbdd7582f87325",
       "version_major": 2,
       "version_minor": 0
      },
      "text/plain": [
       "VBox(children=(Label(value='0.014 MB of 0.014 MB uploaded (0.000 MB deduped)\\r'), FloatProgress(value=1.0, max…"
      ]
     },
     "metadata": {},
     "output_type": "display_data"
    },
    {
     "data": {
      "text/html": [
       "<style>\n",
       "    table.wandb td:nth-child(1) { padding: 0 10px; text-align: left ; width: auto;} td:nth-child(2) {text-align: left ; width: 100%}\n",
       "    .wandb-row { display: flex; flex-direction: row; flex-wrap: wrap; justify-content: flex-start; width: 100% }\n",
       "    .wandb-col { display: flex; flex-direction: column; flex-basis: 100%; flex: 1; padding: 10px; }\n",
       "    </style>\n",
       "<div class=\"wandb-row\"><div class=\"wandb-col\"><h3>Run history:</h3><br/><table class=\"wandb\"><tr><td>epoch</td><td>▁▁▁▁▂▂▂▂▂▃▃▃▃▃▃▄▄▄▄▄▅▅▅▅▅▅▆▆▆▆▆▆▇▇▇▇▇███</td></tr><tr><td>eval_epoch_loss</td><td>▂▁▁▁▂▂▂▂▄▃▅▅▅▅▅▆▄▄▄▅▇▇▇▆▇▆▆▇▇▇██▇▇▇█████</td></tr><tr><td>eval_ppl</td><td>▁▁▁▁▁▁▁▁▂▁▂▃▃▂▂▄▂▂▂▃▅▅▅▄▆▃▄▆▆▆▇▇▅▅▇█▇███</td></tr><tr><td>train_epoch_loss</td><td>█▃▂▂▂▂▂▂▂▂▂▁▁▁▁▁▁▁▁▁▁▁▁▁▁▁▁▁▁▁▁▁▁▁▁▁▁▁▁▁</td></tr><tr><td>train_ppl</td><td>█▁▁▁▁▁▁▁▁▁▁▁▁▁▁▁▁▁▁▁▁▁▁▁▁▁▁▁▁▁▁▁▁▁▁▁▁▁▁▁</td></tr></table><br/></div><div class=\"wandb-col\"><h3>Run summary:</h3><br/><table class=\"wandb\"><tr><td>epoch</td><td>49</td></tr><tr><td>eval_epoch_loss</td><td>11.35028</td></tr><tr><td>eval_ppl</td><td>84989.63281</td></tr><tr><td>train_epoch_loss</td><td>0.06272</td></tr><tr><td>train_ppl</td><td>1.06473</td></tr></table><br/></div></div>"
      ],
      "text/plain": [
       "<IPython.core.display.HTML object>"
      ]
     },
     "metadata": {},
     "output_type": "display_data"
    },
    {
     "data": {
      "text/html": [
       " View run <strong style=\"color:#cdcd00\">run_2</strong> at: <a href='https://wandb.ai/rbelanec/bloomz-560m_prompt_tunning_casual_lm/runs/7wk9ydgd' target=\"_blank\">https://wandb.ai/rbelanec/bloomz-560m_prompt_tunning_casual_lm/runs/7wk9ydgd</a><br/>Synced 6 W&B file(s), 0 media file(s), 0 artifact file(s) and 0 other file(s)"
      ],
      "text/plain": [
       "<IPython.core.display.HTML object>"
      ]
     },
     "metadata": {},
     "output_type": "display_data"
    },
    {
     "data": {
      "text/html": [
       "Find logs at: <code>./wandb/run-20231019_073612-7wk9ydgd/logs</code>"
      ],
      "text/plain": [
       "<IPython.core.display.HTML object>"
      ]
     },
     "metadata": {},
     "output_type": "display_data"
    },
    {
     "data": {
      "application/vnd.jupyter.widget-view+json": {
       "model_id": "081f674194e34ae1a4bde40d788d283e",
       "version_major": 2,
       "version_minor": 0
      },
      "text/plain": [
       "VBox(children=(Label(value='Waiting for wandb.init()...\\r'), FloatProgress(value=0.011112396111194458, max=1.0…"
      ]
     },
     "metadata": {},
     "output_type": "display_data"
    },
    {
     "data": {
      "text/html": [
       "Tracking run with wandb version 0.15.12"
      ],
      "text/plain": [
       "<IPython.core.display.HTML object>"
      ]
     },
     "metadata": {},
     "output_type": "display_data"
    },
    {
     "data": {
      "text/html": [
       "Run data is saved locally in <code>/home/jovyan/KInIT/PhD/replication_challenge/wandb/run-20231019_075830-9svr0gm3</code>"
      ],
      "text/plain": [
       "<IPython.core.display.HTML object>"
      ]
     },
     "metadata": {},
     "output_type": "display_data"
    },
    {
     "data": {
      "text/html": [
       "Syncing run <strong><a href='https://wandb.ai/rbelanec/bloomz-560m_prompt_tunning_casual_lm/runs/9svr0gm3' target=\"_blank\">run_3</a></strong> to <a href='https://wandb.ai/rbelanec/bloomz-560m_prompt_tunning_casual_lm' target=\"_blank\">Weights & Biases</a> (<a href='https://wandb.me/run' target=\"_blank\">docs</a>)<br/>"
      ],
      "text/plain": [
       "<IPython.core.display.HTML object>"
      ]
     },
     "metadata": {},
     "output_type": "display_data"
    },
    {
     "data": {
      "text/html": [
       " View project at <a href='https://wandb.ai/rbelanec/bloomz-560m_prompt_tunning_casual_lm' target=\"_blank\">https://wandb.ai/rbelanec/bloomz-560m_prompt_tunning_casual_lm</a>"
      ],
      "text/plain": [
       "<IPython.core.display.HTML object>"
      ]
     },
     "metadata": {},
     "output_type": "display_data"
    },
    {
     "data": {
      "text/html": [
       " View run at <a href='https://wandb.ai/rbelanec/bloomz-560m_prompt_tunning_casual_lm/runs/9svr0gm3' target=\"_blank\">https://wandb.ai/rbelanec/bloomz-560m_prompt_tunning_casual_lm/runs/9svr0gm3</a>"
      ],
      "text/plain": [
       "<IPython.core.display.HTML object>"
      ]
     },
     "metadata": {},
     "output_type": "display_data"
    },
    {
     "name": "stdout",
     "output_type": "stream",
     "text": [
      "trainable params: 8,192 || all params: 559,222,784 || trainable%: 0.0014648902430985358\n"
     ]
    },
    {
     "name": "stderr",
     "output_type": "stream",
     "text": [
      "100%|██████████| 7/7 [00:00<00:00,  8.61it/s]\n",
      "100%|██████████| 425/425 [00:25<00:00, 16.82it/s]\n"
     ]
    },
    {
     "name": "stdout",
     "output_type": "stream",
     "text": [
      "epoch=0: train_ppl=tensor(4.7644e+15, device='cuda:0') train_epoch_loss=tensor(36.0999, device='cuda:0') eval_ppl=tensor(14897.1309, device='cuda:0') eval_epoch_loss=tensor(9.6089, device='cuda:0')\n"
     ]
    },
    {
     "name": "stderr",
     "output_type": "stream",
     "text": [
      "100%|██████████| 7/7 [00:00<00:00,  8.31it/s]\n",
      "100%|██████████| 425/425 [00:25<00:00, 16.76it/s]\n"
     ]
    },
    {
     "name": "stdout",
     "output_type": "stream",
     "text": [
      "epoch=1: train_ppl=tensor(91517.4453, device='cuda:0') train_epoch_loss=tensor(11.4243, device='cuda:0') eval_ppl=tensor(8017.8584, device='cuda:0') eval_epoch_loss=tensor(8.9894, device='cuda:0')\n"
     ]
    },
    {
     "name": "stderr",
     "output_type": "stream",
     "text": [
      "100%|██████████| 7/7 [00:00<00:00,  8.40it/s]\n",
      "100%|██████████| 425/425 [00:25<00:00, 16.72it/s]\n"
     ]
    },
    {
     "name": "stdout",
     "output_type": "stream",
     "text": [
      "epoch=2: train_ppl=tensor(4147.0581, device='cuda:0') train_epoch_loss=tensor(8.3302, device='cuda:0') eval_ppl=tensor(11366.3467, device='cuda:0') eval_epoch_loss=tensor(9.3384, device='cuda:0')\n"
     ]
    },
    {
     "name": "stderr",
     "output_type": "stream",
     "text": [
      "100%|██████████| 7/7 [00:00<00:00,  8.24it/s]\n",
      "100%|██████████| 425/425 [00:25<00:00, 16.66it/s]\n"
     ]
    },
    {
     "name": "stdout",
     "output_type": "stream",
     "text": [
      "epoch=3: train_ppl=tensor(655.2675, device='cuda:0') train_epoch_loss=tensor(6.4850, device='cuda:0') eval_ppl=tensor(10403.4844, device='cuda:0') eval_epoch_loss=tensor(9.2499, device='cuda:0')\n"
     ]
    },
    {
     "name": "stderr",
     "output_type": "stream",
     "text": [
      "100%|██████████| 7/7 [00:00<00:00,  8.49it/s]\n",
      "100%|██████████| 425/425 [00:25<00:00, 16.68it/s]\n"
     ]
    },
    {
     "name": "stdout",
     "output_type": "stream",
     "text": [
      "epoch=4: train_ppl=tensor(303.9400, device='cuda:0') train_epoch_loss=tensor(5.7168, device='cuda:0') eval_ppl=tensor(14210.7393, device='cuda:0') eval_epoch_loss=tensor(9.5618, device='cuda:0')\n"
     ]
    },
    {
     "name": "stderr",
     "output_type": "stream",
     "text": [
      "100%|██████████| 7/7 [00:00<00:00,  8.35it/s]\n",
      "100%|██████████| 425/425 [00:25<00:00, 16.68it/s]\n"
     ]
    },
    {
     "name": "stdout",
     "output_type": "stream",
     "text": [
      "epoch=5: train_ppl=tensor(215.4874, device='cuda:0') train_epoch_loss=tensor(5.3729, device='cuda:0') eval_ppl=tensor(14155.8242, device='cuda:0') eval_epoch_loss=tensor(9.5579, device='cuda:0')\n"
     ]
    },
    {
     "name": "stderr",
     "output_type": "stream",
     "text": [
      "100%|██████████| 7/7 [00:00<00:00,  8.53it/s]\n",
      "100%|██████████| 425/425 [00:25<00:00, 16.68it/s]\n"
     ]
    },
    {
     "name": "stdout",
     "output_type": "stream",
     "text": [
      "epoch=6: train_ppl=tensor(170.3973, device='cuda:0') train_epoch_loss=tensor(5.1381, device='cuda:0') eval_ppl=tensor(12769.9043, device='cuda:0') eval_epoch_loss=tensor(9.4548, device='cuda:0')\n"
     ]
    },
    {
     "name": "stderr",
     "output_type": "stream",
     "text": [
      "100%|██████████| 7/7 [00:00<00:00,  8.59it/s]\n",
      "100%|██████████| 425/425 [00:25<00:00, 16.67it/s]\n"
     ]
    },
    {
     "name": "stdout",
     "output_type": "stream",
     "text": [
      "epoch=7: train_ppl=tensor(130.5339, device='cuda:0') train_epoch_loss=tensor(4.8716, device='cuda:0') eval_ppl=tensor(19752.5137, device='cuda:0') eval_epoch_loss=tensor(9.8910, device='cuda:0')\n"
     ]
    },
    {
     "name": "stderr",
     "output_type": "stream",
     "text": [
      "100%|██████████| 7/7 [00:00<00:00,  8.30it/s]\n",
      "100%|██████████| 425/425 [00:25<00:00, 16.68it/s]\n"
     ]
    },
    {
     "name": "stdout",
     "output_type": "stream",
     "text": [
      "epoch=8: train_ppl=tensor(96.5464, device='cuda:0') train_epoch_loss=tensor(4.5700, device='cuda:0') eval_ppl=tensor(28497.2441, device='cuda:0') eval_epoch_loss=tensor(10.2576, device='cuda:0')\n"
     ]
    },
    {
     "name": "stderr",
     "output_type": "stream",
     "text": [
      "100%|██████████| 7/7 [00:00<00:00,  8.73it/s]\n",
      "100%|██████████| 425/425 [00:25<00:00, 16.68it/s]\n"
     ]
    },
    {
     "name": "stdout",
     "output_type": "stream",
     "text": [
      "epoch=9: train_ppl=tensor(68.4862, device='cuda:0') train_epoch_loss=tensor(4.2266, device='cuda:0') eval_ppl=tensor(38949.0703, device='cuda:0') eval_epoch_loss=tensor(10.5700, device='cuda:0')\n"
     ]
    },
    {
     "name": "stderr",
     "output_type": "stream",
     "text": [
      "100%|██████████| 7/7 [00:00<00:00,  8.58it/s]\n",
      "100%|██████████| 425/425 [00:25<00:00, 16.68it/s]\n"
     ]
    },
    {
     "name": "stdout",
     "output_type": "stream",
     "text": [
      "epoch=10: train_ppl=tensor(52.7933, device='cuda:0') train_epoch_loss=tensor(3.9664, device='cuda:0') eval_ppl=tensor(42054.0625, device='cuda:0') eval_epoch_loss=tensor(10.6467, device='cuda:0')\n"
     ]
    },
    {
     "name": "stderr",
     "output_type": "stream",
     "text": [
      "100%|██████████| 7/7 [00:00<00:00,  8.54it/s]\n",
      " 38%|███▊      | 162/425 [00:09<00:15, 16.69it/s]IOPub message rate exceeded.\n",
      "The Jupyter server will temporarily stop sending output\n",
      "to the client in order to avoid crashing it.\n",
      "To change this limit, set the config variable\n",
      "`--ServerApp.iopub_msg_rate_limit`.\n",
      "\n",
      "Current values:\n",
      "ServerApp.iopub_msg_rate_limit=1000.0 (msgs/sec)\n",
      "ServerApp.rate_limit_window=3.0 (secs)\n",
      "\n",
      "100%|██████████| 425/425 [00:25<00:00, 16.68it/s]\n"
     ]
    },
    {
     "name": "stdout",
     "output_type": "stream",
     "text": [
      "epoch=18: train_ppl=tensor(38.2894, device='cuda:0') train_epoch_loss=tensor(3.6452, device='cuda:0') eval_ppl=tensor(185658.5156, device='cuda:0') eval_epoch_loss=tensor(12.1317, device='cuda:0')\n"
     ]
    },
    {
     "name": "stderr",
     "output_type": "stream",
     "text": [
      "100%|██████████| 7/7 [00:00<00:00,  8.38it/s]\n",
      "100%|██████████| 425/425 [00:25<00:00, 16.69it/s]\n"
     ]
    },
    {
     "name": "stdout",
     "output_type": "stream",
     "text": [
      "epoch=19: train_ppl=tensor(35.0785, device='cuda:0') train_epoch_loss=tensor(3.5576, device='cuda:0') eval_ppl=tensor(145508.3906, device='cuda:0') eval_epoch_loss=tensor(11.8880, device='cuda:0')\n"
     ]
    },
    {
     "name": "stderr",
     "output_type": "stream",
     "text": [
      "100%|██████████| 7/7 [00:00<00:00,  8.46it/s]\n",
      "100%|██████████| 425/425 [00:25<00:00, 16.68it/s]\n"
     ]
    },
    {
     "name": "stdout",
     "output_type": "stream",
     "text": [
      "epoch=20: train_ppl=tensor(26.5294, device='cuda:0') train_epoch_loss=tensor(3.2783, device='cuda:0') eval_ppl=tensor(208657.4844, device='cuda:0') eval_epoch_loss=tensor(12.2484, device='cuda:0')\n"
     ]
    },
    {
     "name": "stderr",
     "output_type": "stream",
     "text": [
      "100%|██████████| 7/7 [00:00<00:00,  8.53it/s]\n",
      "100%|██████████| 425/425 [00:25<00:00, 16.68it/s]\n"
     ]
    },
    {
     "name": "stdout",
     "output_type": "stream",
     "text": [
      "epoch=21: train_ppl=tensor(22.6208, device='cuda:0') train_epoch_loss=tensor(3.1189, device='cuda:0') eval_ppl=tensor(303169.8125, device='cuda:0') eval_epoch_loss=tensor(12.6220, device='cuda:0')\n"
     ]
    },
    {
     "name": "stderr",
     "output_type": "stream",
     "text": [
      "100%|██████████| 7/7 [00:00<00:00,  8.75it/s]\n",
      "100%|██████████| 425/425 [00:25<00:00, 16.68it/s]\n"
     ]
    },
    {
     "name": "stdout",
     "output_type": "stream",
     "text": [
      "epoch=22: train_ppl=tensor(19.2612, device='cuda:0') train_epoch_loss=tensor(2.9581, device='cuda:0') eval_ppl=tensor(278526.5625, device='cuda:0') eval_epoch_loss=tensor(12.5373, device='cuda:0')\n"
     ]
    },
    {
     "name": "stderr",
     "output_type": "stream",
     "text": [
      "100%|██████████| 7/7 [00:00<00:00,  8.37it/s]\n",
      "100%|██████████| 425/425 [00:25<00:00, 16.69it/s]\n"
     ]
    },
    {
     "name": "stdout",
     "output_type": "stream",
     "text": [
      "epoch=23: train_ppl=tensor(16.4537, device='cuda:0') train_epoch_loss=tensor(2.8006, device='cuda:0') eval_ppl=tensor(173137.1094, device='cuda:0') eval_epoch_loss=tensor(12.0618, device='cuda:0')\n"
     ]
    },
    {
     "name": "stderr",
     "output_type": "stream",
     "text": [
      "100%|██████████| 7/7 [00:00<00:00,  8.50it/s]\n",
      "100%|██████████| 425/425 [00:25<00:00, 16.68it/s]\n"
     ]
    },
    {
     "name": "stdout",
     "output_type": "stream",
     "text": [
      "epoch=24: train_ppl=tensor(14.2578, device='cuda:0') train_epoch_loss=tensor(2.6573, device='cuda:0') eval_ppl=tensor(338701., device='cuda:0') eval_epoch_loss=tensor(12.7329, device='cuda:0')\n"
     ]
    },
    {
     "name": "stderr",
     "output_type": "stream",
     "text": [
      "100%|██████████| 7/7 [00:00<00:00,  8.73it/s]\n",
      "100%|██████████| 425/425 [00:25<00:00, 16.68it/s]\n"
     ]
    },
    {
     "name": "stdout",
     "output_type": "stream",
     "text": [
      "epoch=25: train_ppl=tensor(11.9651, device='cuda:0') train_epoch_loss=tensor(2.4820, device='cuda:0') eval_ppl=tensor(364981.1562, device='cuda:0') eval_epoch_loss=tensor(12.8076, device='cuda:0')\n"
     ]
    },
    {
     "name": "stderr",
     "output_type": "stream",
     "text": [
      "100%|██████████| 7/7 [00:00<00:00,  8.55it/s]\n",
      "100%|██████████| 425/425 [00:25<00:00, 16.68it/s]\n"
     ]
    },
    {
     "name": "stdout",
     "output_type": "stream",
     "text": [
      "epoch=26: train_ppl=tensor(9.7725, device='cuda:0') train_epoch_loss=tensor(2.2796, device='cuda:0') eval_ppl=tensor(494010.2500, device='cuda:0') eval_epoch_loss=tensor(13.1103, device='cuda:0')\n"
     ]
    },
    {
     "name": "stderr",
     "output_type": "stream",
     "text": [
      "100%|██████████| 7/7 [00:00<00:00,  8.49it/s]\n",
      "100%|██████████| 425/425 [00:25<00:00, 16.68it/s]\n"
     ]
    },
    {
     "name": "stdout",
     "output_type": "stream",
     "text": [
      "epoch=27: train_ppl=tensor(8.4536, device='cuda:0') train_epoch_loss=tensor(2.1346, device='cuda:0') eval_ppl=tensor(785310.4375, device='cuda:0') eval_epoch_loss=tensor(13.5738, device='cuda:0')\n"
     ]
    },
    {
     "name": "stderr",
     "output_type": "stream",
     "text": [
      "100%|██████████| 7/7 [00:00<00:00,  8.50it/s]\n",
      "100%|██████████| 425/425 [00:25<00:00, 16.68it/s]\n"
     ]
    },
    {
     "name": "stdout",
     "output_type": "stream",
     "text": [
      "epoch=28: train_ppl=tensor(7.3200, device='cuda:0') train_epoch_loss=tensor(1.9906, device='cuda:0') eval_ppl=tensor(1224031., device='cuda:0') eval_epoch_loss=tensor(14.0177, device='cuda:0')\n"
     ]
    },
    {
     "name": "stderr",
     "output_type": "stream",
     "text": [
      "100%|██████████| 7/7 [00:00<00:00,  8.50it/s]\n",
      "100%|██████████| 425/425 [00:25<00:00, 16.68it/s]\n"
     ]
    },
    {
     "name": "stdout",
     "output_type": "stream",
     "text": [
      "epoch=29: train_ppl=tensor(7.5225, device='cuda:0') train_epoch_loss=tensor(2.0179, device='cuda:0') eval_ppl=tensor(1120122.2500, device='cuda:0') eval_epoch_loss=tensor(13.9289, device='cuda:0')\n"
     ]
    },
    {
     "name": "stderr",
     "output_type": "stream",
     "text": [
      "100%|██████████| 7/7 [00:00<00:00,  8.28it/s]\n",
      "100%|██████████| 425/425 [00:25<00:00, 16.68it/s]\n"
     ]
    },
    {
     "name": "stdout",
     "output_type": "stream",
     "text": [
      "epoch=30: train_ppl=tensor(7.7406, device='cuda:0') train_epoch_loss=tensor(2.0465, device='cuda:0') eval_ppl=tensor(346346.7188, device='cuda:0') eval_epoch_loss=tensor(12.7552, device='cuda:0')\n"
     ]
    },
    {
     "name": "stderr",
     "output_type": "stream",
     "text": [
      "100%|██████████| 7/7 [00:00<00:00,  8.78it/s]\n",
      "100%|██████████| 425/425 [00:25<00:00, 16.67it/s]\n"
     ]
    },
    {
     "name": "stdout",
     "output_type": "stream",
     "text": [
      "epoch=31: train_ppl=tensor(6.0760, device='cuda:0') train_epoch_loss=tensor(1.8043, device='cuda:0') eval_ppl=tensor(832451.8125, device='cuda:0') eval_epoch_loss=tensor(13.6321, device='cuda:0')\n"
     ]
    },
    {
     "name": "stderr",
     "output_type": "stream",
     "text": [
      "100%|██████████| 7/7 [00:00<00:00,  8.56it/s]\n",
      "100%|██████████| 425/425 [00:25<00:00, 16.68it/s]\n"
     ]
    },
    {
     "name": "stdout",
     "output_type": "stream",
     "text": [
      "epoch=32: train_ppl=tensor(5.1913, device='cuda:0') train_epoch_loss=tensor(1.6470, device='cuda:0') eval_ppl=tensor(594128.1250, device='cuda:0') eval_epoch_loss=tensor(13.2949, device='cuda:0')\n"
     ]
    },
    {
     "name": "stderr",
     "output_type": "stream",
     "text": [
      "100%|██████████| 7/7 [00:00<00:00,  8.64it/s]\n",
      "100%|██████████| 425/425 [00:25<00:00, 16.67it/s]\n"
     ]
    },
    {
     "name": "stdout",
     "output_type": "stream",
     "text": [
      "epoch=33: train_ppl=tensor(4.5196, device='cuda:0') train_epoch_loss=tensor(1.5084, device='cuda:0') eval_ppl=tensor(535598.0625, device='cuda:0') eval_epoch_loss=tensor(13.1911, device='cuda:0')\n"
     ]
    },
    {
     "name": "stderr",
     "output_type": "stream",
     "text": [
      "100%|██████████| 7/7 [00:00<00:00,  8.44it/s]\n",
      "100%|██████████| 425/425 [00:25<00:00, 16.68it/s]\n"
     ]
    },
    {
     "name": "stdout",
     "output_type": "stream",
     "text": [
      "epoch=34: train_ppl=tensor(3.8999, device='cuda:0') train_epoch_loss=tensor(1.3610, device='cuda:0') eval_ppl=tensor(684639.9375, device='cuda:0') eval_epoch_loss=tensor(13.4366, device='cuda:0')\n"
     ]
    },
    {
     "name": "stderr",
     "output_type": "stream",
     "text": [
      "100%|██████████| 7/7 [00:00<00:00,  8.57it/s]\n",
      "100%|██████████| 425/425 [00:25<00:00, 16.67it/s]\n"
     ]
    },
    {
     "name": "stdout",
     "output_type": "stream",
     "text": [
      "epoch=35: train_ppl=tensor(3.7010, device='cuda:0') train_epoch_loss=tensor(1.3086, device='cuda:0') eval_ppl=tensor(639247.3125, device='cuda:0') eval_epoch_loss=tensor(13.3680, device='cuda:0')\n"
     ]
    },
    {
     "name": "stderr",
     "output_type": "stream",
     "text": [
      "100%|██████████| 7/7 [00:00<00:00,  8.57it/s]\n",
      "100%|██████████| 425/425 [00:25<00:00, 16.67it/s]\n"
     ]
    },
    {
     "name": "stdout",
     "output_type": "stream",
     "text": [
      "epoch=36: train_ppl=tensor(3.2720, device='cuda:0') train_epoch_loss=tensor(1.1854, device='cuda:0') eval_ppl=tensor(693875.2500, device='cuda:0') eval_epoch_loss=tensor(13.4500, device='cuda:0')\n"
     ]
    },
    {
     "name": "stderr",
     "output_type": "stream",
     "text": [
      "100%|██████████| 7/7 [00:00<00:00,  8.57it/s]\n",
      "100%|██████████| 425/425 [00:25<00:00, 16.67it/s]\n"
     ]
    },
    {
     "name": "stdout",
     "output_type": "stream",
     "text": [
      "epoch=37: train_ppl=tensor(3.1154, device='cuda:0') train_epoch_loss=tensor(1.1364, device='cuda:0') eval_ppl=tensor(682786.1875, device='cuda:0') eval_epoch_loss=tensor(13.4339, device='cuda:0')\n"
     ]
    },
    {
     "name": "stderr",
     "output_type": "stream",
     "text": [
      "100%|██████████| 7/7 [00:00<00:00,  8.57it/s]\n",
      "100%|██████████| 425/425 [00:25<00:00, 16.69it/s]\n"
     ]
    },
    {
     "name": "stdout",
     "output_type": "stream",
     "text": [
      "epoch=38: train_ppl=tensor(2.7908, device='cuda:0') train_epoch_loss=tensor(1.0263, device='cuda:0') eval_ppl=tensor(836578.3125, device='cuda:0') eval_epoch_loss=tensor(13.6371, device='cuda:0')\n"
     ]
    },
    {
     "name": "stderr",
     "output_type": "stream",
     "text": [
      "100%|██████████| 7/7 [00:00<00:00,  8.81it/s]\n",
      "100%|██████████| 425/425 [00:25<00:00, 16.67it/s]\n"
     ]
    },
    {
     "name": "stdout",
     "output_type": "stream",
     "text": [
      "epoch=39: train_ppl=tensor(2.7524, device='cuda:0') train_epoch_loss=tensor(1.0125, device='cuda:0') eval_ppl=tensor(887552.7500, device='cuda:0') eval_epoch_loss=tensor(13.6962, device='cuda:0')\n"
     ]
    },
    {
     "name": "stderr",
     "output_type": "stream",
     "text": [
      "100%|██████████| 7/7 [00:00<00:00,  8.67it/s]\n",
      "100%|██████████| 425/425 [00:25<00:00, 16.68it/s]\n"
     ]
    },
    {
     "name": "stdout",
     "output_type": "stream",
     "text": [
      "epoch=40: train_ppl=tensor(2.5650, device='cuda:0') train_epoch_loss=tensor(0.9420, device='cuda:0') eval_ppl=tensor(853334.6875, device='cuda:0') eval_epoch_loss=tensor(13.6569, device='cuda:0')\n"
     ]
    },
    {
     "name": "stderr",
     "output_type": "stream",
     "text": [
      "100%|██████████| 7/7 [00:00<00:00,  8.59it/s]\n",
      "100%|██████████| 425/425 [00:25<00:00, 16.67it/s]\n"
     ]
    },
    {
     "name": "stdout",
     "output_type": "stream",
     "text": [
      "epoch=41: train_ppl=tensor(2.4381, device='cuda:0') train_epoch_loss=tensor(0.8912, device='cuda:0') eval_ppl=tensor(701939.3125, device='cuda:0') eval_epoch_loss=tensor(13.4616, device='cuda:0')\n"
     ]
    },
    {
     "name": "stderr",
     "output_type": "stream",
     "text": [
      "100%|██████████| 7/7 [00:00<00:00,  8.60it/s]\n",
      "100%|██████████| 425/425 [00:25<00:00, 16.67it/s]\n"
     ]
    },
    {
     "name": "stdout",
     "output_type": "stream",
     "text": [
      "epoch=42: train_ppl=tensor(2.4551, device='cuda:0') train_epoch_loss=tensor(0.8982, device='cuda:0') eval_ppl=tensor(621940.1250, device='cuda:0') eval_epoch_loss=tensor(13.3406, device='cuda:0')\n"
     ]
    },
    {
     "name": "stderr",
     "output_type": "stream",
     "text": [
      "100%|██████████| 7/7 [00:00<00:00,  8.65it/s]\n",
      "100%|██████████| 425/425 [00:25<00:00, 16.68it/s]\n"
     ]
    },
    {
     "name": "stdout",
     "output_type": "stream",
     "text": [
      "epoch=43: train_ppl=tensor(2.4294, device='cuda:0') train_epoch_loss=tensor(0.8877, device='cuda:0') eval_ppl=tensor(672859.9375, device='cuda:0') eval_epoch_loss=tensor(13.4193, device='cuda:0')\n"
     ]
    },
    {
     "name": "stderr",
     "output_type": "stream",
     "text": [
      "100%|██████████| 7/7 [00:00<00:00,  8.58it/s]\n",
      "100%|██████████| 425/425 [00:25<00:00, 16.67it/s]\n"
     ]
    },
    {
     "name": "stdout",
     "output_type": "stream",
     "text": [
      "epoch=44: train_ppl=tensor(2.2586, device='cuda:0') train_epoch_loss=tensor(0.8147, device='cuda:0') eval_ppl=tensor(601433.1875, device='cuda:0') eval_epoch_loss=tensor(13.3071, device='cuda:0')\n"
     ]
    },
    {
     "name": "stderr",
     "output_type": "stream",
     "text": [
      "100%|██████████| 7/7 [00:00<00:00,  8.57it/s]\n",
      "100%|██████████| 425/425 [00:25<00:00, 16.67it/s]\n"
     ]
    },
    {
     "name": "stdout",
     "output_type": "stream",
     "text": [
      "epoch=45: train_ppl=tensor(2.3241, device='cuda:0') train_epoch_loss=tensor(0.8433, device='cuda:0') eval_ppl=tensor(539859., device='cuda:0') eval_epoch_loss=tensor(13.1991, device='cuda:0')\n"
     ]
    },
    {
     "name": "stderr",
     "output_type": "stream",
     "text": [
      "100%|██████████| 7/7 [00:00<00:00,  8.76it/s]\n",
      "100%|██████████| 425/425 [00:25<00:00, 16.67it/s]\n"
     ]
    },
    {
     "name": "stdout",
     "output_type": "stream",
     "text": [
      "epoch=46: train_ppl=tensor(2.2091, device='cuda:0') train_epoch_loss=tensor(0.7926, device='cuda:0') eval_ppl=tensor(677158.8125, device='cuda:0') eval_epoch_loss=tensor(13.4257, device='cuda:0')\n"
     ]
    },
    {
     "name": "stderr",
     "output_type": "stream",
     "text": [
      "100%|██████████| 7/7 [00:00<00:00,  8.57it/s]\n",
      "100%|██████████| 425/425 [00:25<00:00, 16.69it/s]\n"
     ]
    },
    {
     "name": "stdout",
     "output_type": "stream",
     "text": [
      "epoch=47: train_ppl=tensor(2.1983, device='cuda:0') train_epoch_loss=tensor(0.7877, device='cuda:0') eval_ppl=tensor(600535.6250, device='cuda:0') eval_epoch_loss=tensor(13.3056, device='cuda:0')\n"
     ]
    },
    {
     "name": "stderr",
     "output_type": "stream",
     "text": [
      "100%|██████████| 7/7 [00:00<00:00,  8.77it/s]\n",
      "100%|██████████| 425/425 [00:25<00:00, 16.67it/s]\n"
     ]
    },
    {
     "name": "stdout",
     "output_type": "stream",
     "text": [
      "epoch=48: train_ppl=tensor(2.0748, device='cuda:0') train_epoch_loss=tensor(0.7299, device='cuda:0') eval_ppl=tensor(611419., device='cuda:0') eval_epoch_loss=tensor(13.3235, device='cuda:0')\n"
     ]
    },
    {
     "name": "stderr",
     "output_type": "stream",
     "text": [
      "100%|██████████| 7/7 [00:00<00:00,  8.61it/s]\n",
      "100%|██████████| 425/425 [00:25<00:00, 16.67it/s]"
     ]
    },
    {
     "name": "stdout",
     "output_type": "stream",
     "text": [
      "epoch=49: train_ppl=tensor(2.0661, device='cuda:0') train_epoch_loss=tensor(0.7257, device='cuda:0') eval_ppl=tensor(643179.3750, device='cuda:0') eval_epoch_loss=tensor(13.3742, device='cuda:0')\n"
     ]
    },
    {
     "name": "stderr",
     "output_type": "stream",
     "text": [
      "\n"
     ]
    },
    {
     "data": {
      "text/html": [
       "Waiting for W&B process to finish... <strong style=\"color:green\">(success).</strong>"
      ],
      "text/plain": [
       "<IPython.core.display.HTML object>"
      ]
     },
     "metadata": {},
     "output_type": "display_data"
    },
    {
     "name": "stderr",
     "output_type": "stream",
     "text": [
      "wandb: WARNING Source type is set to 'repo' but some required information is missing from the environment. A job will not be created from this run. See https://docs.wandb.ai/guides/launch/create-job\n"
     ]
    },
    {
     "data": {
      "application/vnd.jupyter.widget-view+json": {
       "model_id": "dd3837a4420b405e9134ff2a0bba12d9",
       "version_major": 2,
       "version_minor": 0
      },
      "text/plain": [
       "VBox(children=(Label(value='0.014 MB of 0.014 MB uploaded (0.000 MB deduped)\\r'), FloatProgress(value=1.0, max…"
      ]
     },
     "metadata": {},
     "output_type": "display_data"
    },
    {
     "data": {
      "text/html": [
       "<style>\n",
       "    table.wandb td:nth-child(1) { padding: 0 10px; text-align: left ; width: auto;} td:nth-child(2) {text-align: left ; width: 100%}\n",
       "    .wandb-row { display: flex; flex-direction: row; flex-wrap: wrap; justify-content: flex-start; width: 100% }\n",
       "    .wandb-col { display: flex; flex-direction: column; flex-basis: 100%; flex: 1; padding: 10px; }\n",
       "    </style>\n",
       "<div class=\"wandb-row\"><div class=\"wandb-col\"><h3>Run history:</h3><br/><table class=\"wandb\"><tr><td>epoch</td><td>▁▁▁▁▂▂▂▂▂▃▃▃▃▃▃▄▄▄▄▄▅▅▅▅▅▅▆▆▆▆▆▆▇▇▇▇▇███</td></tr><tr><td>eval_epoch_loss</td><td>▃▁▁▁▃▃▃▃▄▄▄▅▅▅▅▆▆▆▆▆▇▇▇█▇█▇▇▇▇▇██▇▇▇▇▇▇▇</td></tr><tr><td>eval_ppl</td><td>▁▁▁▁▁▁▁▁▁▁▁▁▂▁▂▂▂▃▃▂▃▄▅█▃▆▄▄▅▅▅▆▆▅▅▅▄▅▄▅</td></tr><tr><td>train_epoch_loss</td><td>█▃▃▂▂▂▂▂▂▂▂▂▂▂▂▂▂▂▁▁▁▁▁▁▁▁▁▁▁▁▁▁▁▁▁▁▁▁▁▁</td></tr><tr><td>train_ppl</td><td>█▁▁▁▁▁▁▁▁▁▁▁▁▁▁▁▁▁▁▁▁▁▁▁▁▁▁▁▁▁▁▁▁▁▁▁▁▁▁▁</td></tr></table><br/></div><div class=\"wandb-col\"><h3>Run summary:</h3><br/><table class=\"wandb\"><tr><td>epoch</td><td>49</td></tr><tr><td>eval_epoch_loss</td><td>13.37418</td></tr><tr><td>eval_ppl</td><td>643179.375</td></tr><tr><td>train_epoch_loss</td><td>0.72566</td></tr><tr><td>train_ppl</td><td>2.06609</td></tr></table><br/></div></div>"
      ],
      "text/plain": [
       "<IPython.core.display.HTML object>"
      ]
     },
     "metadata": {},
     "output_type": "display_data"
    },
    {
     "data": {
      "text/html": [
       " View run <strong style=\"color:#cdcd00\">run_4</strong> at: <a href='https://wandb.ai/rbelanec/bloomz-560m_prompt_tunning_casual_lm/runs/47c6tzxz' target=\"_blank\">https://wandb.ai/rbelanec/bloomz-560m_prompt_tunning_casual_lm/runs/47c6tzxz</a><br/>Synced 6 W&B file(s), 0 media file(s), 0 artifact file(s) and 0 other file(s)"
      ],
      "text/plain": [
       "<IPython.core.display.HTML object>"
      ]
     },
     "metadata": {},
     "output_type": "display_data"
    },
    {
     "data": {
      "text/html": [
       "Find logs at: <code>./wandb/run-20231019_082048-47c6tzxz/logs</code>"
      ],
      "text/plain": [
       "<IPython.core.display.HTML object>"
      ]
     },
     "metadata": {},
     "output_type": "display_data"
    },
    {
     "data": {
      "application/vnd.jupyter.widget-view+json": {
       "model_id": "e586966cb6be4b47b7efc1a7f7f21c30",
       "version_major": 2,
       "version_minor": 0
      },
      "text/plain": [
       "VBox(children=(Label(value='Waiting for wandb.init()...\\r'), FloatProgress(value=0.011112357823488612, max=1.0…"
      ]
     },
     "metadata": {},
     "output_type": "display_data"
    },
    {
     "data": {
      "text/html": [
       "Tracking run with wandb version 0.15.12"
      ],
      "text/plain": [
       "<IPython.core.display.HTML object>"
      ]
     },
     "metadata": {},
     "output_type": "display_data"
    },
    {
     "data": {
      "text/html": [
       "Run data is saved locally in <code>/home/jovyan/KInIT/PhD/replication_challenge/wandb/run-20231019_084310-7pha7erb</code>"
      ],
      "text/plain": [
       "<IPython.core.display.HTML object>"
      ]
     },
     "metadata": {},
     "output_type": "display_data"
    },
    {
     "data": {
      "text/html": [
       "Syncing run <strong><a href='https://wandb.ai/rbelanec/bloomz-560m_prompt_tunning_casual_lm/runs/7pha7erb' target=\"_blank\">run_5</a></strong> to <a href='https://wandb.ai/rbelanec/bloomz-560m_prompt_tunning_casual_lm' target=\"_blank\">Weights & Biases</a> (<a href='https://wandb.me/run' target=\"_blank\">docs</a>)<br/>"
      ],
      "text/plain": [
       "<IPython.core.display.HTML object>"
      ]
     },
     "metadata": {},
     "output_type": "display_data"
    },
    {
     "data": {
      "text/html": [
       " View project at <a href='https://wandb.ai/rbelanec/bloomz-560m_prompt_tunning_casual_lm' target=\"_blank\">https://wandb.ai/rbelanec/bloomz-560m_prompt_tunning_casual_lm</a>"
      ],
      "text/plain": [
       "<IPython.core.display.HTML object>"
      ]
     },
     "metadata": {},
     "output_type": "display_data"
    },
    {
     "data": {
      "text/html": [
       " View run at <a href='https://wandb.ai/rbelanec/bloomz-560m_prompt_tunning_casual_lm/runs/7pha7erb' target=\"_blank\">https://wandb.ai/rbelanec/bloomz-560m_prompt_tunning_casual_lm/runs/7pha7erb</a>"
      ],
      "text/plain": [
       "<IPython.core.display.HTML object>"
      ]
     },
     "metadata": {},
     "output_type": "display_data"
    },
    {
     "name": "stdout",
     "output_type": "stream",
     "text": [
      "trainable params: 8,192 || all params: 559,222,784 || trainable%: 0.0014648902430985358\n"
     ]
    },
    {
     "name": "stderr",
     "output_type": "stream",
     "text": [
      "100%|██████████| 7/7 [00:00<00:00,  8.62it/s]\n",
      "100%|██████████| 425/425 [00:25<00:00, 16.74it/s]\n"
     ]
    },
    {
     "name": "stdout",
     "output_type": "stream",
     "text": [
      "epoch=0: train_ppl=tensor(9.7592e+11, device='cuda:0') train_epoch_loss=tensor(27.6066, device='cuda:0') eval_ppl=tensor(3808.4226, device='cuda:0') eval_epoch_loss=tensor(8.2450, device='cuda:0')\n"
     ]
    },
    {
     "name": "stderr",
     "output_type": "stream",
     "text": [
      "100%|██████████| 7/7 [00:00<00:00,  8.68it/s]\n",
      "100%|██████████| 425/425 [00:25<00:00, 16.70it/s]\n"
     ]
    },
    {
     "name": "stdout",
     "output_type": "stream",
     "text": [
      "epoch=1: train_ppl=tensor(1877.3406, device='cuda:0') train_epoch_loss=tensor(7.5376, device='cuda:0') eval_ppl=tensor(4270.9048, device='cuda:0') eval_epoch_loss=tensor(8.3596, device='cuda:0')\n"
     ]
    },
    {
     "name": "stderr",
     "output_type": "stream",
     "text": [
      "100%|██████████| 7/7 [00:00<00:00,  8.52it/s]\n",
      "100%|██████████| 425/425 [00:25<00:00, 16.68it/s]\n"
     ]
    },
    {
     "name": "stdout",
     "output_type": "stream",
     "text": [
      "epoch=2: train_ppl=tensor(418.1140, device='cuda:0') train_epoch_loss=tensor(6.0358, device='cuda:0') eval_ppl=tensor(5108.7871, device='cuda:0') eval_epoch_loss=tensor(8.5387, device='cuda:0')\n"
     ]
    },
    {
     "name": "stderr",
     "output_type": "stream",
     "text": [
      "100%|██████████| 7/7 [00:00<00:00,  8.47it/s]\n",
      "100%|██████████| 425/425 [00:25<00:00, 16.66it/s]\n"
     ]
    },
    {
     "name": "stdout",
     "output_type": "stream",
     "text": [
      "epoch=3: train_ppl=tensor(238.1051, device='cuda:0') train_epoch_loss=tensor(5.4727, device='cuda:0') eval_ppl=tensor(7422.0562, device='cuda:0') eval_epoch_loss=tensor(8.9122, device='cuda:0')\n"
     ]
    },
    {
     "name": "stderr",
     "output_type": "stream",
     "text": [
      "100%|██████████| 7/7 [00:00<00:00,  8.35it/s]\n",
      "100%|██████████| 425/425 [00:25<00:00, 16.68it/s]\n"
     ]
    },
    {
     "name": "stdout",
     "output_type": "stream",
     "text": [
      "epoch=4: train_ppl=tensor(159.7598, device='cuda:0') train_epoch_loss=tensor(5.0737, device='cuda:0') eval_ppl=tensor(5416.7275, device='cuda:0') eval_epoch_loss=tensor(8.5972, device='cuda:0')\n"
     ]
    },
    {
     "name": "stderr",
     "output_type": "stream",
     "text": [
      "100%|██████████| 7/7 [00:00<00:00,  8.62it/s]\n",
      "100%|██████████| 425/425 [00:25<00:00, 16.67it/s]\n"
     ]
    },
    {
     "name": "stdout",
     "output_type": "stream",
     "text": [
      "epoch=5: train_ppl=tensor(116.8667, device='cuda:0') train_epoch_loss=tensor(4.7610, device='cuda:0') eval_ppl=tensor(7315.7388, device='cuda:0') eval_epoch_loss=tensor(8.8978, device='cuda:0')\n"
     ]
    },
    {
     "name": "stderr",
     "output_type": "stream",
     "text": [
      "100%|██████████| 7/7 [00:00<00:00,  8.35it/s]\n",
      "100%|██████████| 425/425 [00:25<00:00, 16.68it/s]\n"
     ]
    },
    {
     "name": "stdout",
     "output_type": "stream",
     "text": [
      "epoch=6: train_ppl=tensor(83.2340, device='cuda:0') train_epoch_loss=tensor(4.4217, device='cuda:0') eval_ppl=tensor(7337.4478, device='cuda:0') eval_epoch_loss=tensor(8.9007, device='cuda:0')\n"
     ]
    },
    {
     "name": "stderr",
     "output_type": "stream",
     "text": [
      "100%|██████████| 7/7 [00:00<00:00,  8.36it/s]\n",
      "100%|██████████| 425/425 [00:25<00:00, 16.68it/s]\n"
     ]
    },
    {
     "name": "stdout",
     "output_type": "stream",
     "text": [
      "epoch=7: train_ppl=tensor(59.6598, device='cuda:0') train_epoch_loss=tensor(4.0887, device='cuda:0') eval_ppl=tensor(28444.3789, device='cuda:0') eval_epoch_loss=tensor(10.2557, device='cuda:0')\n"
     ]
    },
    {
     "name": "stderr",
     "output_type": "stream",
     "text": [
      "100%|██████████| 7/7 [00:00<00:00,  8.48it/s]\n",
      "100%|██████████| 425/425 [00:25<00:00, 16.68it/s]\n"
     ]
    },
    {
     "name": "stdout",
     "output_type": "stream",
     "text": [
      "epoch=8: train_ppl=tensor(41.5877, device='cuda:0') train_epoch_loss=tensor(3.7278, device='cuda:0') eval_ppl=tensor(34023.6641, device='cuda:0') eval_epoch_loss=tensor(10.4348, device='cuda:0')\n"
     ]
    },
    {
     "name": "stderr",
     "output_type": "stream",
     "text": [
      "100%|██████████| 7/7 [00:00<00:00,  8.60it/s]\n",
      "100%|██████████| 425/425 [00:25<00:00, 16.68it/s]\n"
     ]
    },
    {
     "name": "stdout",
     "output_type": "stream",
     "text": [
      "epoch=9: train_ppl=tensor(30.0099, device='cuda:0') train_epoch_loss=tensor(3.4015, device='cuda:0') eval_ppl=tensor(285137.5938, device='cuda:0') eval_epoch_loss=tensor(12.5607, device='cuda:0')\n"
     ]
    },
    {
     "name": "stderr",
     "output_type": "stream",
     "text": [
      "100%|██████████| 7/7 [00:00<00:00,  8.34it/s]\n",
      "100%|██████████| 425/425 [00:25<00:00, 16.68it/s]\n"
     ]
    },
    {
     "name": "stdout",
     "output_type": "stream",
     "text": [
      "epoch=10: train_ppl=tensor(22.6456, device='cuda:0') train_epoch_loss=tensor(3.1200, device='cuda:0') eval_ppl=tensor(1.4031e+09, device='cuda:0') eval_epoch_loss=tensor(21.0620, device='cuda:0')\n"
     ]
    },
    {
     "name": "stderr",
     "output_type": "stream",
     "text": [
      "100%|██████████| 7/7 [00:00<00:00,  8.39it/s]\n",
      "100%|██████████| 425/425 [00:25<00:00, 16.68it/s]\n"
     ]
    },
    {
     "name": "stdout",
     "output_type": "stream",
     "text": [
      "epoch=11: train_ppl=tensor(16.3238, device='cuda:0') train_epoch_loss=tensor(2.7926, device='cuda:0') eval_ppl=tensor(1.0916e+09, device='cuda:0') eval_epoch_loss=tensor(20.8109, device='cuda:0')\n"
     ]
    },
    {
     "name": "stderr",
     "output_type": "stream",
     "text": [
      "100%|██████████| 7/7 [00:00<00:00,  8.58it/s]\n",
      "100%|██████████| 425/425 [00:25<00:00, 16.67it/s]\n"
     ]
    },
    {
     "name": "stdout",
     "output_type": "stream",
     "text": [
      "epoch=12: train_ppl=tensor(16.7979, device='cuda:0') train_epoch_loss=tensor(2.8213, device='cuda:0') eval_ppl=tensor(22090.2480, device='cuda:0') eval_epoch_loss=tensor(10.0029, device='cuda:0')\n"
     ]
    },
    {
     "name": "stderr",
     "output_type": "stream",
     "text": [
      "100%|██████████| 7/7 [00:00<00:00,  8.50it/s]\n",
      "100%|██████████| 425/425 [00:25<00:00, 16.68it/s]\n"
     ]
    },
    {
     "name": "stdout",
     "output_type": "stream",
     "text": [
      "epoch=13: train_ppl=tensor(13.0748, device='cuda:0') train_epoch_loss=tensor(2.5707, device='cuda:0') eval_ppl=tensor(35155.5547, device='cuda:0') eval_epoch_loss=tensor(10.4675, device='cuda:0')\n"
     ]
    },
    {
     "name": "stderr",
     "output_type": "stream",
     "text": [
      "100%|██████████| 7/7 [00:00<00:00,  8.34it/s]\n",
      "100%|██████████| 425/425 [00:25<00:00, 16.68it/s]\n"
     ]
    },
    {
     "name": "stdout",
     "output_type": "stream",
     "text": [
      "epoch=14: train_ppl=tensor(9.1235, device='cuda:0') train_epoch_loss=tensor(2.2109, device='cuda:0') eval_ppl=tensor(63348.4102, device='cuda:0') eval_epoch_loss=tensor(11.0564, device='cuda:0')\n"
     ]
    },
    {
     "name": "stderr",
     "output_type": "stream",
     "text": [
      "100%|██████████| 7/7 [00:00<00:00,  8.24it/s]\n",
      "100%|██████████| 425/425 [00:25<00:00, 16.68it/s]\n"
     ]
    },
    {
     "name": "stdout",
     "output_type": "stream",
     "text": [
      "epoch=15: train_ppl=tensor(6.4077, device='cuda:0') train_epoch_loss=tensor(1.8575, device='cuda:0') eval_ppl=tensor(69794.5234, device='cuda:0') eval_epoch_loss=tensor(11.1533, device='cuda:0')\n"
     ]
    },
    {
     "name": "stderr",
     "output_type": "stream",
     "text": [
      "100%|██████████| 7/7 [00:00<00:00,  8.73it/s]\n",
      "100%|██████████| 425/425 [00:25<00:00, 16.68it/s]\n"
     ]
    },
    {
     "name": "stdout",
     "output_type": "stream",
     "text": [
      "epoch=16: train_ppl=tensor(4.6780, device='cuda:0') train_epoch_loss=tensor(1.5429, device='cuda:0') eval_ppl=tensor(120622.7578, device='cuda:0') eval_epoch_loss=tensor(11.7004, device='cuda:0')\n"
     ]
    },
    {
     "name": "stderr",
     "output_type": "stream",
     "text": [
      "100%|██████████| 7/7 [00:00<00:00,  8.60it/s]\n",
      "100%|██████████| 425/425 [00:25<00:00, 16.68it/s]\n"
     ]
    },
    {
     "name": "stdout",
     "output_type": "stream",
     "text": [
      "epoch=17: train_ppl=tensor(3.9067, device='cuda:0') train_epoch_loss=tensor(1.3627, device='cuda:0') eval_ppl=tensor(77845.7500, device='cuda:0') eval_epoch_loss=tensor(11.2625, device='cuda:0')\n"
     ]
    },
    {
     "name": "stderr",
     "output_type": "stream",
     "text": [
      "100%|██████████| 7/7 [00:00<00:00,  8.52it/s]\n",
      "100%|██████████| 425/425 [00:25<00:00, 16.68it/s]\n"
     ]
    },
    {
     "name": "stdout",
     "output_type": "stream",
     "text": [
      "epoch=18: train_ppl=tensor(2.9489, device='cuda:0') train_epoch_loss=tensor(1.0814, device='cuda:0') eval_ppl=tensor(139450.0625, device='cuda:0') eval_epoch_loss=tensor(11.8455, device='cuda:0')\n"
     ]
    },
    {
     "name": "stderr",
     "output_type": "stream",
     "text": [
      "100%|██████████| 7/7 [00:00<00:00,  8.64it/s]\n",
      "100%|██████████| 425/425 [00:25<00:00, 16.67it/s]\n"
     ]
    },
    {
     "name": "stdout",
     "output_type": "stream",
     "text": [
      "epoch=19: train_ppl=tensor(2.2711, device='cuda:0') train_epoch_loss=tensor(0.8203, device='cuda:0') eval_ppl=tensor(187529.2812, device='cuda:0') eval_epoch_loss=tensor(12.1417, device='cuda:0')\n"
     ]
    },
    {
     "name": "stderr",
     "output_type": "stream",
     "text": [
      "100%|██████████| 7/7 [00:00<00:00,  8.71it/s]\n",
      "100%|██████████| 425/425 [00:25<00:00, 16.68it/s]\n"
     ]
    },
    {
     "name": "stdout",
     "output_type": "stream",
     "text": [
      "epoch=20: train_ppl=tensor(1.9107, device='cuda:0') train_epoch_loss=tensor(0.6475, device='cuda:0') eval_ppl=tensor(174830.5156, device='cuda:0') eval_epoch_loss=tensor(12.0716, device='cuda:0')\n"
     ]
    },
    {
     "name": "stderr",
     "output_type": "stream",
     "text": [
      "100%|██████████| 7/7 [00:00<00:00,  8.37it/s]\n",
      "100%|██████████| 425/425 [00:25<00:00, 16.69it/s]\n"
     ]
    },
    {
     "name": "stdout",
     "output_type": "stream",
     "text": [
      "epoch=21: train_ppl=tensor(1.8769, device='cuda:0') train_epoch_loss=tensor(0.6296, device='cuda:0') eval_ppl=tensor(143222.0312, device='cuda:0') eval_epoch_loss=tensor(11.8722, device='cuda:0')\n"
     ]
    },
    {
     "name": "stderr",
     "output_type": "stream",
     "text": [
      "100%|██████████| 7/7 [00:00<00:00,  8.58it/s]\n",
      "100%|██████████| 425/425 [00:25<00:00, 16.67it/s]\n"
     ]
    },
    {
     "name": "stdout",
     "output_type": "stream",
     "text": [
      "epoch=22: train_ppl=tensor(1.5187, device='cuda:0') train_epoch_loss=tensor(0.4178, device='cuda:0') eval_ppl=tensor(242109.9375, device='cuda:0') eval_epoch_loss=tensor(12.3971, device='cuda:0')\n"
     ]
    },
    {
     "name": "stderr",
     "output_type": "stream",
     "text": [
      "100%|██████████| 7/7 [00:00<00:00,  8.59it/s]\n",
      "100%|██████████| 425/425 [00:25<00:00, 16.67it/s]\n"
     ]
    },
    {
     "name": "stdout",
     "output_type": "stream",
     "text": [
      "epoch=23: train_ppl=tensor(1.4759, device='cuda:0') train_epoch_loss=tensor(0.3893, device='cuda:0') eval_ppl=tensor(294534.6875, device='cuda:0') eval_epoch_loss=tensor(12.5932, device='cuda:0')\n"
     ]
    },
    {
     "name": "stderr",
     "output_type": "stream",
     "text": [
      "100%|██████████| 7/7 [00:00<00:00,  8.77it/s]\n",
      "100%|██████████| 425/425 [00:25<00:00, 16.68it/s]\n"
     ]
    },
    {
     "name": "stdout",
     "output_type": "stream",
     "text": [
      "epoch=24: train_ppl=tensor(1.4041, device='cuda:0') train_epoch_loss=tensor(0.3394, device='cuda:0') eval_ppl=tensor(192540.0312, device='cuda:0') eval_epoch_loss=tensor(12.1681, device='cuda:0')\n"
     ]
    },
    {
     "name": "stderr",
     "output_type": "stream",
     "text": [
      "100%|██████████| 7/7 [00:00<00:00,  8.56it/s]\n",
      "100%|██████████| 425/425 [00:25<00:00, 16.68it/s]\n"
     ]
    },
    {
     "name": "stdout",
     "output_type": "stream",
     "text": [
      "epoch=25: train_ppl=tensor(1.4311, device='cuda:0') train_epoch_loss=tensor(0.3584, device='cuda:0') eval_ppl=tensor(203920.1875, device='cuda:0') eval_epoch_loss=tensor(12.2255, device='cuda:0')\n"
     ]
    },
    {
     "name": "stderr",
     "output_type": "stream",
     "text": [
      "100%|██████████| 7/7 [00:00<00:00,  8.76it/s]\n",
      "100%|██████████| 425/425 [00:25<00:00, 16.68it/s]\n"
     ]
    },
    {
     "name": "stdout",
     "output_type": "stream",
     "text": [
      "epoch=26: train_ppl=tensor(1.5717, device='cuda:0') train_epoch_loss=tensor(0.4522, device='cuda:0') eval_ppl=tensor(277300.4688, device='cuda:0') eval_epoch_loss=tensor(12.5329, device='cuda:0')\n"
     ]
    },
    {
     "name": "stderr",
     "output_type": "stream",
     "text": [
      "100%|██████████| 7/7 [00:00<00:00,  8.51it/s]\n",
      "100%|██████████| 425/425 [00:25<00:00, 16.68it/s]\n"
     ]
    },
    {
     "name": "stdout",
     "output_type": "stream",
     "text": [
      "epoch=27: train_ppl=tensor(1.4317, device='cuda:0') train_epoch_loss=tensor(0.3589, device='cuda:0') eval_ppl=tensor(164153.8281, device='cuda:0') eval_epoch_loss=tensor(12.0086, device='cuda:0')\n"
     ]
    },
    {
     "name": "stderr",
     "output_type": "stream",
     "text": [
      "100%|██████████| 7/7 [00:00<00:00,  8.69it/s]\n",
      "100%|██████████| 425/425 [00:25<00:00, 16.68it/s]\n"
     ]
    },
    {
     "name": "stdout",
     "output_type": "stream",
     "text": [
      "epoch=28: train_ppl=tensor(1.4700, device='cuda:0') train_epoch_loss=tensor(0.3852, device='cuda:0') eval_ppl=tensor(112701.1562, device='cuda:0') eval_epoch_loss=tensor(11.6325, device='cuda:0')\n"
     ]
    },
    {
     "name": "stderr",
     "output_type": "stream",
     "text": [
      "100%|██████████| 7/7 [00:00<00:00,  8.52it/s]\n",
      "100%|██████████| 425/425 [00:25<00:00, 16.68it/s]\n"
     ]
    },
    {
     "name": "stdout",
     "output_type": "stream",
     "text": [
      "epoch=29: train_ppl=tensor(1.3476, device='cuda:0') train_epoch_loss=tensor(0.2983, device='cuda:0') eval_ppl=tensor(179334.7812, device='cuda:0') eval_epoch_loss=tensor(12.0970, device='cuda:0')\n"
     ]
    },
    {
     "name": "stderr",
     "output_type": "stream",
     "text": [
      "100%|██████████| 7/7 [00:00<00:00,  8.57it/s]\n",
      "100%|██████████| 425/425 [00:25<00:00, 16.68it/s]\n"
     ]
    },
    {
     "name": "stdout",
     "output_type": "stream",
     "text": [
      "epoch=30: train_ppl=tensor(1.3449, device='cuda:0') train_epoch_loss=tensor(0.2963, device='cuda:0') eval_ppl=tensor(229386.7031, device='cuda:0') eval_epoch_loss=tensor(12.3432, device='cuda:0')\n"
     ]
    },
    {
     "name": "stderr",
     "output_type": "stream",
     "text": [
      "100%|██████████| 7/7 [00:00<00:00,  8.37it/s]\n",
      "100%|██████████| 425/425 [00:25<00:00, 16.68it/s]\n"
     ]
    },
    {
     "name": "stdout",
     "output_type": "stream",
     "text": [
      "epoch=31: train_ppl=tensor(1.2348, device='cuda:0') train_epoch_loss=tensor(0.2109, device='cuda:0') eval_ppl=tensor(253246.0312, device='cuda:0') eval_epoch_loss=tensor(12.4421, device='cuda:0')\n"
     ]
    },
    {
     "name": "stderr",
     "output_type": "stream",
     "text": [
      "100%|██████████| 7/7 [00:00<00:00,  8.64it/s]\n",
      "100%|██████████| 425/425 [00:25<00:00, 16.68it/s]\n"
     ]
    },
    {
     "name": "stdout",
     "output_type": "stream",
     "text": [
      "epoch=32: train_ppl=tensor(1.2419, device='cuda:0') train_epoch_loss=tensor(0.2166, device='cuda:0') eval_ppl=tensor(366870.8438, device='cuda:0') eval_epoch_loss=tensor(12.8128, device='cuda:0')\n"
     ]
    },
    {
     "name": "stderr",
     "output_type": "stream",
     "text": [
      "100%|██████████| 7/7 [00:00<00:00,  8.62it/s]\n",
      "100%|██████████| 425/425 [00:25<00:00, 16.67it/s]\n"
     ]
    },
    {
     "name": "stdout",
     "output_type": "stream",
     "text": [
      "epoch=33: train_ppl=tensor(1.2718, device='cuda:0') train_epoch_loss=tensor(0.2404, device='cuda:0') eval_ppl=tensor(402079.7188, device='cuda:0') eval_epoch_loss=tensor(12.9044, device='cuda:0')\n"
     ]
    },
    {
     "name": "stderr",
     "output_type": "stream",
     "text": [
      "100%|██████████| 7/7 [00:00<00:00,  8.43it/s]\n",
      "100%|██████████| 425/425 [00:25<00:00, 16.68it/s]\n"
     ]
    },
    {
     "name": "stdout",
     "output_type": "stream",
     "text": [
      "epoch=34: train_ppl=tensor(1.2807, device='cuda:0') train_epoch_loss=tensor(0.2474, device='cuda:0') eval_ppl=tensor(275142.2188, device='cuda:0') eval_epoch_loss=tensor(12.5250, device='cuda:0')\n"
     ]
    },
    {
     "name": "stderr",
     "output_type": "stream",
     "text": [
      "100%|██████████| 7/7 [00:00<00:00,  8.49it/s]\n",
      "100%|██████████| 425/425 [00:25<00:00, 16.68it/s]\n"
     ]
    },
    {
     "name": "stdout",
     "output_type": "stream",
     "text": [
      "epoch=35: train_ppl=tensor(1.2713, device='cuda:0') train_epoch_loss=tensor(0.2401, device='cuda:0') eval_ppl=tensor(392261.6875, device='cuda:0') eval_epoch_loss=tensor(12.8797, device='cuda:0')\n"
     ]
    },
    {
     "name": "stderr",
     "output_type": "stream",
     "text": [
      "100%|██████████| 7/7 [00:00<00:00,  8.56it/s]\n",
      "100%|██████████| 425/425 [00:25<00:00, 16.68it/s]\n"
     ]
    },
    {
     "name": "stdout",
     "output_type": "stream",
     "text": [
      "epoch=36: train_ppl=tensor(1.2221, device='cuda:0') train_epoch_loss=tensor(0.2005, device='cuda:0') eval_ppl=tensor(443642.0625, device='cuda:0') eval_epoch_loss=tensor(13.0028, device='cuda:0')\n"
     ]
    },
    {
     "name": "stderr",
     "output_type": "stream",
     "text": [
      "100%|██████████| 7/7 [00:00<00:00,  8.56it/s]\n",
      "100%|██████████| 425/425 [00:25<00:00, 16.68it/s]\n"
     ]
    },
    {
     "name": "stdout",
     "output_type": "stream",
     "text": [
      "epoch=37: train_ppl=tensor(1.2165, device='cuda:0') train_epoch_loss=tensor(0.1960, device='cuda:0') eval_ppl=tensor(499801.5000, device='cuda:0') eval_epoch_loss=tensor(13.1220, device='cuda:0')\n"
     ]
    },
    {
     "name": "stderr",
     "output_type": "stream",
     "text": [
      "100%|██████████| 7/7 [00:00<00:00,  8.64it/s]\n",
      "100%|██████████| 425/425 [00:25<00:00, 16.69it/s]\n"
     ]
    },
    {
     "name": "stdout",
     "output_type": "stream",
     "text": [
      "epoch=38: train_ppl=tensor(1.1929, device='cuda:0') train_epoch_loss=tensor(0.1764, device='cuda:0') eval_ppl=tensor(703960.5000, device='cuda:0') eval_epoch_loss=tensor(13.4645, device='cuda:0')\n"
     ]
    },
    {
     "name": "stderr",
     "output_type": "stream",
     "text": [
      "100%|██████████| 7/7 [00:00<00:00,  8.55it/s]\n",
      "100%|██████████| 425/425 [00:25<00:00, 16.68it/s]\n"
     ]
    },
    {
     "name": "stdout",
     "output_type": "stream",
     "text": [
      "epoch=39: train_ppl=tensor(1.2159, device='cuda:0') train_epoch_loss=tensor(0.1955, device='cuda:0') eval_ppl=tensor(933623.1250, device='cuda:0') eval_epoch_loss=tensor(13.7468, device='cuda:0')\n"
     ]
    },
    {
     "name": "stderr",
     "output_type": "stream",
     "text": [
      "100%|██████████| 7/7 [00:00<00:00,  8.51it/s]\n",
      "100%|██████████| 425/425 [00:25<00:00, 16.68it/s]\n"
     ]
    },
    {
     "name": "stdout",
     "output_type": "stream",
     "text": [
      "epoch=40: train_ppl=tensor(1.1975, device='cuda:0') train_epoch_loss=tensor(0.1802, device='cuda:0') eval_ppl=tensor(868784.5625, device='cuda:0') eval_epoch_loss=tensor(13.6749, device='cuda:0')\n"
     ]
    },
    {
     "name": "stderr",
     "output_type": "stream",
     "text": [
      "100%|██████████| 7/7 [00:00<00:00,  8.41it/s]\n",
      "100%|██████████| 425/425 [00:25<00:00, 16.68it/s]\n"
     ]
    },
    {
     "name": "stdout",
     "output_type": "stream",
     "text": [
      "epoch=41: train_ppl=tensor(1.2035, device='cuda:0') train_epoch_loss=tensor(0.1853, device='cuda:0') eval_ppl=tensor(816294.7500, device='cuda:0') eval_epoch_loss=tensor(13.6125, device='cuda:0')\n"
     ]
    },
    {
     "name": "stderr",
     "output_type": "stream",
     "text": [
      "100%|██████████| 7/7 [00:00<00:00,  8.54it/s]\n",
      "100%|██████████| 425/425 [00:25<00:00, 16.68it/s]\n"
     ]
    },
    {
     "name": "stdout",
     "output_type": "stream",
     "text": [
      "epoch=42: train_ppl=tensor(1.1748, device='cuda:0') train_epoch_loss=tensor(0.1611, device='cuda:0') eval_ppl=tensor(932279.5625, device='cuda:0') eval_epoch_loss=tensor(13.7454, device='cuda:0')\n"
     ]
    },
    {
     "name": "stderr",
     "output_type": "stream",
     "text": [
      "100%|██████████| 7/7 [00:00<00:00,  8.79it/s]\n",
      "100%|██████████| 425/425 [00:25<00:00, 16.68it/s]\n"
     ]
    },
    {
     "name": "stdout",
     "output_type": "stream",
     "text": [
      "epoch=43: train_ppl=tensor(1.1749, device='cuda:0') train_epoch_loss=tensor(0.1612, device='cuda:0') eval_ppl=tensor(1037073.5625, device='cuda:0') eval_epoch_loss=tensor(13.8519, device='cuda:0')\n"
     ]
    },
    {
     "name": "stderr",
     "output_type": "stream",
     "text": [
      "100%|██████████| 7/7 [00:00<00:00,  8.57it/s]\n",
      "100%|██████████| 425/425 [00:25<00:00, 16.68it/s]\n"
     ]
    },
    {
     "name": "stdout",
     "output_type": "stream",
     "text": [
      "epoch=44: train_ppl=tensor(1.1760, device='cuda:0') train_epoch_loss=tensor(0.1622, device='cuda:0') eval_ppl=tensor(1091108., device='cuda:0') eval_epoch_loss=tensor(13.9027, device='cuda:0')\n"
     ]
    },
    {
     "name": "stderr",
     "output_type": "stream",
     "text": [
      "100%|██████████| 7/7 [00:00<00:00,  8.66it/s]\n",
      "100%|██████████| 425/425 [00:25<00:00, 16.68it/s]\n"
     ]
    },
    {
     "name": "stdout",
     "output_type": "stream",
     "text": [
      "epoch=45: train_ppl=tensor(1.1551, device='cuda:0') train_epoch_loss=tensor(0.1442, device='cuda:0') eval_ppl=tensor(1154852.5000, device='cuda:0') eval_epoch_loss=tensor(13.9595, device='cuda:0')\n"
     ]
    },
    {
     "name": "stderr",
     "output_type": "stream",
     "text": [
      "100%|██████████| 7/7 [00:00<00:00,  8.31it/s]\n",
      "100%|██████████| 425/425 [00:25<00:00, 16.68it/s]\n"
     ]
    },
    {
     "name": "stdout",
     "output_type": "stream",
     "text": [
      "epoch=46: train_ppl=tensor(1.1625, device='cuda:0') train_epoch_loss=tensor(0.1506, device='cuda:0') eval_ppl=tensor(1273828., device='cuda:0') eval_epoch_loss=tensor(14.0575, device='cuda:0')\n"
     ]
    },
    {
     "name": "stderr",
     "output_type": "stream",
     "text": [
      "100%|██████████| 7/7 [00:00<00:00,  8.51it/s]\n",
      "100%|██████████| 425/425 [00:25<00:00, 16.68it/s]\n"
     ]
    },
    {
     "name": "stdout",
     "output_type": "stream",
     "text": [
      "epoch=47: train_ppl=tensor(1.1646, device='cuda:0') train_epoch_loss=tensor(0.1524, device='cuda:0') eval_ppl=tensor(1374541.3750, device='cuda:0') eval_epoch_loss=tensor(14.1336, device='cuda:0')\n"
     ]
    },
    {
     "name": "stderr",
     "output_type": "stream",
     "text": [
      "100%|██████████| 7/7 [00:00<00:00,  8.61it/s]\n",
      "100%|██████████| 425/425 [00:25<00:00, 16.69it/s]\n"
     ]
    },
    {
     "name": "stdout",
     "output_type": "stream",
     "text": [
      "epoch=48: train_ppl=tensor(1.1486, device='cuda:0') train_epoch_loss=tensor(0.1386, device='cuda:0') eval_ppl=tensor(1354205.8750, device='cuda:0') eval_epoch_loss=tensor(14.1187, device='cuda:0')\n"
     ]
    },
    {
     "name": "stderr",
     "output_type": "stream",
     "text": [
      "100%|██████████| 7/7 [00:00<00:00,  8.51it/s]\n",
      "100%|██████████| 425/425 [00:25<00:00, 16.68it/s]"
     ]
    },
    {
     "name": "stdout",
     "output_type": "stream",
     "text": [
      "epoch=49: train_ppl=tensor(1.1539, device='cuda:0') train_epoch_loss=tensor(0.1432, device='cuda:0') eval_ppl=tensor(1375652.2500, device='cuda:0') eval_epoch_loss=tensor(14.1344, device='cuda:0')\n"
     ]
    },
    {
     "name": "stderr",
     "output_type": "stream",
     "text": [
      "\n"
     ]
    },
    {
     "data": {
      "text/html": [
       "Waiting for W&B process to finish... <strong style=\"color:green\">(success).</strong>"
      ],
      "text/plain": [
       "<IPython.core.display.HTML object>"
      ]
     },
     "metadata": {},
     "output_type": "display_data"
    },
    {
     "name": "stderr",
     "output_type": "stream",
     "text": [
      "wandb: WARNING Source type is set to 'repo' but some required information is missing from the environment. A job will not be created from this run. See https://docs.wandb.ai/guides/launch/create-job\n"
     ]
    },
    {
     "data": {
      "application/vnd.jupyter.widget-view+json": {
       "model_id": "24169b4e2e6f472088075fc4750e9bf9",
       "version_major": 2,
       "version_minor": 0
      },
      "text/plain": [
       "VBox(children=(Label(value='0.014 MB of 0.014 MB uploaded (0.000 MB deduped)\\r'), FloatProgress(value=1.0, max…"
      ]
     },
     "metadata": {},
     "output_type": "display_data"
    },
    {
     "data": {
      "text/html": [
       "<style>\n",
       "    table.wandb td:nth-child(1) { padding: 0 10px; text-align: left ; width: auto;} td:nth-child(2) {text-align: left ; width: 100%}\n",
       "    .wandb-row { display: flex; flex-direction: row; flex-wrap: wrap; justify-content: flex-start; width: 100% }\n",
       "    .wandb-col { display: flex; flex-direction: column; flex-basis: 100%; flex: 1; padding: 10px; }\n",
       "    </style>\n",
       "<div class=\"wandb-row\"><div class=\"wandb-col\"><h3>Run history:</h3><br/><table class=\"wandb\"><tr><td>epoch</td><td>▁▁▁▁▂▂▂▂▂▃▃▃▃▃▃▄▄▄▄▄▅▅▅▅▅▅▆▆▆▆▆▆▇▇▇▇▇███</td></tr><tr><td>eval_epoch_loss</td><td>▁▁▁▁▁▁▂▂██▂▂▃▃▃▃▃▃▃▃▃▃▃▃▃▃▃▄▄▄▄▄▄▄▄▄▄▄▄▄</td></tr><tr><td>eval_ppl</td><td>▁▁▁▁▁▁▁▁█▆▁▁▁▁▁▁▁▁▁▁▁▁▁▁▁▁▁▁▁▁▁▁▁▁▁▁▁▁▁▁</td></tr><tr><td>train_epoch_loss</td><td>█▃▃▂▂▂▂▂▂▂▂▂▁▁▁▁▁▁▁▁▁▁▁▁▁▁▁▁▁▁▁▁▁▁▁▁▁▁▁▁</td></tr><tr><td>train_ppl</td><td>█▁▁▁▁▁▁▁▁▁▁▁▁▁▁▁▁▁▁▁▁▁▁▁▁▁▁▁▁▁▁▁▁▁▁▁▁▁▁▁</td></tr></table><br/></div><div class=\"wandb-col\"><h3>Run summary:</h3><br/><table class=\"wandb\"><tr><td>epoch</td><td>49</td></tr><tr><td>eval_epoch_loss</td><td>14.13444</td></tr><tr><td>eval_ppl</td><td>1375652.25</td></tr><tr><td>train_epoch_loss</td><td>0.14315</td></tr><tr><td>train_ppl</td><td>1.15391</td></tr></table><br/></div></div>"
      ],
      "text/plain": [
       "<IPython.core.display.HTML object>"
      ]
     },
     "metadata": {},
     "output_type": "display_data"
    },
    {
     "data": {
      "text/html": [
       " View run <strong style=\"color:#cdcd00\">run_5</strong> at: <a href='https://wandb.ai/rbelanec/bloomz-560m_prompt_tunning_casual_lm/runs/7pha7erb' target=\"_blank\">https://wandb.ai/rbelanec/bloomz-560m_prompt_tunning_casual_lm/runs/7pha7erb</a><br/>Synced 6 W&B file(s), 0 media file(s), 0 artifact file(s) and 0 other file(s)"
      ],
      "text/plain": [
       "<IPython.core.display.HTML object>"
      ]
     },
     "metadata": {},
     "output_type": "display_data"
    },
    {
     "data": {
      "text/html": [
       "Find logs at: <code>./wandb/run-20231019_084310-7pha7erb/logs</code>"
      ],
      "text/plain": [
       "<IPython.core.display.HTML object>"
      ]
     },
     "metadata": {},
     "output_type": "display_data"
    },
    {
     "data": {
      "application/vnd.jupyter.widget-view+json": {
       "model_id": "6324cf29615c4c3194bf60538e167511",
       "version_major": 2,
       "version_minor": 0
      },
      "text/plain": [
       "VBox(children=(Label(value='Waiting for wandb.init()...\\r'), FloatProgress(value=0.011112443675907949, max=1.0…"
      ]
     },
     "metadata": {},
     "output_type": "display_data"
    },
    {
     "data": {
      "text/html": [
       "Tracking run with wandb version 0.15.12"
      ],
      "text/plain": [
       "<IPython.core.display.HTML object>"
      ]
     },
     "metadata": {},
     "output_type": "display_data"
    },
    {
     "data": {
      "text/html": [
       "Run data is saved locally in <code>/home/jovyan/KInIT/PhD/replication_challenge/wandb/run-20231019_090524-oa42ni26</code>"
      ],
      "text/plain": [
       "<IPython.core.display.HTML object>"
      ]
     },
     "metadata": {},
     "output_type": "display_data"
    },
    {
     "data": {
      "text/html": [
       "Syncing run <strong><a href='https://wandb.ai/rbelanec/bloomz-560m_prompt_tunning_casual_lm/runs/oa42ni26' target=\"_blank\">run_6</a></strong> to <a href='https://wandb.ai/rbelanec/bloomz-560m_prompt_tunning_casual_lm' target=\"_blank\">Weights & Biases</a> (<a href='https://wandb.me/run' target=\"_blank\">docs</a>)<br/>"
      ],
      "text/plain": [
       "<IPython.core.display.HTML object>"
      ]
     },
     "metadata": {},
     "output_type": "display_data"
    },
    {
     "data": {
      "text/html": [
       " View project at <a href='https://wandb.ai/rbelanec/bloomz-560m_prompt_tunning_casual_lm' target=\"_blank\">https://wandb.ai/rbelanec/bloomz-560m_prompt_tunning_casual_lm</a>"
      ],
      "text/plain": [
       "<IPython.core.display.HTML object>"
      ]
     },
     "metadata": {},
     "output_type": "display_data"
    },
    {
     "data": {
      "text/html": [
       " View run at <a href='https://wandb.ai/rbelanec/bloomz-560m_prompt_tunning_casual_lm/runs/oa42ni26' target=\"_blank\">https://wandb.ai/rbelanec/bloomz-560m_prompt_tunning_casual_lm/runs/oa42ni26</a>"
      ],
      "text/plain": [
       "<IPython.core.display.HTML object>"
      ]
     },
     "metadata": {},
     "output_type": "display_data"
    },
    {
     "name": "stdout",
     "output_type": "stream",
     "text": [
      "trainable params: 8,192 || all params: 559,222,784 || trainable%: 0.0014648902430985358\n"
     ]
    },
    {
     "name": "stderr",
     "output_type": "stream",
     "text": [
      "100%|██████████| 7/7 [00:00<00:00,  8.60it/s]\n",
      "100%|██████████| 425/425 [00:25<00:00, 16.79it/s]\n"
     ]
    },
    {
     "name": "stdout",
     "output_type": "stream",
     "text": [
      "epoch=0: train_ppl=tensor(5.7300e+11, device='cuda:0') train_epoch_loss=tensor(27.0742, device='cuda:0') eval_ppl=tensor(3204.5491, device='cuda:0') eval_epoch_loss=tensor(8.0723, device='cuda:0')\n"
     ]
    },
    {
     "name": "stderr",
     "output_type": "stream",
     "text": [
      "100%|██████████| 7/7 [00:00<00:00,  8.56it/s]\n",
      "100%|██████████| 425/425 [00:25<00:00, 16.70it/s]\n"
     ]
    },
    {
     "name": "stdout",
     "output_type": "stream",
     "text": [
      "epoch=1: train_ppl=tensor(1394.1077, device='cuda:0') train_epoch_loss=tensor(7.2400, device='cuda:0') eval_ppl=tensor(2450.0789, device='cuda:0') eval_epoch_loss=tensor(7.8039, device='cuda:0')\n"
     ]
    },
    {
     "name": "stderr",
     "output_type": "stream",
     "text": [
      "100%|██████████| 7/7 [00:00<00:00,  8.52it/s]\n",
      "100%|██████████| 425/425 [00:25<00:00, 16.70it/s]\n"
     ]
    },
    {
     "name": "stdout",
     "output_type": "stream",
     "text": [
      "epoch=2: train_ppl=tensor(345.7880, device='cuda:0') train_epoch_loss=tensor(5.8458, device='cuda:0') eval_ppl=tensor(3716.4062, device='cuda:0') eval_epoch_loss=tensor(8.2205, device='cuda:0')\n"
     ]
    },
    {
     "name": "stderr",
     "output_type": "stream",
     "text": [
      "100%|██████████| 7/7 [00:00<00:00,  8.41it/s]\n",
      "100%|██████████| 425/425 [00:25<00:00, 16.65it/s]\n"
     ]
    },
    {
     "name": "stdout",
     "output_type": "stream",
     "text": [
      "epoch=3: train_ppl=tensor(225.4353, device='cuda:0') train_epoch_loss=tensor(5.4180, device='cuda:0') eval_ppl=tensor(4673.5830, device='cuda:0') eval_epoch_loss=tensor(8.4497, device='cuda:0')\n"
     ]
    },
    {
     "name": "stderr",
     "output_type": "stream",
     "text": [
      "100%|██████████| 7/7 [00:00<00:00,  8.65it/s]\n",
      "100%|██████████| 425/425 [00:25<00:00, 16.67it/s]\n"
     ]
    },
    {
     "name": "stdout",
     "output_type": "stream",
     "text": [
      "epoch=4: train_ppl=tensor(154.1380, device='cuda:0') train_epoch_loss=tensor(5.0378, device='cuda:0') eval_ppl=tensor(4852.7085, device='cuda:0') eval_epoch_loss=tensor(8.4873, device='cuda:0')\n"
     ]
    },
    {
     "name": "stderr",
     "output_type": "stream",
     "text": [
      "100%|██████████| 7/7 [00:00<00:00,  8.27it/s]\n",
      "100%|██████████| 425/425 [00:25<00:00, 16.68it/s]\n"
     ]
    },
    {
     "name": "stdout",
     "output_type": "stream",
     "text": [
      "epoch=5: train_ppl=tensor(138.1260, device='cuda:0') train_epoch_loss=tensor(4.9282, device='cuda:0') eval_ppl=tensor(3876.4622, device='cuda:0') eval_epoch_loss=tensor(8.2627, device='cuda:0')\n"
     ]
    },
    {
     "name": "stderr",
     "output_type": "stream",
     "text": [
      "100%|██████████| 7/7 [00:00<00:00,  8.72it/s]\n",
      "100%|██████████| 425/425 [00:25<00:00, 16.68it/s]\n"
     ]
    },
    {
     "name": "stdout",
     "output_type": "stream",
     "text": [
      "epoch=6: train_ppl=tensor(92.0394, device='cuda:0') train_epoch_loss=tensor(4.5222, device='cuda:0') eval_ppl=tensor(4626.1392, device='cuda:0') eval_epoch_loss=tensor(8.4395, device='cuda:0')\n"
     ]
    },
    {
     "name": "stderr",
     "output_type": "stream",
     "text": [
      "100%|██████████| 7/7 [00:00<00:00,  8.42it/s]\n",
      "100%|██████████| 425/425 [00:25<00:00, 16.69it/s]\n"
     ]
    },
    {
     "name": "stdout",
     "output_type": "stream",
     "text": [
      "epoch=7: train_ppl=tensor(65.2345, device='cuda:0') train_epoch_loss=tensor(4.1780, device='cuda:0') eval_ppl=tensor(7032.9551, device='cuda:0') eval_epoch_loss=tensor(8.8584, device='cuda:0')\n"
     ]
    },
    {
     "name": "stderr",
     "output_type": "stream",
     "text": [
      "100%|██████████| 7/7 [00:00<00:00,  8.59it/s]\n",
      "100%|██████████| 425/425 [00:25<00:00, 16.68it/s]\n"
     ]
    },
    {
     "name": "stdout",
     "output_type": "stream",
     "text": [
      "epoch=8: train_ppl=tensor(49.5112, device='cuda:0') train_epoch_loss=tensor(3.9022, device='cuda:0') eval_ppl=tensor(11628.8701, device='cuda:0') eval_epoch_loss=tensor(9.3612, device='cuda:0')\n"
     ]
    },
    {
     "name": "stderr",
     "output_type": "stream",
     "text": [
      "100%|██████████| 7/7 [00:00<00:00,  8.52it/s]\n",
      "100%|██████████| 425/425 [00:25<00:00, 16.68it/s]\n"
     ]
    },
    {
     "name": "stdout",
     "output_type": "stream",
     "text": [
      "epoch=9: train_ppl=tensor(37.9270, device='cuda:0') train_epoch_loss=tensor(3.6357, device='cuda:0') eval_ppl=tensor(19085.5098, device='cuda:0') eval_epoch_loss=tensor(9.8567, device='cuda:0')\n"
     ]
    },
    {
     "name": "stderr",
     "output_type": "stream",
     "text": [
      "100%|██████████| 7/7 [00:00<00:00,  8.63it/s]\n",
      "100%|██████████| 425/425 [00:25<00:00, 16.68it/s]\n"
     ]
    },
    {
     "name": "stdout",
     "output_type": "stream",
     "text": [
      "epoch=10: train_ppl=tensor(28.9936, device='cuda:0') train_epoch_loss=tensor(3.3671, device='cuda:0') eval_ppl=tensor(23025.7344, device='cuda:0') eval_epoch_loss=tensor(10.0444, device='cuda:0')\n"
     ]
    },
    {
     "name": "stderr",
     "output_type": "stream",
     "text": [
      "100%|██████████| 7/7 [00:00<00:00,  8.53it/s]\n",
      "100%|██████████| 425/425 [00:25<00:00, 16.68it/s]\n"
     ]
    },
    {
     "name": "stdout",
     "output_type": "stream",
     "text": [
      "epoch=15: train_ppl=tensor(7.8520, device='cuda:0') train_epoch_loss=tensor(2.0608, device='cuda:0') eval_ppl=tensor(237179.7344, device='cuda:0') eval_epoch_loss=tensor(12.3766, device='cuda:0')\n"
     ]
    },
    {
     "name": "stderr",
     "output_type": "stream",
     "text": [
      "100%|██████████| 7/7 [00:00<00:00,  8.30it/s]\n",
      "100%|██████████| 425/425 [00:25<00:00, 16.68it/s]\n"
     ]
    },
    {
     "name": "stdout",
     "output_type": "stream",
     "text": [
      "epoch=16: train_ppl=tensor(9.9369, device='cuda:0') train_epoch_loss=tensor(2.2963, device='cuda:0') eval_ppl=tensor(155709.0938, device='cuda:0') eval_epoch_loss=tensor(11.9557, device='cuda:0')\n"
     ]
    },
    {
     "name": "stderr",
     "output_type": "stream",
     "text": [
      "100%|██████████| 7/7 [00:00<00:00,  8.45it/s]\n",
      "100%|██████████| 425/425 [00:25<00:00, 16.69it/s]\n"
     ]
    },
    {
     "name": "stdout",
     "output_type": "stream",
     "text": [
      "epoch=17: train_ppl=tensor(6.1648, device='cuda:0') train_epoch_loss=tensor(1.8189, device='cuda:0') eval_ppl=tensor(193082.4844, device='cuda:0') eval_epoch_loss=tensor(12.1709, device='cuda:0')\n"
     ]
    },
    {
     "name": "stderr",
     "output_type": "stream",
     "text": [
      "100%|██████████| 7/7 [00:00<00:00,  8.76it/s]\n",
      "100%|██████████| 425/425 [00:25<00:00, 16.68it/s]\n"
     ]
    },
    {
     "name": "stdout",
     "output_type": "stream",
     "text": [
      "epoch=18: train_ppl=tensor(3.7944, device='cuda:0') train_epoch_loss=tensor(1.3335, device='cuda:0') eval_ppl=tensor(161418.7812, device='cuda:0') eval_epoch_loss=tensor(11.9918, device='cuda:0')\n"
     ]
    },
    {
     "name": "stderr",
     "output_type": "stream",
     "text": [
      "100%|██████████| 7/7 [00:00<00:00,  8.75it/s]\n",
      "100%|██████████| 425/425 [00:25<00:00, 16.68it/s]\n"
     ]
    },
    {
     "name": "stdout",
     "output_type": "stream",
     "text": [
      "epoch=19: train_ppl=tensor(2.7619, device='cuda:0') train_epoch_loss=tensor(1.0159, device='cuda:0') eval_ppl=tensor(231952.7656, device='cuda:0') eval_epoch_loss=tensor(12.3543, device='cuda:0')\n"
     ]
    },
    {
     "name": "stderr",
     "output_type": "stream",
     "text": [
      "100%|██████████| 7/7 [00:00<00:00,  8.53it/s]\n",
      "100%|██████████| 425/425 [00:25<00:00, 16.68it/s]\n"
     ]
    },
    {
     "name": "stdout",
     "output_type": "stream",
     "text": [
      "epoch=20: train_ppl=tensor(2.6627, device='cuda:0') train_epoch_loss=tensor(0.9793, device='cuda:0') eval_ppl=tensor(321025.4062, device='cuda:0') eval_epoch_loss=tensor(12.6793, device='cuda:0')\n"
     ]
    },
    {
     "name": "stderr",
     "output_type": "stream",
     "text": [
      "100%|██████████| 7/7 [00:00<00:00,  8.75it/s]\n",
      "100%|██████████| 425/425 [00:25<00:00, 16.68it/s]\n"
     ]
    },
    {
     "name": "stdout",
     "output_type": "stream",
     "text": [
      "epoch=21: train_ppl=tensor(2.2777, device='cuda:0') train_epoch_loss=tensor(0.8232, device='cuda:0') eval_ppl=tensor(198114.4062, device='cuda:0') eval_epoch_loss=tensor(12.1966, device='cuda:0')\n"
     ]
    },
    {
     "name": "stderr",
     "output_type": "stream",
     "text": [
      "100%|██████████| 7/7 [00:00<00:00,  8.52it/s]\n",
      "100%|██████████| 425/425 [00:25<00:00, 16.68it/s]\n"
     ]
    },
    {
     "name": "stdout",
     "output_type": "stream",
     "text": [
      "epoch=22: train_ppl=tensor(2.5316, device='cuda:0') train_epoch_loss=tensor(0.9288, device='cuda:0') eval_ppl=tensor(175749.4531, device='cuda:0') eval_epoch_loss=tensor(12.0768, device='cuda:0')\n"
     ]
    },
    {
     "name": "stderr",
     "output_type": "stream",
     "text": [
      "100%|██████████| 7/7 [00:00<00:00,  8.78it/s]\n",
      "100%|██████████| 425/425 [00:25<00:00, 16.67it/s]\n"
     ]
    },
    {
     "name": "stdout",
     "output_type": "stream",
     "text": [
      "epoch=23: train_ppl=tensor(2.3245, device='cuda:0') train_epoch_loss=tensor(0.8435, device='cuda:0') eval_ppl=tensor(241949.2969, device='cuda:0') eval_epoch_loss=tensor(12.3965, device='cuda:0')\n"
     ]
    },
    {
     "name": "stderr",
     "output_type": "stream",
     "text": [
      "100%|██████████| 7/7 [00:00<00:00,  8.62it/s]\n",
      "100%|██████████| 425/425 [00:25<00:00, 16.67it/s]\n"
     ]
    },
    {
     "name": "stdout",
     "output_type": "stream",
     "text": [
      "epoch=24: train_ppl=tensor(1.8042, device='cuda:0') train_epoch_loss=tensor(0.5901, device='cuda:0') eval_ppl=tensor(411535.8125, device='cuda:0') eval_epoch_loss=tensor(12.9277, device='cuda:0')\n"
     ]
    },
    {
     "name": "stderr",
     "output_type": "stream",
     "text": [
      "100%|██████████| 7/7 [00:00<00:00,  8.64it/s]\n",
      "100%|██████████| 425/425 [00:25<00:00, 16.67it/s]\n"
     ]
    },
    {
     "name": "stdout",
     "output_type": "stream",
     "text": [
      "epoch=25: train_ppl=tensor(1.6528, device='cuda:0') train_epoch_loss=tensor(0.5024, device='cuda:0') eval_ppl=tensor(368994.7500, device='cuda:0') eval_epoch_loss=tensor(12.8185, device='cuda:0')\n"
     ]
    },
    {
     "name": "stderr",
     "output_type": "stream",
     "text": [
      "100%|██████████| 7/7 [00:00<00:00,  8.58it/s]\n",
      "100%|██████████| 425/425 [00:25<00:00, 16.67it/s]\n"
     ]
    },
    {
     "name": "stdout",
     "output_type": "stream",
     "text": [
      "epoch=26: train_ppl=tensor(1.5800, device='cuda:0') train_epoch_loss=tensor(0.4574, device='cuda:0') eval_ppl=tensor(423990.0312, device='cuda:0') eval_epoch_loss=tensor(12.9575, device='cuda:0')\n"
     ]
    },
    {
     "name": "stderr",
     "output_type": "stream",
     "text": [
      "100%|██████████| 7/7 [00:00<00:00,  8.53it/s]\n",
      "100%|██████████| 425/425 [00:25<00:00, 16.68it/s]\n"
     ]
    },
    {
     "name": "stdout",
     "output_type": "stream",
     "text": [
      "epoch=27: train_ppl=tensor(2.0621, device='cuda:0') train_epoch_loss=tensor(0.7237, device='cuda:0') eval_ppl=tensor(241429.0625, device='cuda:0') eval_epoch_loss=tensor(12.3943, device='cuda:0')\n"
     ]
    },
    {
     "name": "stderr",
     "output_type": "stream",
     "text": [
      "100%|██████████| 7/7 [00:00<00:00,  8.56it/s]\n",
      " 89%|████████▉ | 378/425 [00:22<00:02, 16.68it/s]IOPub message rate exceeded.\n",
      "The Jupyter server will temporarily stop sending output\n",
      "to the client in order to avoid crashing it.\n",
      "To change this limit, set the config variable\n",
      "`--ServerApp.iopub_msg_rate_limit`.\n",
      "\n",
      "Current values:\n",
      "ServerApp.iopub_msg_rate_limit=1000.0 (msgs/sec)\n",
      "ServerApp.rate_limit_window=3.0 (secs)\n",
      "\n",
      "100%|██████████| 425/425 [00:25<00:00, 16.68it/s]\n"
     ]
    },
    {
     "name": "stdout",
     "output_type": "stream",
     "text": [
      "epoch=33: train_ppl=tensor(1.3190, device='cuda:0') train_epoch_loss=tensor(0.2769, device='cuda:0') eval_ppl=tensor(701364.5000, device='cuda:0') eval_epoch_loss=tensor(13.4608, device='cuda:0')\n"
     ]
    },
    {
     "name": "stderr",
     "output_type": "stream",
     "text": [
      "100%|██████████| 7/7 [00:00<00:00,  8.74it/s]\n",
      "100%|██████████| 425/425 [00:25<00:00, 16.68it/s]\n"
     ]
    },
    {
     "name": "stdout",
     "output_type": "stream",
     "text": [
      "epoch=34: train_ppl=tensor(1.2836, device='cuda:0') train_epoch_loss=tensor(0.2496, device='cuda:0') eval_ppl=tensor(1047648.4375, device='cuda:0') eval_epoch_loss=tensor(13.8621, device='cuda:0')\n"
     ]
    },
    {
     "name": "stderr",
     "output_type": "stream",
     "text": [
      "100%|██████████| 7/7 [00:00<00:00,  8.46it/s]\n",
      "100%|██████████| 425/425 [00:25<00:00, 16.68it/s]\n"
     ]
    },
    {
     "name": "stdout",
     "output_type": "stream",
     "text": [
      "epoch=35: train_ppl=tensor(1.3235, device='cuda:0') train_epoch_loss=tensor(0.2803, device='cuda:0') eval_ppl=tensor(1390879.3750, device='cuda:0') eval_epoch_loss=tensor(14.1454, device='cuda:0')\n"
     ]
    },
    {
     "name": "stderr",
     "output_type": "stream",
     "text": [
      "100%|██████████| 7/7 [00:00<00:00,  8.75it/s]\n",
      "100%|██████████| 425/425 [00:25<00:00, 16.68it/s]\n"
     ]
    },
    {
     "name": "stdout",
     "output_type": "stream",
     "text": [
      "epoch=36: train_ppl=tensor(1.2597, device='cuda:0') train_epoch_loss=tensor(0.2309, device='cuda:0') eval_ppl=tensor(1500060.5000, device='cuda:0') eval_epoch_loss=tensor(14.2210, device='cuda:0')\n"
     ]
    },
    {
     "name": "stderr",
     "output_type": "stream",
     "text": [
      "100%|██████████| 7/7 [00:00<00:00,  8.29it/s]\n",
      "100%|██████████| 425/425 [00:25<00:00, 16.68it/s]\n"
     ]
    },
    {
     "name": "stdout",
     "output_type": "stream",
     "text": [
      "epoch=37: train_ppl=tensor(1.2843, device='cuda:0') train_epoch_loss=tensor(0.2502, device='cuda:0') eval_ppl=tensor(1984312.2500, device='cuda:0') eval_epoch_loss=tensor(14.5008, device='cuda:0')\n"
     ]
    },
    {
     "name": "stderr",
     "output_type": "stream",
     "text": [
      "100%|██████████| 7/7 [00:00<00:00,  8.44it/s]\n",
      "100%|██████████| 425/425 [00:25<00:00, 16.68it/s]\n"
     ]
    },
    {
     "name": "stdout",
     "output_type": "stream",
     "text": [
      "epoch=38: train_ppl=tensor(1.2676, device='cuda:0') train_epoch_loss=tensor(0.2372, device='cuda:0') eval_ppl=tensor(1999764.7500, device='cuda:0') eval_epoch_loss=tensor(14.5085, device='cuda:0')\n"
     ]
    },
    {
     "name": "stderr",
     "output_type": "stream",
     "text": [
      "100%|██████████| 7/7 [00:00<00:00,  8.57it/s]\n",
      "100%|██████████| 425/425 [00:25<00:00, 16.67it/s]\n"
     ]
    },
    {
     "name": "stdout",
     "output_type": "stream",
     "text": [
      "epoch=39: train_ppl=tensor(1.2475, device='cuda:0') train_epoch_loss=tensor(0.2211, device='cuda:0') eval_ppl=tensor(1903472.3750, device='cuda:0') eval_epoch_loss=tensor(14.4592, device='cuda:0')\n"
     ]
    },
    {
     "name": "stderr",
     "output_type": "stream",
     "text": [
      "100%|██████████| 7/7 [00:00<00:00,  8.77it/s]\n",
      "100%|██████████| 425/425 [00:25<00:00, 16.68it/s]\n"
     ]
    },
    {
     "name": "stdout",
     "output_type": "stream",
     "text": [
      "epoch=40: train_ppl=tensor(1.2587, device='cuda:0') train_epoch_loss=tensor(0.2301, device='cuda:0') eval_ppl=tensor(3032289.7500, device='cuda:0') eval_epoch_loss=tensor(14.9248, device='cuda:0')\n"
     ]
    },
    {
     "name": "stderr",
     "output_type": "stream",
     "text": [
      "100%|██████████| 7/7 [00:00<00:00,  8.38it/s]\n",
      "100%|██████████| 425/425 [00:25<00:00, 16.69it/s]\n"
     ]
    },
    {
     "name": "stdout",
     "output_type": "stream",
     "text": [
      "epoch=41: train_ppl=tensor(1.2367, device='cuda:0') train_epoch_loss=tensor(0.2125, device='cuda:0') eval_ppl=tensor(2745238.2500, device='cuda:0') eval_epoch_loss=tensor(14.8254, device='cuda:0')\n"
     ]
    },
    {
     "name": "stderr",
     "output_type": "stream",
     "text": [
      "100%|██████████| 7/7 [00:00<00:00,  8.54it/s]\n",
      "100%|██████████| 425/425 [00:25<00:00, 16.68it/s]\n"
     ]
    },
    {
     "name": "stdout",
     "output_type": "stream",
     "text": [
      "epoch=42: train_ppl=tensor(1.3137, device='cuda:0') train_epoch_loss=tensor(0.2729, device='cuda:0') eval_ppl=tensor(1876383.2500, device='cuda:0') eval_epoch_loss=tensor(14.4449, device='cuda:0')\n"
     ]
    },
    {
     "name": "stderr",
     "output_type": "stream",
     "text": [
      "100%|██████████| 7/7 [00:00<00:00,  8.56it/s]\n",
      "100%|██████████| 425/425 [00:25<00:00, 16.68it/s]\n"
     ]
    },
    {
     "name": "stdout",
     "output_type": "stream",
     "text": [
      "epoch=43: train_ppl=tensor(1.2588, device='cuda:0') train_epoch_loss=tensor(0.2302, device='cuda:0') eval_ppl=tensor(2206812., device='cuda:0') eval_epoch_loss=tensor(14.6071, device='cuda:0')\n"
     ]
    },
    {
     "name": "stderr",
     "output_type": "stream",
     "text": [
      "100%|██████████| 7/7 [00:00<00:00,  8.33it/s]\n",
      "100%|██████████| 425/425 [00:25<00:00, 16.68it/s]\n"
     ]
    },
    {
     "name": "stdout",
     "output_type": "stream",
     "text": [
      "epoch=44: train_ppl=tensor(1.2654, device='cuda:0') train_epoch_loss=tensor(0.2354, device='cuda:0') eval_ppl=tensor(2624215.2500, device='cuda:0') eval_epoch_loss=tensor(14.7803, device='cuda:0')\n"
     ]
    },
    {
     "name": "stderr",
     "output_type": "stream",
     "text": [
      "100%|██████████| 7/7 [00:00<00:00,  8.59it/s]\n",
      "100%|██████████| 425/425 [00:25<00:00, 16.68it/s]\n"
     ]
    },
    {
     "name": "stdout",
     "output_type": "stream",
     "text": [
      "epoch=45: train_ppl=tensor(1.2168, device='cuda:0') train_epoch_loss=tensor(0.1962, device='cuda:0') eval_ppl=tensor(2636512., device='cuda:0') eval_epoch_loss=tensor(14.7850, device='cuda:0')\n"
     ]
    },
    {
     "name": "stderr",
     "output_type": "stream",
     "text": [
      "100%|██████████| 7/7 [00:00<00:00,  8.43it/s]\n",
      "100%|██████████| 425/425 [00:25<00:00, 16.68it/s]\n"
     ]
    },
    {
     "name": "stdout",
     "output_type": "stream",
     "text": [
      "epoch=46: train_ppl=tensor(1.2137, device='cuda:0') train_epoch_loss=tensor(0.1937, device='cuda:0') eval_ppl=tensor(2916505.5000, device='cuda:0') eval_epoch_loss=tensor(14.8859, device='cuda:0')\n"
     ]
    },
    {
     "name": "stderr",
     "output_type": "stream",
     "text": [
      "100%|██████████| 7/7 [00:00<00:00,  8.55it/s]\n",
      "100%|██████████| 425/425 [00:25<00:00, 16.67it/s]\n"
     ]
    },
    {
     "name": "stdout",
     "output_type": "stream",
     "text": [
      "epoch=47: train_ppl=tensor(1.1854, device='cuda:0') train_epoch_loss=tensor(0.1701, device='cuda:0') eval_ppl=tensor(2979771.5000, device='cuda:0') eval_epoch_loss=tensor(14.9074, device='cuda:0')\n"
     ]
    },
    {
     "name": "stderr",
     "output_type": "stream",
     "text": [
      "100%|██████████| 7/7 [00:00<00:00,  8.74it/s]\n",
      "100%|██████████| 425/425 [00:25<00:00, 16.68it/s]\n"
     ]
    },
    {
     "name": "stdout",
     "output_type": "stream",
     "text": [
      "epoch=48: train_ppl=tensor(1.1641, device='cuda:0') train_epoch_loss=tensor(0.1519, device='cuda:0') eval_ppl=tensor(2974561.7500, device='cuda:0') eval_epoch_loss=tensor(14.9056, device='cuda:0')\n"
     ]
    },
    {
     "name": "stderr",
     "output_type": "stream",
     "text": [
      "100%|██████████| 7/7 [00:00<00:00,  8.43it/s]\n",
      "100%|██████████| 425/425 [00:25<00:00, 16.68it/s]"
     ]
    },
    {
     "name": "stdout",
     "output_type": "stream",
     "text": [
      "epoch=49: train_ppl=tensor(1.1746, device='cuda:0') train_epoch_loss=tensor(0.1609, device='cuda:0') eval_ppl=tensor(3079750.5000, device='cuda:0') eval_epoch_loss=tensor(14.9404, device='cuda:0')\n"
     ]
    },
    {
     "name": "stderr",
     "output_type": "stream",
     "text": [
      "\n"
     ]
    },
    {
     "data": {
      "text/html": [
       "Waiting for W&B process to finish... <strong style=\"color:green\">(success).</strong>"
      ],
      "text/plain": [
       "<IPython.core.display.HTML object>"
      ]
     },
     "metadata": {},
     "output_type": "display_data"
    },
    {
     "name": "stderr",
     "output_type": "stream",
     "text": [
      "wandb: WARNING Source type is set to 'repo' but some required information is missing from the environment. A job will not be created from this run. See https://docs.wandb.ai/guides/launch/create-job\n"
     ]
    },
    {
     "data": {
      "application/vnd.jupyter.widget-view+json": {
       "model_id": "6e7c1597fec649cbb6aa14c3571b82db",
       "version_major": 2,
       "version_minor": 0
      },
      "text/plain": [
       "VBox(children=(Label(value='0.014 MB of 0.014 MB uploaded (0.000 MB deduped)\\r'), FloatProgress(value=1.0, max…"
      ]
     },
     "metadata": {},
     "output_type": "display_data"
    },
    {
     "data": {
      "text/html": [
       "<style>\n",
       "    table.wandb td:nth-child(1) { padding: 0 10px; text-align: left ; width: auto;} td:nth-child(2) {text-align: left ; width: 100%}\n",
       "    .wandb-row { display: flex; flex-direction: row; flex-wrap: wrap; justify-content: flex-start; width: 100% }\n",
       "    .wandb-col { display: flex; flex-direction: column; flex-basis: 100%; flex: 1; padding: 10px; }\n",
       "    </style>\n",
       "<div class=\"wandb-row\"><div class=\"wandb-col\"><h3>Run history:</h3><br/><table class=\"wandb\"><tr><td>epoch</td><td>▁▁▁▁▂▂▂▂▂▃▃▃▃▃▃▄▄▄▄▄▅▅▅▅▅▅▆▆▆▆▆▆▇▇▇▇▇███</td></tr><tr><td>eval_epoch_loss</td><td>▁▁▁▂▁▂▂▃▃▃▄▄▅▅▅▅▆▅▅▆▆▆▆▇▆▆▇▇▇▇██████████</td></tr><tr><td>eval_ppl</td><td>▁▁▁▁▁▁▁▁▁▁▁▁▂▁▁▁▂▁▁▂▂▂▂▃▂▂▃▃▄▄▆▆█▇▅▆▇███</td></tr><tr><td>train_epoch_loss</td><td>█▃▂▂▂▂▂▂▂▂▂▂▁▂▁▁▁▁▁▁▁▁▁▁▁▁▁▁▁▁▁▁▁▁▁▁▁▁▁▁</td></tr><tr><td>train_ppl</td><td>█▁▁▁▁▁▁▁▁▁▁▁▁▁▁▁▁▁▁▁▁▁▁▁▁▁▁▁▁▁▁▁▁▁▁▁▁▁▁▁</td></tr></table><br/></div><div class=\"wandb-col\"><h3>Run summary:</h3><br/><table class=\"wandb\"><tr><td>epoch</td><td>49</td></tr><tr><td>eval_epoch_loss</td><td>14.94036</td></tr><tr><td>eval_ppl</td><td>3079750.5</td></tr><tr><td>train_epoch_loss</td><td>0.16094</td></tr><tr><td>train_ppl</td><td>1.17461</td></tr></table><br/></div></div>"
      ],
      "text/plain": [
       "<IPython.core.display.HTML object>"
      ]
     },
     "metadata": {},
     "output_type": "display_data"
    },
    {
     "data": {
      "text/html": [
       " View run <strong style=\"color:#cdcd00\">run_6</strong> at: <a href='https://wandb.ai/rbelanec/bloomz-560m_prompt_tunning_casual_lm/runs/oa42ni26' target=\"_blank\">https://wandb.ai/rbelanec/bloomz-560m_prompt_tunning_casual_lm/runs/oa42ni26</a><br/>Synced 6 W&B file(s), 0 media file(s), 0 artifact file(s) and 0 other file(s)"
      ],
      "text/plain": [
       "<IPython.core.display.HTML object>"
      ]
     },
     "metadata": {},
     "output_type": "display_data"
    },
    {
     "data": {
      "text/html": [
       "Find logs at: <code>./wandb/run-20231019_090524-oa42ni26/logs</code>"
      ],
      "text/plain": [
       "<IPython.core.display.HTML object>"
      ]
     },
     "metadata": {},
     "output_type": "display_data"
    },
    {
     "data": {
      "application/vnd.jupyter.widget-view+json": {
       "model_id": "9e292581285b414eaa97dd3ddb4a5b29",
       "version_major": 2,
       "version_minor": 0
      },
      "text/plain": [
       "VBox(children=(Label(value='Waiting for wandb.init()...\\r'), FloatProgress(value=0.011112640811026924, max=1.0…"
      ]
     },
     "metadata": {},
     "output_type": "display_data"
    },
    {
     "data": {
      "text/html": [
       "Tracking run with wandb version 0.15.12"
      ],
      "text/plain": [
       "<IPython.core.display.HTML object>"
      ]
     },
     "metadata": {},
     "output_type": "display_data"
    },
    {
     "data": {
      "text/html": [
       "Run data is saved locally in <code>/home/jovyan/KInIT/PhD/replication_challenge/wandb/run-20231019_092743-mq4s459r</code>"
      ],
      "text/plain": [
       "<IPython.core.display.HTML object>"
      ]
     },
     "metadata": {},
     "output_type": "display_data"
    },
    {
     "data": {
      "text/html": [
       "Syncing run <strong><a href='https://wandb.ai/rbelanec/bloomz-560m_prompt_tunning_casual_lm/runs/mq4s459r' target=\"_blank\">run_7</a></strong> to <a href='https://wandb.ai/rbelanec/bloomz-560m_prompt_tunning_casual_lm' target=\"_blank\">Weights & Biases</a> (<a href='https://wandb.me/run' target=\"_blank\">docs</a>)<br/>"
      ],
      "text/plain": [
       "<IPython.core.display.HTML object>"
      ]
     },
     "metadata": {},
     "output_type": "display_data"
    },
    {
     "data": {
      "text/html": [
       " View project at <a href='https://wandb.ai/rbelanec/bloomz-560m_prompt_tunning_casual_lm' target=\"_blank\">https://wandb.ai/rbelanec/bloomz-560m_prompt_tunning_casual_lm</a>"
      ],
      "text/plain": [
       "<IPython.core.display.HTML object>"
      ]
     },
     "metadata": {},
     "output_type": "display_data"
    },
    {
     "data": {
      "text/html": [
       " View run at <a href='https://wandb.ai/rbelanec/bloomz-560m_prompt_tunning_casual_lm/runs/mq4s459r' target=\"_blank\">https://wandb.ai/rbelanec/bloomz-560m_prompt_tunning_casual_lm/runs/mq4s459r</a>"
      ],
      "text/plain": [
       "<IPython.core.display.HTML object>"
      ]
     },
     "metadata": {},
     "output_type": "display_data"
    },
    {
     "name": "stdout",
     "output_type": "stream",
     "text": [
      "trainable params: 8,192 || all params: 559,222,784 || trainable%: 0.0014648902430985358\n"
     ]
    },
    {
     "name": "stderr",
     "output_type": "stream",
     "text": [
      "100%|██████████| 7/7 [00:00<00:00,  8.71it/s]\n",
      "100%|██████████| 425/425 [00:25<00:00, 16.82it/s]\n"
     ]
    },
    {
     "name": "stdout",
     "output_type": "stream",
     "text": [
      "epoch=0: train_ppl=tensor(1.2133e+12, device='cuda:0') train_epoch_loss=tensor(27.8243, device='cuda:0') eval_ppl=tensor(3101.4595, device='cuda:0') eval_epoch_loss=tensor(8.0396, device='cuda:0')\n"
     ]
    },
    {
     "name": "stderr",
     "output_type": "stream",
     "text": [
      "100%|██████████| 7/7 [00:00<00:00,  8.54it/s]\n",
      "100%|██████████| 425/425 [00:25<00:00, 16.73it/s]\n"
     ]
    },
    {
     "name": "stdout",
     "output_type": "stream",
     "text": [
      "epoch=1: train_ppl=tensor(1670.7041, device='cuda:0') train_epoch_loss=tensor(7.4210, device='cuda:0') eval_ppl=tensor(3005.9746, device='cuda:0') eval_epoch_loss=tensor(8.0084, device='cuda:0')\n"
     ]
    },
    {
     "name": "stderr",
     "output_type": "stream",
     "text": [
      "100%|██████████| 7/7 [00:00<00:00,  8.54it/s]\n",
      "100%|██████████| 425/425 [00:25<00:00, 16.70it/s]\n"
     ]
    },
    {
     "name": "stdout",
     "output_type": "stream",
     "text": [
      "epoch=2: train_ppl=tensor(351.0168, device='cuda:0') train_epoch_loss=tensor(5.8608, device='cuda:0') eval_ppl=tensor(4541.1851, device='cuda:0') eval_epoch_loss=tensor(8.4209, device='cuda:0')\n"
     ]
    },
    {
     "name": "stderr",
     "output_type": "stream",
     "text": [
      "100%|██████████| 7/7 [00:00<00:00,  8.50it/s]\n",
      "100%|██████████| 425/425 [00:25<00:00, 16.65it/s]\n"
     ]
    },
    {
     "name": "stdout",
     "output_type": "stream",
     "text": [
      "epoch=3: train_ppl=tensor(203.6784, device='cuda:0') train_epoch_loss=tensor(5.3165, device='cuda:0') eval_ppl=tensor(5508.4390, device='cuda:0') eval_epoch_loss=tensor(8.6140, device='cuda:0')\n"
     ]
    },
    {
     "name": "stderr",
     "output_type": "stream",
     "text": [
      "100%|██████████| 7/7 [00:00<00:00,  8.52it/s]\n",
      "100%|██████████| 425/425 [00:25<00:00, 16.68it/s]\n"
     ]
    },
    {
     "name": "stdout",
     "output_type": "stream",
     "text": [
      "epoch=4: train_ppl=tensor(139.7689, device='cuda:0') train_epoch_loss=tensor(4.9400, device='cuda:0') eval_ppl=tensor(6481.3604, device='cuda:0') eval_epoch_loss=tensor(8.7767, device='cuda:0')\n"
     ]
    },
    {
     "name": "stderr",
     "output_type": "stream",
     "text": [
      "100%|██████████| 7/7 [00:00<00:00,  8.49it/s]\n",
      "100%|██████████| 425/425 [00:25<00:00, 16.68it/s]\n"
     ]
    },
    {
     "name": "stdout",
     "output_type": "stream",
     "text": [
      "epoch=5: train_ppl=tensor(105.1820, device='cuda:0') train_epoch_loss=tensor(4.6557, device='cuda:0') eval_ppl=tensor(12631.3398, device='cuda:0') eval_epoch_loss=tensor(9.4439, device='cuda:0')\n"
     ]
    },
    {
     "name": "stderr",
     "output_type": "stream",
     "text": [
      "100%|██████████| 7/7 [00:00<00:00,  8.47it/s]\n",
      "100%|██████████| 425/425 [00:25<00:00, 16.68it/s]\n"
     ]
    },
    {
     "name": "stdout",
     "output_type": "stream",
     "text": [
      "epoch=6: train_ppl=tensor(94.8654, device='cuda:0') train_epoch_loss=tensor(4.5525, device='cuda:0') eval_ppl=tensor(10247.9482, device='cuda:0') eval_epoch_loss=tensor(9.2348, device='cuda:0')\n"
     ]
    },
    {
     "name": "stderr",
     "output_type": "stream",
     "text": [
      "100%|██████████| 7/7 [00:00<00:00,  8.28it/s]\n",
      "100%|██████████| 425/425 [00:25<00:00, 16.68it/s]\n"
     ]
    },
    {
     "name": "stdout",
     "output_type": "stream",
     "text": [
      "epoch=7: train_ppl=tensor(73.4079, device='cuda:0') train_epoch_loss=tensor(4.2960, device='cuda:0') eval_ppl=tensor(14890.3701, device='cuda:0') eval_epoch_loss=tensor(9.6085, device='cuda:0')\n"
     ]
    },
    {
     "name": "stderr",
     "output_type": "stream",
     "text": [
      "100%|██████████| 7/7 [00:00<00:00,  8.47it/s]\n",
      "100%|██████████| 425/425 [00:25<00:00, 16.68it/s]\n"
     ]
    },
    {
     "name": "stdout",
     "output_type": "stream",
     "text": [
      "epoch=8: train_ppl=tensor(50.8556, device='cuda:0') train_epoch_loss=tensor(3.9290, device='cuda:0') eval_ppl=tensor(22023.0840, device='cuda:0') eval_epoch_loss=tensor(9.9998, device='cuda:0')\n"
     ]
    },
    {
     "name": "stderr",
     "output_type": "stream",
     "text": [
      "100%|██████████| 7/7 [00:00<00:00,  8.73it/s]\n",
      "100%|██████████| 425/425 [00:25<00:00, 16.68it/s]\n"
     ]
    },
    {
     "name": "stdout",
     "output_type": "stream",
     "text": [
      "epoch=9: train_ppl=tensor(38.0501, device='cuda:0') train_epoch_loss=tensor(3.6389, device='cuda:0') eval_ppl=tensor(38057.9219, device='cuda:0') eval_epoch_loss=tensor(10.5469, device='cuda:0')\n"
     ]
    },
    {
     "name": "stderr",
     "output_type": "stream",
     "text": [
      "100%|██████████| 7/7 [00:00<00:00,  8.60it/s]\n",
      "100%|██████████| 425/425 [00:25<00:00, 16.69it/s]\n"
     ]
    },
    {
     "name": "stdout",
     "output_type": "stream",
     "text": [
      "epoch=10: train_ppl=tensor(28.9344, device='cuda:0') train_epoch_loss=tensor(3.3650, device='cuda:0') eval_ppl=tensor(66947.5547, device='cuda:0') eval_epoch_loss=tensor(11.1117, device='cuda:0')\n"
     ]
    },
    {
     "name": "stderr",
     "output_type": "stream",
     "text": [
      "100%|██████████| 7/7 [00:00<00:00,  8.29it/s]\n",
      "100%|██████████| 425/425 [00:25<00:00, 16.69it/s]\n"
     ]
    },
    {
     "name": "stdout",
     "output_type": "stream",
     "text": [
      "epoch=11: train_ppl=tensor(23.5179, device='cuda:0') train_epoch_loss=tensor(3.1578, device='cuda:0') eval_ppl=tensor(76206.8828, device='cuda:0') eval_epoch_loss=tensor(11.2412, device='cuda:0')\n"
     ]
    },
    {
     "name": "stderr",
     "output_type": "stream",
     "text": [
      "100%|██████████| 7/7 [00:00<00:00,  8.53it/s]\n",
      "100%|██████████| 425/425 [00:25<00:00, 16.68it/s]\n"
     ]
    },
    {
     "name": "stdout",
     "output_type": "stream",
     "text": [
      "epoch=12: train_ppl=tensor(17.0262, device='cuda:0') train_epoch_loss=tensor(2.8348, device='cuda:0') eval_ppl=tensor(155908.5000, device='cuda:0') eval_epoch_loss=tensor(11.9570, device='cuda:0')\n"
     ]
    },
    {
     "name": "stderr",
     "output_type": "stream",
     "text": [
      "100%|██████████| 7/7 [00:00<00:00,  8.75it/s]\n",
      "100%|██████████| 425/425 [00:25<00:00, 16.67it/s]\n"
     ]
    },
    {
     "name": "stdout",
     "output_type": "stream",
     "text": [
      "epoch=13: train_ppl=tensor(12.3415, device='cuda:0') train_epoch_loss=tensor(2.5130, device='cuda:0') eval_ppl=tensor(446886.6875, device='cuda:0') eval_epoch_loss=tensor(13.0101, device='cuda:0')\n"
     ]
    },
    {
     "name": "stderr",
     "output_type": "stream",
     "text": [
      "100%|██████████| 7/7 [00:00<00:00,  8.53it/s]\n",
      "100%|██████████| 425/425 [00:25<00:00, 16.68it/s]\n"
     ]
    },
    {
     "name": "stdout",
     "output_type": "stream",
     "text": [
      "epoch=14: train_ppl=tensor(11.5646, device='cuda:0') train_epoch_loss=tensor(2.4479, device='cuda:0') eval_ppl=tensor(159156.3125, device='cuda:0') eval_epoch_loss=tensor(11.9776, device='cuda:0')\n"
     ]
    },
    {
     "name": "stderr",
     "output_type": "stream",
     "text": [
      "100%|██████████| 7/7 [00:00<00:00,  8.53it/s]\n",
      "100%|██████████| 425/425 [00:25<00:00, 16.68it/s]\n"
     ]
    },
    {
     "name": "stdout",
     "output_type": "stream",
     "text": [
      "epoch=15: train_ppl=tensor(6.6249, device='cuda:0') train_epoch_loss=tensor(1.8908, device='cuda:0') eval_ppl=tensor(610315.6250, device='cuda:0') eval_epoch_loss=tensor(13.3217, device='cuda:0')\n"
     ]
    },
    {
     "name": "stderr",
     "output_type": "stream",
     "text": [
      "100%|██████████| 7/7 [00:00<00:00,  8.54it/s]\n",
      "100%|██████████| 425/425 [00:25<00:00, 16.68it/s]\n"
     ]
    },
    {
     "name": "stdout",
     "output_type": "stream",
     "text": [
      "epoch=16: train_ppl=tensor(4.6232, device='cuda:0') train_epoch_loss=tensor(1.5311, device='cuda:0') eval_ppl=tensor(1221624.1250, device='cuda:0') eval_epoch_loss=tensor(14.0157, device='cuda:0')\n"
     ]
    },
    {
     "name": "stderr",
     "output_type": "stream",
     "text": [
      "100%|██████████| 7/7 [00:00<00:00,  8.41it/s]\n",
      "100%|██████████| 425/425 [00:25<00:00, 16.69it/s]\n"
     ]
    },
    {
     "name": "stdout",
     "output_type": "stream",
     "text": [
      "epoch=17: train_ppl=tensor(3.7623, device='cuda:0') train_epoch_loss=tensor(1.3250, device='cuda:0') eval_ppl=tensor(545910.7500, device='cuda:0') eval_epoch_loss=tensor(13.2102, device='cuda:0')\n"
     ]
    },
    {
     "name": "stderr",
     "output_type": "stream",
     "text": [
      "100%|██████████| 7/7 [00:00<00:00,  8.49it/s]\n",
      "100%|██████████| 425/425 [00:25<00:00, 16.68it/s]\n"
     ]
    },
    {
     "name": "stdout",
     "output_type": "stream",
     "text": [
      "epoch=18: train_ppl=tensor(3.2881, device='cuda:0') train_epoch_loss=tensor(1.1903, device='cuda:0') eval_ppl=tensor(586450.8750, device='cuda:0') eval_epoch_loss=tensor(13.2818, device='cuda:0')\n"
     ]
    },
    {
     "name": "stderr",
     "output_type": "stream",
     "text": [
      "100%|██████████| 7/7 [00:00<00:00,  8.48it/s]\n",
      "100%|██████████| 425/425 [00:25<00:00, 16.68it/s]\n"
     ]
    },
    {
     "name": "stdout",
     "output_type": "stream",
     "text": [
      "epoch=19: train_ppl=tensor(2.5198, device='cuda:0') train_epoch_loss=tensor(0.9242, device='cuda:0') eval_ppl=tensor(356228.6562, device='cuda:0') eval_epoch_loss=tensor(12.7833, device='cuda:0')\n"
     ]
    },
    {
     "name": "stderr",
     "output_type": "stream",
     "text": [
      "100%|██████████| 7/7 [00:00<00:00,  8.60it/s]\n",
      "100%|██████████| 425/425 [00:25<00:00, 16.67it/s]\n"
     ]
    },
    {
     "name": "stdout",
     "output_type": "stream",
     "text": [
      "epoch=20: train_ppl=tensor(2.3711, device='cuda:0') train_epoch_loss=tensor(0.8634, device='cuda:0') eval_ppl=tensor(383125.6250, device='cuda:0') eval_epoch_loss=tensor(12.8561, device='cuda:0')\n"
     ]
    },
    {
     "name": "stderr",
     "output_type": "stream",
     "text": [
      "100%|██████████| 7/7 [00:00<00:00,  8.57it/s]\n",
      "100%|██████████| 425/425 [00:25<00:00, 16.68it/s]\n"
     ]
    },
    {
     "name": "stdout",
     "output_type": "stream",
     "text": [
      "epoch=21: train_ppl=tensor(1.8740, device='cuda:0') train_epoch_loss=tensor(0.6281, device='cuda:0') eval_ppl=tensor(256787., device='cuda:0') eval_epoch_loss=tensor(12.4560, device='cuda:0')\n"
     ]
    },
    {
     "name": "stderr",
     "output_type": "stream",
     "text": [
      "100%|██████████| 7/7 [00:00<00:00,  8.32it/s]\n",
      "100%|██████████| 425/425 [00:25<00:00, 16.68it/s]\n"
     ]
    },
    {
     "name": "stdout",
     "output_type": "stream",
     "text": [
      "epoch=22: train_ppl=tensor(1.6888, device='cuda:0') train_epoch_loss=tensor(0.5240, device='cuda:0') eval_ppl=tensor(509441.5312, device='cuda:0') eval_epoch_loss=tensor(13.1411, device='cuda:0')\n"
     ]
    },
    {
     "name": "stderr",
     "output_type": "stream",
     "text": [
      "100%|██████████| 7/7 [00:00<00:00,  8.58it/s]\n",
      "100%|██████████| 425/425 [00:25<00:00, 16.68it/s]\n"
     ]
    },
    {
     "name": "stdout",
     "output_type": "stream",
     "text": [
      "epoch=23: train_ppl=tensor(1.6445, device='cuda:0') train_epoch_loss=tensor(0.4974, device='cuda:0') eval_ppl=tensor(320932.0625, device='cuda:0') eval_epoch_loss=tensor(12.6790, device='cuda:0')\n"
     ]
    },
    {
     "name": "stderr",
     "output_type": "stream",
     "text": [
      "100%|██████████| 7/7 [00:00<00:00,  8.76it/s]\n",
      "100%|██████████| 425/425 [00:25<00:00, 16.68it/s]\n"
     ]
    },
    {
     "name": "stdout",
     "output_type": "stream",
     "text": [
      "epoch=24: train_ppl=tensor(1.5085, device='cuda:0') train_epoch_loss=tensor(0.4111, device='cuda:0') eval_ppl=tensor(465890.6875, device='cuda:0') eval_epoch_loss=tensor(13.0517, device='cuda:0')\n"
     ]
    },
    {
     "name": "stderr",
     "output_type": "stream",
     "text": [
      "100%|██████████| 7/7 [00:00<00:00,  8.52it/s]\n",
      "100%|██████████| 425/425 [00:25<00:00, 16.68it/s]\n"
     ]
    },
    {
     "name": "stdout",
     "output_type": "stream",
     "text": [
      "epoch=25: train_ppl=tensor(1.5587, device='cuda:0') train_epoch_loss=tensor(0.4438, device='cuda:0') eval_ppl=tensor(271548.2500, device='cuda:0') eval_epoch_loss=tensor(12.5119, device='cuda:0')\n"
     ]
    },
    {
     "name": "stderr",
     "output_type": "stream",
     "text": [
      "100%|██████████| 7/7 [00:00<00:00,  8.29it/s]\n",
      "100%|██████████| 425/425 [00:25<00:00, 16.68it/s]\n"
     ]
    },
    {
     "name": "stdout",
     "output_type": "stream",
     "text": [
      "epoch=26: train_ppl=tensor(1.4340, device='cuda:0') train_epoch_loss=tensor(0.3605, device='cuda:0') eval_ppl=tensor(474163.9062, device='cuda:0') eval_epoch_loss=tensor(13.0693, device='cuda:0')\n"
     ]
    },
    {
     "name": "stderr",
     "output_type": "stream",
     "text": [
      "100%|██████████| 7/7 [00:00<00:00,  8.49it/s]\n",
      "100%|██████████| 425/425 [00:25<00:00, 16.68it/s]\n"
     ]
    },
    {
     "name": "stdout",
     "output_type": "stream",
     "text": [
      "epoch=27: train_ppl=tensor(1.4597, device='cuda:0') train_epoch_loss=tensor(0.3782, device='cuda:0') eval_ppl=tensor(365374.6875, device='cuda:0') eval_epoch_loss=tensor(12.8087, device='cuda:0')\n"
     ]
    },
    {
     "name": "stderr",
     "output_type": "stream",
     "text": [
      "100%|██████████| 7/7 [00:00<00:00,  8.50it/s]\n",
      "100%|██████████| 425/425 [00:25<00:00, 16.68it/s]\n"
     ]
    },
    {
     "name": "stdout",
     "output_type": "stream",
     "text": [
      "epoch=28: train_ppl=tensor(1.4856, device='cuda:0') train_epoch_loss=tensor(0.3958, device='cuda:0') eval_ppl=tensor(228620.7812, device='cuda:0') eval_epoch_loss=tensor(12.3398, device='cuda:0')\n"
     ]
    },
    {
     "name": "stderr",
     "output_type": "stream",
     "text": [
      "100%|██████████| 7/7 [00:00<00:00,  8.31it/s]\n",
      "100%|██████████| 425/425 [00:25<00:00, 16.68it/s]\n"
     ]
    },
    {
     "name": "stdout",
     "output_type": "stream",
     "text": [
      "epoch=29: train_ppl=tensor(1.6015, device='cuda:0') train_epoch_loss=tensor(0.4709, device='cuda:0') eval_ppl=tensor(163442.7500, device='cuda:0') eval_epoch_loss=tensor(12.0042, device='cuda:0')\n"
     ]
    },
    {
     "name": "stderr",
     "output_type": "stream",
     "text": [
      "100%|██████████| 7/7 [00:00<00:00,  8.32it/s]\n",
      "100%|██████████| 425/425 [00:25<00:00, 16.68it/s]\n"
     ]
    },
    {
     "name": "stdout",
     "output_type": "stream",
     "text": [
      "epoch=30: train_ppl=tensor(1.5057, device='cuda:0') train_epoch_loss=tensor(0.4093, device='cuda:0') eval_ppl=tensor(170840.8438, device='cuda:0') eval_epoch_loss=tensor(12.0485, device='cuda:0')\n"
     ]
    },
    {
     "name": "stderr",
     "output_type": "stream",
     "text": [
      "100%|██████████| 7/7 [00:00<00:00,  8.55it/s]\n",
      "100%|██████████| 425/425 [00:25<00:00, 16.68it/s]\n"
     ]
    },
    {
     "name": "stdout",
     "output_type": "stream",
     "text": [
      "epoch=31: train_ppl=tensor(1.4107, device='cuda:0') train_epoch_loss=tensor(0.3441, device='cuda:0') eval_ppl=tensor(184855.5156, device='cuda:0') eval_epoch_loss=tensor(12.1273, device='cuda:0')\n"
     ]
    },
    {
     "name": "stderr",
     "output_type": "stream",
     "text": [
      "100%|██████████| 7/7 [00:00<00:00,  8.52it/s]\n",
      "100%|██████████| 425/425 [00:25<00:00, 16.68it/s]\n"
     ]
    },
    {
     "name": "stdout",
     "output_type": "stream",
     "text": [
      "epoch=32: train_ppl=tensor(1.3588, device='cuda:0') train_epoch_loss=tensor(0.3066, device='cuda:0') eval_ppl=tensor(157703.2812, device='cuda:0') eval_epoch_loss=tensor(11.9685, device='cuda:0')\n"
     ]
    },
    {
     "name": "stderr",
     "output_type": "stream",
     "text": [
      "100%|██████████| 7/7 [00:00<00:00,  8.54it/s]\n",
      "100%|██████████| 425/425 [00:25<00:00, 16.68it/s]\n"
     ]
    },
    {
     "name": "stdout",
     "output_type": "stream",
     "text": [
      "epoch=33: train_ppl=tensor(1.4153, device='cuda:0') train_epoch_loss=tensor(0.3473, device='cuda:0') eval_ppl=tensor(212664.3438, device='cuda:0') eval_epoch_loss=tensor(12.2675, device='cuda:0')\n"
     ]
    },
    {
     "name": "stderr",
     "output_type": "stream",
     "text": [
      "100%|██████████| 7/7 [00:00<00:00,  8.52it/s]\n",
      "100%|██████████| 425/425 [00:25<00:00, 16.68it/s]\n"
     ]
    },
    {
     "name": "stdout",
     "output_type": "stream",
     "text": [
      "epoch=34: train_ppl=tensor(1.4584, device='cuda:0') train_epoch_loss=tensor(0.3774, device='cuda:0') eval_ppl=tensor(174915.5625, device='cuda:0') eval_epoch_loss=tensor(12.0721, device='cuda:0')\n"
     ]
    },
    {
     "name": "stderr",
     "output_type": "stream",
     "text": [
      "100%|██████████| 7/7 [00:00<00:00,  8.65it/s]\n",
      "100%|██████████| 425/425 [00:25<00:00, 16.67it/s]\n"
     ]
    },
    {
     "name": "stdout",
     "output_type": "stream",
     "text": [
      "epoch=35: train_ppl=tensor(1.3149, device='cuda:0') train_epoch_loss=tensor(0.2737, device='cuda:0') eval_ppl=tensor(261538.2031, device='cuda:0') eval_epoch_loss=tensor(12.4743, device='cuda:0')\n"
     ]
    },
    {
     "name": "stderr",
     "output_type": "stream",
     "text": [
      "100%|██████████| 7/7 [00:00<00:00,  8.76it/s]\n",
      "100%|██████████| 425/425 [00:25<00:00, 16.68it/s]\n"
     ]
    },
    {
     "name": "stdout",
     "output_type": "stream",
     "text": [
      "epoch=36: train_ppl=tensor(1.3075, device='cuda:0') train_epoch_loss=tensor(0.2681, device='cuda:0') eval_ppl=tensor(394264.4062, device='cuda:0') eval_epoch_loss=tensor(12.8848, device='cuda:0')\n"
     ]
    },
    {
     "name": "stderr",
     "output_type": "stream",
     "text": [
      "100%|██████████| 7/7 [00:00<00:00,  8.44it/s]\n",
      "100%|██████████| 425/425 [00:25<00:00, 16.68it/s]\n"
     ]
    },
    {
     "name": "stdout",
     "output_type": "stream",
     "text": [
      "epoch=37: train_ppl=tensor(1.2731, device='cuda:0') train_epoch_loss=tensor(0.2415, device='cuda:0') eval_ppl=tensor(444863.9062, device='cuda:0') eval_epoch_loss=tensor(13.0055, device='cuda:0')\n"
     ]
    },
    {
     "name": "stderr",
     "output_type": "stream",
     "text": [
      "100%|██████████| 7/7 [00:00<00:00,  8.28it/s]\n",
      "100%|██████████| 425/425 [00:25<00:00, 16.68it/s]\n"
     ]
    },
    {
     "name": "stdout",
     "output_type": "stream",
     "text": [
      "epoch=38: train_ppl=tensor(1.2786, device='cuda:0') train_epoch_loss=tensor(0.2457, device='cuda:0') eval_ppl=tensor(678022.8125, device='cuda:0') eval_epoch_loss=tensor(13.4269, device='cuda:0')\n"
     ]
    },
    {
     "name": "stderr",
     "output_type": "stream",
     "text": [
      "100%|██████████| 7/7 [00:00<00:00,  8.59it/s]\n",
      "100%|██████████| 425/425 [00:25<00:00, 16.69it/s]\n"
     ]
    },
    {
     "name": "stdout",
     "output_type": "stream",
     "text": [
      "epoch=39: train_ppl=tensor(1.4081, device='cuda:0') train_epoch_loss=tensor(0.3423, device='cuda:0') eval_ppl=tensor(575591.8125, device='cuda:0') eval_epoch_loss=tensor(13.2632, device='cuda:0')\n"
     ]
    },
    {
     "name": "stderr",
     "output_type": "stream",
     "text": [
      "100%|██████████| 7/7 [00:00<00:00,  8.47it/s]\n",
      "100%|██████████| 425/425 [00:25<00:00, 16.68it/s]\n"
     ]
    },
    {
     "name": "stdout",
     "output_type": "stream",
     "text": [
      "epoch=40: train_ppl=tensor(1.2947, device='cuda:0') train_epoch_loss=tensor(0.2583, device='cuda:0') eval_ppl=tensor(396395.2812, device='cuda:0') eval_epoch_loss=tensor(12.8902, device='cuda:0')\n"
     ]
    },
    {
     "name": "stderr",
     "output_type": "stream",
     "text": [
      "100%|██████████| 7/7 [00:00<00:00,  8.29it/s]\n",
      "100%|██████████| 425/425 [00:25<00:00, 16.68it/s]\n"
     ]
    },
    {
     "name": "stdout",
     "output_type": "stream",
     "text": [
      "epoch=41: train_ppl=tensor(1.2494, device='cuda:0') train_epoch_loss=tensor(0.2227, device='cuda:0') eval_ppl=tensor(551263.8750, device='cuda:0') eval_epoch_loss=tensor(13.2200, device='cuda:0')\n"
     ]
    },
    {
     "name": "stderr",
     "output_type": "stream",
     "text": [
      "100%|██████████| 7/7 [00:00<00:00,  8.47it/s]\n",
      "100%|██████████| 425/425 [00:25<00:00, 16.68it/s]\n"
     ]
    },
    {
     "name": "stdout",
     "output_type": "stream",
     "text": [
      "epoch=42: train_ppl=tensor(1.2997, device='cuda:0') train_epoch_loss=tensor(0.2621, device='cuda:0') eval_ppl=tensor(641263.5625, device='cuda:0') eval_epoch_loss=tensor(13.3712, device='cuda:0')\n"
     ]
    },
    {
     "name": "stderr",
     "output_type": "stream",
     "text": [
      "100%|██████████| 7/7 [00:00<00:00,  8.29it/s]\n",
      "100%|██████████| 425/425 [00:25<00:00, 16.68it/s]\n"
     ]
    },
    {
     "name": "stdout",
     "output_type": "stream",
     "text": [
      "epoch=43: train_ppl=tensor(1.2299, device='cuda:0') train_epoch_loss=tensor(0.2069, device='cuda:0') eval_ppl=tensor(625384.3750, device='cuda:0') eval_epoch_loss=tensor(13.3461, device='cuda:0')\n"
     ]
    },
    {
     "name": "stderr",
     "output_type": "stream",
     "text": [
      "100%|██████████| 7/7 [00:00<00:00,  8.52it/s]\n",
      "100%|██████████| 425/425 [00:25<00:00, 16.68it/s]\n"
     ]
    },
    {
     "name": "stdout",
     "output_type": "stream",
     "text": [
      "epoch=44: train_ppl=tensor(1.2292, device='cuda:0') train_epoch_loss=tensor(0.2064, device='cuda:0') eval_ppl=tensor(809723.6250, device='cuda:0') eval_epoch_loss=tensor(13.6044, device='cuda:0')\n"
     ]
    },
    {
     "name": "stderr",
     "output_type": "stream",
     "text": [
      "100%|██████████| 7/7 [00:00<00:00,  8.64it/s]\n",
      "100%|██████████| 425/425 [00:25<00:00, 16.67it/s]\n"
     ]
    },
    {
     "name": "stdout",
     "output_type": "stream",
     "text": [
      "epoch=45: train_ppl=tensor(1.2289, device='cuda:0') train_epoch_loss=tensor(0.2061, device='cuda:0') eval_ppl=tensor(1173598.1250, device='cuda:0') eval_epoch_loss=tensor(13.9756, device='cuda:0')\n"
     ]
    },
    {
     "name": "stderr",
     "output_type": "stream",
     "text": [
      "100%|██████████| 7/7 [00:00<00:00,  8.62it/s]\n",
      "100%|██████████| 425/425 [00:25<00:00, 16.67it/s]\n"
     ]
    },
    {
     "name": "stdout",
     "output_type": "stream",
     "text": [
      "epoch=46: train_ppl=tensor(1.2146, device='cuda:0') train_epoch_loss=tensor(0.1944, device='cuda:0') eval_ppl=tensor(1447344.1250, device='cuda:0') eval_epoch_loss=tensor(14.1852, device='cuda:0')\n"
     ]
    },
    {
     "name": "stderr",
     "output_type": "stream",
     "text": [
      "100%|██████████| 7/7 [00:00<00:00,  8.52it/s]\n",
      "100%|██████████| 425/425 [00:25<00:00, 16.68it/s]\n"
     ]
    },
    {
     "name": "stdout",
     "output_type": "stream",
     "text": [
      "epoch=47: train_ppl=tensor(1.2166, device='cuda:0') train_epoch_loss=tensor(0.1960, device='cuda:0') eval_ppl=tensor(1487237.6250, device='cuda:0') eval_epoch_loss=tensor(14.2124, device='cuda:0')\n"
     ]
    },
    {
     "name": "stderr",
     "output_type": "stream",
     "text": [
      "100%|██████████| 7/7 [00:00<00:00,  8.39it/s]\n",
      "100%|██████████| 425/425 [00:25<00:00, 16.68it/s]\n"
     ]
    },
    {
     "name": "stdout",
     "output_type": "stream",
     "text": [
      "epoch=48: train_ppl=tensor(1.2003, device='cuda:0') train_epoch_loss=tensor(0.1825, device='cuda:0') eval_ppl=tensor(1486150., device='cuda:0') eval_epoch_loss=tensor(14.2117, device='cuda:0')\n"
     ]
    },
    {
     "name": "stderr",
     "output_type": "stream",
     "text": [
      "100%|██████████| 7/7 [00:00<00:00,  8.66it/s]\n",
      "100%|██████████| 425/425 [00:25<00:00, 16.68it/s]"
     ]
    },
    {
     "name": "stdout",
     "output_type": "stream",
     "text": [
      "epoch=49: train_ppl=tensor(1.2172, device='cuda:0') train_epoch_loss=tensor(0.1965, device='cuda:0') eval_ppl=tensor(1490206.2500, device='cuda:0') eval_epoch_loss=tensor(14.2144, device='cuda:0')\n"
     ]
    },
    {
     "name": "stderr",
     "output_type": "stream",
     "text": [
      "\n"
     ]
    },
    {
     "data": {
      "text/html": [
       "Waiting for W&B process to finish... <strong style=\"color:green\">(success).</strong>"
      ],
      "text/plain": [
       "<IPython.core.display.HTML object>"
      ]
     },
     "metadata": {},
     "output_type": "display_data"
    },
    {
     "name": "stderr",
     "output_type": "stream",
     "text": [
      "wandb: WARNING Source type is set to 'repo' but some required information is missing from the environment. A job will not be created from this run. See https://docs.wandb.ai/guides/launch/create-job\n"
     ]
    },
    {
     "data": {
      "application/vnd.jupyter.widget-view+json": {
       "model_id": "3fc443fd3e844778853af841a2ae1079",
       "version_major": 2,
       "version_minor": 0
      },
      "text/plain": [
       "VBox(children=(Label(value='0.014 MB of 0.014 MB uploaded (0.000 MB deduped)\\r'), FloatProgress(value=1.0, max…"
      ]
     },
     "metadata": {},
     "output_type": "display_data"
    },
    {
     "data": {
      "text/html": [
       "<style>\n",
       "    table.wandb td:nth-child(1) { padding: 0 10px; text-align: left ; width: auto;} td:nth-child(2) {text-align: left ; width: 100%}\n",
       "    .wandb-row { display: flex; flex-direction: row; flex-wrap: wrap; justify-content: flex-start; width: 100% }\n",
       "    .wandb-col { display: flex; flex-direction: column; flex-basis: 100%; flex: 1; padding: 10px; }\n",
       "    </style>\n",
       "<div class=\"wandb-row\"><div class=\"wandb-col\"><h3>Run history:</h3><br/><table class=\"wandb\"><tr><td>epoch</td><td>▁▁▁▁▂▂▂▂▂▃▃▃▃▃▃▄▄▄▄▄▅▅▅▅▅▅▆▆▆▆▆▆▇▇▇▇▇███</td></tr><tr><td>eval_epoch_loss</td><td>▁▁▁▂▃▂▃▃▅▅▅▇▇█▇▇▆▆▇▆▆▇▆▆▆▆▅▆▆▇▇▇▇▇▇▇████</td></tr><tr><td>eval_ppl</td><td>▁▁▁▁▁▁▁▁▁▁▂▃▄▇▄▄▃▂▃▂▂▃▃▂▂▂▂▂▂▃▃▄▃▄▄▄▇███</td></tr><tr><td>train_epoch_loss</td><td>█▃▂▂▂▂▂▂▂▂▂▂▁▁▁▁▁▁▁▁▁▁▁▁▁▁▁▁▁▁▁▁▁▁▁▁▁▁▁▁</td></tr><tr><td>train_ppl</td><td>█▁▁▁▁▁▁▁▁▁▁▁▁▁▁▁▁▁▁▁▁▁▁▁▁▁▁▁▁▁▁▁▁▁▁▁▁▁▁▁</td></tr></table><br/></div><div class=\"wandb-col\"><h3>Run summary:</h3><br/><table class=\"wandb\"><tr><td>epoch</td><td>49</td></tr><tr><td>eval_epoch_loss</td><td>14.21443</td></tr><tr><td>eval_ppl</td><td>1490206.25</td></tr><tr><td>train_epoch_loss</td><td>0.19653</td></tr><tr><td>train_ppl</td><td>1.21718</td></tr></table><br/></div></div>"
      ],
      "text/plain": [
       "<IPython.core.display.HTML object>"
      ]
     },
     "metadata": {},
     "output_type": "display_data"
    },
    {
     "data": {
      "text/html": [
       " View run <strong style=\"color:#cdcd00\">run_7</strong> at: <a href='https://wandb.ai/rbelanec/bloomz-560m_prompt_tunning_casual_lm/runs/mq4s459r' target=\"_blank\">https://wandb.ai/rbelanec/bloomz-560m_prompt_tunning_casual_lm/runs/mq4s459r</a><br/>Synced 6 W&B file(s), 0 media file(s), 0 artifact file(s) and 0 other file(s)"
      ],
      "text/plain": [
       "<IPython.core.display.HTML object>"
      ]
     },
     "metadata": {},
     "output_type": "display_data"
    },
    {
     "data": {
      "text/html": [
       "Find logs at: <code>./wandb/run-20231019_092743-mq4s459r/logs</code>"
      ],
      "text/plain": [
       "<IPython.core.display.HTML object>"
      ]
     },
     "metadata": {},
     "output_type": "display_data"
    },
    {
     "data": {
      "application/vnd.jupyter.widget-view+json": {
       "model_id": "5a87652c3aa84bf5ab0185932830292b",
       "version_major": 2,
       "version_minor": 0
      },
      "text/plain": [
       "VBox(children=(Label(value='Waiting for wandb.init()...\\r'), FloatProgress(value=0.011112396776055296, max=1.0…"
      ]
     },
     "metadata": {},
     "output_type": "display_data"
    },
    {
     "data": {
      "text/html": [
       "Tracking run with wandb version 0.15.12"
      ],
      "text/plain": [
       "<IPython.core.display.HTML object>"
      ]
     },
     "metadata": {},
     "output_type": "display_data"
    },
    {
     "data": {
      "text/html": [
       "Run data is saved locally in <code>/home/jovyan/KInIT/PhD/replication_challenge/wandb/run-20231019_095001-th2djgie</code>"
      ],
      "text/plain": [
       "<IPython.core.display.HTML object>"
      ]
     },
     "metadata": {},
     "output_type": "display_data"
    },
    {
     "data": {
      "text/html": [
       "Syncing run <strong><a href='https://wandb.ai/rbelanec/bloomz-560m_prompt_tunning_casual_lm/runs/th2djgie' target=\"_blank\">run_8</a></strong> to <a href='https://wandb.ai/rbelanec/bloomz-560m_prompt_tunning_casual_lm' target=\"_blank\">Weights & Biases</a> (<a href='https://wandb.me/run' target=\"_blank\">docs</a>)<br/>"
      ],
      "text/plain": [
       "<IPython.core.display.HTML object>"
      ]
     },
     "metadata": {},
     "output_type": "display_data"
    },
    {
     "data": {
      "text/html": [
       " View project at <a href='https://wandb.ai/rbelanec/bloomz-560m_prompt_tunning_casual_lm' target=\"_blank\">https://wandb.ai/rbelanec/bloomz-560m_prompt_tunning_casual_lm</a>"
      ],
      "text/plain": [
       "<IPython.core.display.HTML object>"
      ]
     },
     "metadata": {},
     "output_type": "display_data"
    },
    {
     "data": {
      "text/html": [
       " View run at <a href='https://wandb.ai/rbelanec/bloomz-560m_prompt_tunning_casual_lm/runs/th2djgie' target=\"_blank\">https://wandb.ai/rbelanec/bloomz-560m_prompt_tunning_casual_lm/runs/th2djgie</a>"
      ],
      "text/plain": [
       "<IPython.core.display.HTML object>"
      ]
     },
     "metadata": {},
     "output_type": "display_data"
    },
    {
     "name": "stdout",
     "output_type": "stream",
     "text": [
      "trainable params: 8,192 || all params: 559,222,784 || trainable%: 0.0014648902430985358\n"
     ]
    },
    {
     "name": "stderr",
     "output_type": "stream",
     "text": [
      "100%|██████████| 7/7 [00:00<00:00,  8.71it/s]\n",
      "100%|██████████| 425/425 [00:25<00:00, 16.73it/s]\n"
     ]
    },
    {
     "name": "stdout",
     "output_type": "stream",
     "text": [
      "epoch=0: train_ppl=tensor(6.4972e+11, device='cuda:0') train_epoch_loss=tensor(27.1998, device='cuda:0') eval_ppl=tensor(4846.6177, device='cuda:0') eval_epoch_loss=tensor(8.4860, device='cuda:0')\n"
     ]
    },
    {
     "name": "stderr",
     "output_type": "stream",
     "text": [
      "100%|██████████| 7/7 [00:00<00:00,  8.62it/s]\n",
      "100%|██████████| 425/425 [00:25<00:00, 16.68it/s]\n"
     ]
    },
    {
     "name": "stdout",
     "output_type": "stream",
     "text": [
      "epoch=1: train_ppl=tensor(1959.3911, device='cuda:0') train_epoch_loss=tensor(7.5804, device='cuda:0') eval_ppl=tensor(4876.7217, device='cuda:0') eval_epoch_loss=tensor(8.4922, device='cuda:0')\n"
     ]
    },
    {
     "name": "stderr",
     "output_type": "stream",
     "text": [
      "100%|██████████| 7/7 [00:00<00:00,  8.74it/s]\n",
      "100%|██████████| 425/425 [00:25<00:00, 16.68it/s]\n"
     ]
    },
    {
     "name": "stdout",
     "output_type": "stream",
     "text": [
      "epoch=2: train_ppl=tensor(495.7654, device='cuda:0') train_epoch_loss=tensor(6.2061, device='cuda:0') eval_ppl=tensor(5753.5693, device='cuda:0') eval_epoch_loss=tensor(8.6576, device='cuda:0')\n"
     ]
    },
    {
     "name": "stderr",
     "output_type": "stream",
     "text": [
      "100%|██████████| 7/7 [00:00<00:00,  8.60it/s]\n",
      "100%|██████████| 425/425 [00:25<00:00, 16.65it/s]\n"
     ]
    },
    {
     "name": "stdout",
     "output_type": "stream",
     "text": [
      "epoch=3: train_ppl=tensor(275.5797, device='cuda:0') train_epoch_loss=tensor(5.6189, device='cuda:0') eval_ppl=tensor(6750.7480, device='cuda:0') eval_epoch_loss=tensor(8.8174, device='cuda:0')\n"
     ]
    },
    {
     "name": "stderr",
     "output_type": "stream",
     "text": [
      "100%|██████████| 7/7 [00:00<00:00,  8.39it/s]\n",
      "100%|██████████| 425/425 [00:25<00:00, 16.67it/s]\n"
     ]
    },
    {
     "name": "stdout",
     "output_type": "stream",
     "text": [
      "epoch=4: train_ppl=tensor(209.9704, device='cuda:0') train_epoch_loss=tensor(5.3470, device='cuda:0') eval_ppl=tensor(6617.2227, device='cuda:0') eval_epoch_loss=tensor(8.7974, device='cuda:0')\n"
     ]
    },
    {
     "name": "stderr",
     "output_type": "stream",
     "text": [
      "100%|██████████| 7/7 [00:00<00:00,  8.38it/s]\n",
      "100%|██████████| 425/425 [00:25<00:00, 16.68it/s]\n"
     ]
    },
    {
     "name": "stdout",
     "output_type": "stream",
     "text": [
      "epoch=5: train_ppl=tensor(152.6708, device='cuda:0') train_epoch_loss=tensor(5.0283, device='cuda:0') eval_ppl=tensor(4448.0791, device='cuda:0') eval_epoch_loss=tensor(8.4002, device='cuda:0')\n"
     ]
    },
    {
     "name": "stderr",
     "output_type": "stream",
     "text": [
      "100%|██████████| 7/7 [00:00<00:00,  8.60it/s]\n",
      "100%|██████████| 425/425 [00:25<00:00, 16.72it/s]\n"
     ]
    },
    {
     "name": "stdout",
     "output_type": "stream",
     "text": [
      "epoch=6: train_ppl=tensor(124.3295, device='cuda:0') train_epoch_loss=tensor(4.8229, device='cuda:0') eval_ppl=tensor(4253.3335, device='cuda:0') eval_epoch_loss=tensor(8.3555, device='cuda:0')\n"
     ]
    },
    {
     "name": "stderr",
     "output_type": "stream",
     "text": [
      "100%|██████████| 7/7 [00:00<00:00,  8.62it/s]\n",
      "100%|██████████| 425/425 [00:25<00:00, 16.68it/s]\n"
     ]
    },
    {
     "name": "stdout",
     "output_type": "stream",
     "text": [
      "epoch=7: train_ppl=tensor(94.7837, device='cuda:0') train_epoch_loss=tensor(4.5516, device='cuda:0') eval_ppl=tensor(5751.4785, device='cuda:0') eval_epoch_loss=tensor(8.6572, device='cuda:0')\n"
     ]
    },
    {
     "name": "stderr",
     "output_type": "stream",
     "text": [
      "100%|██████████| 7/7 [00:00<00:00,  8.60it/s]\n",
      "100%|██████████| 425/425 [00:25<00:00, 16.67it/s]\n"
     ]
    },
    {
     "name": "stdout",
     "output_type": "stream",
     "text": [
      "epoch=8: train_ppl=tensor(75.3613, device='cuda:0') train_epoch_loss=tensor(4.3223, device='cuda:0') eval_ppl=tensor(7763.6709, device='cuda:0') eval_epoch_loss=tensor(8.9572, device='cuda:0')\n"
     ]
    },
    {
     "name": "stderr",
     "output_type": "stream",
     "text": [
      "100%|██████████| 7/7 [00:00<00:00,  8.73it/s]\n",
      "100%|██████████| 425/425 [00:25<00:00, 16.68it/s]\n"
     ]
    },
    {
     "name": "stdout",
     "output_type": "stream",
     "text": [
      "epoch=9: train_ppl=tensor(58.3230, device='cuda:0') train_epoch_loss=tensor(4.0660, device='cuda:0') eval_ppl=tensor(11982.8584, device='cuda:0') eval_epoch_loss=tensor(9.3912, device='cuda:0')\n"
     ]
    },
    {
     "name": "stderr",
     "output_type": "stream",
     "text": [
      "100%|██████████| 7/7 [00:00<00:00,  8.54it/s]\n",
      "100%|██████████| 425/425 [00:25<00:00, 16.68it/s]\n"
     ]
    },
    {
     "name": "stdout",
     "output_type": "stream",
     "text": [
      "epoch=10: train_ppl=tensor(48.3928, device='cuda:0') train_epoch_loss=tensor(3.8794, device='cuda:0') eval_ppl=tensor(24348.1719, device='cuda:0') eval_epoch_loss=tensor(10.1002, device='cuda:0')\n"
     ]
    },
    {
     "name": "stderr",
     "output_type": "stream",
     "text": [
      "100%|██████████| 7/7 [00:00<00:00,  8.63it/s]\n",
      "100%|██████████| 425/425 [00:25<00:00, 16.68it/s]\n"
     ]
    },
    {
     "name": "stdout",
     "output_type": "stream",
     "text": [
      "epoch=11: train_ppl=tensor(37.7157, device='cuda:0') train_epoch_loss=tensor(3.6301, device='cuda:0') eval_ppl=tensor(38234.9766, device='cuda:0') eval_epoch_loss=tensor(10.5515, device='cuda:0')\n"
     ]
    },
    {
     "name": "stderr",
     "output_type": "stream",
     "text": [
      "100%|██████████| 7/7 [00:00<00:00,  8.77it/s]\n",
      "100%|██████████| 425/425 [00:25<00:00, 16.68it/s]\n"
     ]
    },
    {
     "name": "stdout",
     "output_type": "stream",
     "text": [
      "epoch=12: train_ppl=tensor(31.4416, device='cuda:0') train_epoch_loss=tensor(3.4481, device='cuda:0') eval_ppl=tensor(57756.6641, device='cuda:0') eval_epoch_loss=tensor(10.9640, device='cuda:0')\n"
     ]
    },
    {
     "name": "stderr",
     "output_type": "stream",
     "text": [
      "100%|██████████| 7/7 [00:00<00:00,  8.56it/s]\n",
      "100%|██████████| 425/425 [00:25<00:00, 16.68it/s]\n"
     ]
    },
    {
     "name": "stdout",
     "output_type": "stream",
     "text": [
      "epoch=13: train_ppl=tensor(23.0579, device='cuda:0') train_epoch_loss=tensor(3.1380, device='cuda:0') eval_ppl=tensor(114308.4766, device='cuda:0') eval_epoch_loss=tensor(11.6467, device='cuda:0')\n"
     ]
    },
    {
     "name": "stderr",
     "output_type": "stream",
     "text": [
      "100%|██████████| 7/7 [00:00<00:00,  8.59it/s]\n",
      "100%|██████████| 425/425 [00:25<00:00, 16.67it/s]\n"
     ]
    },
    {
     "name": "stdout",
     "output_type": "stream",
     "text": [
      "epoch=14: train_ppl=tensor(15.2535, device='cuda:0') train_epoch_loss=tensor(2.7248, device='cuda:0') eval_ppl=tensor(286311.4688, device='cuda:0') eval_epoch_loss=tensor(12.5648, device='cuda:0')\n"
     ]
    },
    {
     "name": "stderr",
     "output_type": "stream",
     "text": [
      "100%|██████████| 7/7 [00:00<00:00,  8.60it/s]\n",
      "100%|██████████| 425/425 [00:25<00:00, 16.67it/s]\n"
     ]
    },
    {
     "name": "stdout",
     "output_type": "stream",
     "text": [
      "epoch=15: train_ppl=tensor(13.0037, device='cuda:0') train_epoch_loss=tensor(2.5652, device='cuda:0') eval_ppl=tensor(450981.3438, device='cuda:0') eval_epoch_loss=tensor(13.0192, device='cuda:0')\n"
     ]
    },
    {
     "name": "stderr",
     "output_type": "stream",
     "text": [
      "100%|██████████| 7/7 [00:00<00:00,  8.57it/s]\n",
      "100%|██████████| 425/425 [00:25<00:00, 16.67it/s]\n"
     ]
    },
    {
     "name": "stdout",
     "output_type": "stream",
     "text": [
      "epoch=16: train_ppl=tensor(12.8170, device='cuda:0') train_epoch_loss=tensor(2.5508, device='cuda:0') eval_ppl=tensor(443877.7500, device='cuda:0') eval_epoch_loss=tensor(13.0033, device='cuda:0')\n"
     ]
    },
    {
     "name": "stderr",
     "output_type": "stream",
     "text": [
      "100%|██████████| 7/7 [00:00<00:00,  8.58it/s]\n",
      "100%|██████████| 425/425 [00:25<00:00, 16.67it/s]\n"
     ]
    },
    {
     "name": "stdout",
     "output_type": "stream",
     "text": [
      "epoch=17: train_ppl=tensor(9.5003, device='cuda:0') train_epoch_loss=tensor(2.2513, device='cuda:0') eval_ppl=tensor(1201940.3750, device='cuda:0') eval_epoch_loss=tensor(13.9994, device='cuda:0')\n"
     ]
    },
    {
     "name": "stderr",
     "output_type": "stream",
     "text": [
      "100%|██████████| 7/7 [00:00<00:00,  8.63it/s]\n",
      "100%|██████████| 425/425 [00:25<00:00, 16.67it/s]\n"
     ]
    },
    {
     "name": "stdout",
     "output_type": "stream",
     "text": [
      "epoch=18: train_ppl=tensor(6.7162, device='cuda:0') train_epoch_loss=tensor(1.9045, device='cuda:0') eval_ppl=tensor(1573095.1250, device='cuda:0') eval_epoch_loss=tensor(14.2686, device='cuda:0')\n"
     ]
    },
    {
     "name": "stderr",
     "output_type": "stream",
     "text": [
      "100%|██████████| 7/7 [00:00<00:00,  8.48it/s]\n",
      "100%|██████████| 425/425 [00:25<00:00, 16.68it/s]\n"
     ]
    },
    {
     "name": "stdout",
     "output_type": "stream",
     "text": [
      "epoch=19: train_ppl=tensor(5.5593, device='cuda:0') train_epoch_loss=tensor(1.7155, device='cuda:0') eval_ppl=tensor(827025.1250, device='cuda:0') eval_epoch_loss=tensor(13.6256, device='cuda:0')\n"
     ]
    },
    {
     "name": "stderr",
     "output_type": "stream",
     "text": [
      "100%|██████████| 7/7 [00:00<00:00,  8.62it/s]\n",
      "100%|██████████| 425/425 [00:25<00:00, 16.68it/s]\n"
     ]
    },
    {
     "name": "stdout",
     "output_type": "stream",
     "text": [
      "epoch=24: train_ppl=tensor(2.3243, device='cuda:0') train_epoch_loss=tensor(0.8434, device='cuda:0') eval_ppl=tensor(652864.5000, device='cuda:0') eval_epoch_loss=tensor(13.3891, device='cuda:0')\n"
     ]
    },
    {
     "name": "stderr",
     "output_type": "stream",
     "text": [
      "100%|██████████| 7/7 [00:00<00:00,  8.56it/s]\n",
      "100%|██████████| 425/425 [00:25<00:00, 16.67it/s]\n"
     ]
    },
    {
     "name": "stdout",
     "output_type": "stream",
     "text": [
      "epoch=25: train_ppl=tensor(1.9719, device='cuda:0') train_epoch_loss=tensor(0.6790, device='cuda:0') eval_ppl=tensor(953069.1250, device='cuda:0') eval_epoch_loss=tensor(13.7674, device='cuda:0')\n"
     ]
    },
    {
     "name": "stderr",
     "output_type": "stream",
     "text": [
      "100%|██████████| 7/7 [00:00<00:00,  8.78it/s]\n",
      "100%|██████████| 425/425 [00:25<00:00, 16.67it/s]\n"
     ]
    },
    {
     "name": "stdout",
     "output_type": "stream",
     "text": [
      "epoch=26: train_ppl=tensor(1.8584, device='cuda:0') train_epoch_loss=tensor(0.6197, device='cuda:0') eval_ppl=tensor(716234.5000, device='cuda:0') eval_epoch_loss=tensor(13.4818, device='cuda:0')\n"
     ]
    },
    {
     "name": "stderr",
     "output_type": "stream",
     "text": [
      "100%|██████████| 7/7 [00:00<00:00,  8.57it/s]\n",
      "100%|██████████| 425/425 [00:25<00:00, 16.67it/s]\n"
     ]
    },
    {
     "name": "stdout",
     "output_type": "stream",
     "text": [
      "epoch=27: train_ppl=tensor(1.7383, device='cuda:0') train_epoch_loss=tensor(0.5529, device='cuda:0') eval_ppl=tensor(358863.7500, device='cuda:0') eval_epoch_loss=tensor(12.7907, device='cuda:0')\n"
     ]
    },
    {
     "name": "stderr",
     "output_type": "stream",
     "text": [
      "100%|██████████| 7/7 [00:00<00:00,  8.55it/s]\n",
      "100%|██████████| 425/425 [00:25<00:00, 16.68it/s]\n"
     ]
    },
    {
     "name": "stdout",
     "output_type": "stream",
     "text": [
      "epoch=28: train_ppl=tensor(1.6243, device='cuda:0') train_epoch_loss=tensor(0.4851, device='cuda:0') eval_ppl=tensor(658479.6250, device='cuda:0') eval_epoch_loss=tensor(13.3977, device='cuda:0')\n"
     ]
    },
    {
     "name": "stderr",
     "output_type": "stream",
     "text": [
      "100%|██████████| 7/7 [00:00<00:00,  8.66it/s]\n",
      "100%|██████████| 425/425 [00:25<00:00, 16.68it/s]\n"
     ]
    },
    {
     "name": "stdout",
     "output_type": "stream",
     "text": [
      "epoch=29: train_ppl=tensor(1.6842, device='cuda:0') train_epoch_loss=tensor(0.5213, device='cuda:0') eval_ppl=tensor(466451.3125, device='cuda:0') eval_epoch_loss=tensor(13.0529, device='cuda:0')\n"
     ]
    },
    {
     "name": "stderr",
     "output_type": "stream",
     "text": [
      "100%|██████████| 7/7 [00:00<00:00,  8.65it/s]\n",
      "100%|██████████| 425/425 [00:25<00:00, 16.68it/s]\n"
     ]
    },
    {
     "name": "stdout",
     "output_type": "stream",
     "text": [
      "epoch=30: train_ppl=tensor(1.5242, device='cuda:0') train_epoch_loss=tensor(0.4214, device='cuda:0') eval_ppl=tensor(389777.4062, device='cuda:0') eval_epoch_loss=tensor(12.8733, device='cuda:0')\n"
     ]
    },
    {
     "name": "stderr",
     "output_type": "stream",
     "text": [
      "100%|██████████| 7/7 [00:00<00:00,  8.60it/s]\n",
      "100%|██████████| 425/425 [00:25<00:00, 16.68it/s]\n"
     ]
    },
    {
     "name": "stdout",
     "output_type": "stream",
     "text": [
      "epoch=31: train_ppl=tensor(1.4163, device='cuda:0') train_epoch_loss=tensor(0.3480, device='cuda:0') eval_ppl=tensor(693243.6250, device='cuda:0') eval_epoch_loss=tensor(13.4491, device='cuda:0')\n"
     ]
    },
    {
     "name": "stderr",
     "output_type": "stream",
     "text": [
      "100%|██████████| 7/7 [00:00<00:00,  8.77it/s]\n",
      "100%|██████████| 425/425 [00:25<00:00, 16.68it/s]\n"
     ]
    },
    {
     "name": "stdout",
     "output_type": "stream",
     "text": [
      "epoch=32: train_ppl=tensor(1.4958, device='cuda:0') train_epoch_loss=tensor(0.4026, device='cuda:0') eval_ppl=tensor(375730., device='cuda:0') eval_epoch_loss=tensor(12.8366, device='cuda:0')\n"
     ]
    },
    {
     "name": "stderr",
     "output_type": "stream",
     "text": [
      "100%|██████████| 7/7 [00:00<00:00,  8.57it/s]\n",
      "100%|██████████| 425/425 [00:25<00:00, 16.67it/s]\n"
     ]
    },
    {
     "name": "stdout",
     "output_type": "stream",
     "text": [
      "epoch=33: train_ppl=tensor(1.4621, device='cuda:0') train_epoch_loss=tensor(0.3799, device='cuda:0') eval_ppl=tensor(402524., device='cuda:0') eval_epoch_loss=tensor(12.9055, device='cuda:0')\n"
     ]
    },
    {
     "name": "stderr",
     "output_type": "stream",
     "text": [
      "100%|██████████| 7/7 [00:00<00:00,  8.58it/s]\n",
      "100%|██████████| 425/425 [00:25<00:00, 16.67it/s]\n"
     ]
    },
    {
     "name": "stdout",
     "output_type": "stream",
     "text": [
      "epoch=34: train_ppl=tensor(1.4084, device='cuda:0') train_epoch_loss=tensor(0.3424, device='cuda:0') eval_ppl=tensor(343188.6562, device='cuda:0') eval_epoch_loss=tensor(12.7460, device='cuda:0')\n"
     ]
    },
    {
     "name": "stderr",
     "output_type": "stream",
     "text": [
      "100%|██████████| 7/7 [00:00<00:00,  8.52it/s]\n",
      "100%|██████████| 425/425 [00:25<00:00, 16.68it/s]\n"
     ]
    },
    {
     "name": "stdout",
     "output_type": "stream",
     "text": [
      "epoch=35: train_ppl=tensor(1.3619, device='cuda:0') train_epoch_loss=tensor(0.3089, device='cuda:0') eval_ppl=tensor(467434.5625, device='cuda:0') eval_epoch_loss=tensor(13.0550, device='cuda:0')\n"
     ]
    },
    {
     "name": "stderr",
     "output_type": "stream",
     "text": [
      "100%|██████████| 7/7 [00:00<00:00,  8.65it/s]\n",
      "100%|██████████| 425/425 [00:25<00:00, 16.68it/s]\n"
     ]
    },
    {
     "name": "stdout",
     "output_type": "stream",
     "text": [
      "epoch=36: train_ppl=tensor(1.3472, device='cuda:0') train_epoch_loss=tensor(0.2980, device='cuda:0') eval_ppl=tensor(407284.7500, device='cuda:0') eval_epoch_loss=tensor(12.9173, device='cuda:0')\n"
     ]
    },
    {
     "name": "stderr",
     "output_type": "stream",
     "text": [
      "100%|██████████| 7/7 [00:00<00:00,  8.73it/s]\n",
      " 71%|███████   | 302/425 [00:18<00:07, 16.68it/s]IOPub message rate exceeded.\n",
      "The Jupyter server will temporarily stop sending output\n",
      "to the client in order to avoid crashing it.\n",
      "To change this limit, set the config variable\n",
      "`--ServerApp.iopub_msg_rate_limit`.\n",
      "\n",
      "Current values:\n",
      "ServerApp.iopub_msg_rate_limit=1000.0 (msgs/sec)\n",
      "ServerApp.rate_limit_window=3.0 (secs)\n",
      "\n"
     ]
    }
   ],
   "source": [
    "n_runs = 10\n",
    "for r in range(1, n_runs):\n",
    "    model = AutoModelForCausalLM.from_pretrained(model_name_or_path)\n",
    "    model = get_peft_model(model, peft_config)\n",
    "    wandb.watch(model, log_freq=100)\n",
    "    \n",
    "    model.print_trainable_parameters()\n",
    "        \n",
    "    optimizer = torch.optim.AdamW(model.parameters(), lr=wandb.config[\"learning_rate\"])\n",
    "    lr_scheduler = get_linear_schedule_with_warmup(\n",
    "        optimizer=optimizer,\n",
    "        num_warmup_steps=0,\n",
    "        num_training_steps=(len(train_dataloader) * wandb.config[\"num_epochs\"]),\n",
    "    )\n",
    "    \n",
    "    min_eval_epoch_loss = np.inf\n",
    "    model = model.to(wandb.config[\"device\"])\n",
    "\n",
    "    for epoch in range(wandb.config[\"num_epochs\"]):\n",
    "        model.train()\n",
    "        total_loss = 0\n",
    "        for step, batch in enumerate(tqdm(train_dataloader)):\n",
    "            batch = {k: v.to(wandb.config[\"device\"]) for k, v in batch.items()}\n",
    "            outputs = model(**batch)\n",
    "            loss = outputs.loss\n",
    "            total_loss += loss.detach().float()\n",
    "            # wandb.log({\"total_loss\": total_loss})\n",
    "            loss.backward()\n",
    "            optimizer.step()\n",
    "            lr_scheduler.step()\n",
    "            optimizer.zero_grad()\n",
    "\n",
    "        model.eval()\n",
    "        eval_loss = 0\n",
    "        eval_preds = []\n",
    "        for step, batch in enumerate(tqdm(eval_dataloader)):\n",
    "            batch = {k: v.to(wandb.config[\"device\"]) for k, v in batch.items()}\n",
    "            with torch.no_grad():\n",
    "                outputs = model(**batch)\n",
    "            loss = outputs.loss\n",
    "            eval_loss += loss.detach().float()\n",
    "            # wandb.log({\"eval_loss\": eval_loss})\n",
    "            eval_preds.extend(\n",
    "                tokenizer.batch_decode(torch.argmax(outputs.logits, -1).detach().cpu().numpy(), skip_special_tokens=True)\n",
    "            )\n",
    "\n",
    "        eval_epoch_loss = eval_loss / len(eval_dataloader)\n",
    "\n",
    "        if eval_epoch_loss < min_eval_epoch_loss:\n",
    "            min_eval_epoch_loss = eval_epoch_loss\n",
    "\n",
    "            torch.save({\n",
    "                \"epoch\": epoch,\n",
    "                \"model_state_dict\": model.state_dict(),\n",
    "                \"optimizer_state_dict\": optimizer.state_dict(),\n",
    "                \"loss\": min_eval_epoch_loss,\n",
    "                }, wandb.config[\"checkpoint_name\"])\n",
    "            \n",
    "            wandb.save(wandb.config[\"checkpoint_name\"] + str(r))\n",
    "\n",
    "\n",
    "        eval_ppl = torch.exp(eval_epoch_loss)\n",
    "        train_epoch_loss = total_loss / len(train_dataloader)\n",
    "        train_ppl = torch.exp(train_epoch_loss)\n",
    "        print(f\"{epoch=}: {train_ppl=} {train_epoch_loss=} {eval_ppl=} {eval_epoch_loss=}\")\n",
    "        wandb.log({\"epoch\": epoch, \"train_ppl\": train_ppl, \"train_epoch_loss\": train_epoch_loss, \"eval_ppl\": eval_ppl, \"eval_epoch_loss\": eval_epoch_loss})\n",
    "\n",
    "    wandb.finish()\n",
    "    wandb.init(project=\"bloomz-560m_prompt_tunning_casual_lm\", config=config, group=\"bloomz-560m_prompt_tunning_casual_lm\", name=f\"run_{run_i+r}\")\n",
    "\n",
    "wandb.finish()"
   ]
  },
  {
   "cell_type": "code",
   "execution_count": 12,
   "metadata": {},
   "outputs": [
    {
     "data": {
      "text/html": [
       "Waiting for W&B process to finish... <strong style=\"color:green\">(success).</strong>"
      ],
      "text/plain": [
       "<IPython.core.display.HTML object>"
      ]
     },
     "metadata": {},
     "output_type": "display_data"
    },
    {
     "name": "stderr",
     "output_type": "stream",
     "text": [
      "wandb: WARNING Source type is set to 'repo' but some required information is missing from the environment. A job will not be created from this run. See https://docs.wandb.ai/guides/launch/create-job\n"
     ]
    },
    {
     "data": {
      "application/vnd.jupyter.widget-view+json": {
       "model_id": "93fe393726554b0d8bdff5c5039106af",
       "version_major": 2,
       "version_minor": 0
      },
      "text/plain": [
       "VBox(children=(Label(value='0.021 MB of 0.023 MB uploaded (0.000 MB deduped)\\r'), FloatProgress(value=0.945264…"
      ]
     },
     "metadata": {},
     "output_type": "display_data"
    },
    {
     "data": {
      "text/html": [
       " View run <strong style=\"color:#cdcd00\">run_10</strong> at: <a href='https://wandb.ai/rbelanec/bloomz-560m_prompt_tunning_casual_lm/runs/ns3h0ugd' target=\"_blank\">https://wandb.ai/rbelanec/bloomz-560m_prompt_tunning_casual_lm/runs/ns3h0ugd</a><br/>Synced 5 W&B file(s), 0 media file(s), 0 artifact file(s) and 0 other file(s)"
      ],
      "text/plain": [
       "<IPython.core.display.HTML object>"
      ]
     },
     "metadata": {},
     "output_type": "display_data"
    },
    {
     "data": {
      "text/html": [
       "Find logs at: <code>./wandb/run-20231019_103459-ns3h0ugd/logs</code>"
      ],
      "text/plain": [
       "<IPython.core.display.HTML object>"
      ]
     },
     "metadata": {},
     "output_type": "display_data"
    }
   ],
   "source": [
    "wandb.finish()"
   ]
  },
  {
   "cell_type": "code",
   "execution_count": 15,
   "metadata": {},
   "outputs": [
    {
     "data": {
      "application/vnd.jupyter.widget-view+json": {
       "model_id": "65dbaa172bad4fb4804c57cca50af965",
       "version_major": 2,
       "version_minor": 0
      },
      "text/plain": [
       "VBox(children=(HTML(value='<center> <img\\nsrc=https://huggingface.co/front/assets/huggingface_logo-noborder.sv…"
      ]
     },
     "metadata": {},
     "output_type": "display_data"
    }
   ],
   "source": [
    "from huggingface_hub import notebook_login\n",
    "\n",
    "notebook_login()"
   ]
  },
  {
   "cell_type": "code",
   "execution_count": 15,
   "metadata": {},
   "outputs": [
    {
     "name": "stderr",
     "output_type": "stream",
     "text": [
      "/home/robert/anaconda3/envs/repl/lib/python3.11/site-packages/transformers/utils/hub.py:844: FutureWarning: The `use_auth_token` argument is deprecated and will be removed in v5 of Transformers.\n",
      "  warnings.warn(\n"
     ]
    },
    {
     "data": {
      "application/vnd.jupyter.widget-view+json": {
       "model_id": "d5fa8ce18a484be98e96aa5e3ba291b3",
       "version_major": 2,
       "version_minor": 0
      },
      "text/plain": [
       "adapter_model.bin:   0%|          | 0.00/34.0k [00:00<?, ?B/s]"
      ]
     },
     "metadata": {},
     "output_type": "display_data"
    },
    {
     "data": {
      "text/plain": [
       "CommitInfo(commit_url='https://huggingface.co/rbelanec/bloomz-560m_PROMPT_TUNING_CAUSAL_LM/commit/d0a1880f4368b94c0fa878348a6563cda7b61a8e', commit_message='Upload model', commit_description='', oid='d0a1880f4368b94c0fa878348a6563cda7b61a8e', pr_url=None, pr_revision=None, pr_num=None)"
      ]
     },
     "execution_count": 15,
     "metadata": {},
     "output_type": "execute_result"
    }
   ],
   "source": [
    "peft_model_id = \"rbelanec/bloomz-560m_PROMPT_TUNING_CAUSAL_LM\"\n",
    "model.push_to_hub(\"rbelanec/bloomz-560m_PROMPT_TUNING_CAUSAL_LM\", use_auth_token=True)"
   ]
  },
  {
   "cell_type": "code",
   "execution_count": 16,
   "metadata": {},
   "outputs": [
    {
     "data": {
      "application/vnd.jupyter.widget-view+json": {
       "model_id": "47f58c3ad0c64b4b9ac7e83d68775c3c",
       "version_major": 2,
       "version_minor": 0
      },
      "text/plain": [
       "Downloading (…)/adapter_config.json:   0%|          | 0.00/482 [00:00<?, ?B/s]"
      ]
     },
     "metadata": {},
     "output_type": "display_data"
    },
    {
     "data": {
      "application/vnd.jupyter.widget-view+json": {
       "model_id": "88645942d709485da80be56b96e1eb6b",
       "version_major": 2,
       "version_minor": 0
      },
      "text/plain": [
       "Downloading adapter_model.bin:   0%|          | 0.00/34.0k [00:00<?, ?B/s]"
      ]
     },
     "metadata": {},
     "output_type": "display_data"
    }
   ],
   "source": [
    "from peft import PeftModel, PeftConfig\n",
    "\n",
    "peft_model_id = \"rbelanec/bloomz-560m_PROMPT_TUNING_CAUSAL_LM\"\n",
    "\n",
    "config = PeftConfig.from_pretrained(peft_model_id)\n",
    "model = AutoModelForCausalLM.from_pretrained(config.base_model_name_or_path)\n",
    "model = PeftModel.from_pretrained(model, peft_model_id)"
   ]
  },
  {
   "cell_type": "code",
   "execution_count": 17,
   "metadata": {},
   "outputs": [],
   "source": [
    "inputs = tokenizer(\n",
    "    f'{text_column} : {\"@nationalgridus I have no water and the bill is current and paid. Can you do something about this?\"} Label : ',\n",
    "    return_tensors=\"pt\",\n",
    ")"
   ]
  },
  {
   "cell_type": "code",
   "execution_count": 21,
   "metadata": {},
   "outputs": [
    {
     "name": "stdout",
     "output_type": "stream",
     "text": [
      "['Tweet text : @nationalgridus I have no water and the bill is current and paid. Can you do something about this? Label : complaint']\n"
     ]
    }
   ],
   "source": [
    "model.to(\"cuda\")\n",
    "\n",
    "with torch.no_grad():\n",
    "    inputs = {k: v.to(\"cuda\") for k, v in inputs.items()}\n",
    "    outputs = model.generate(\n",
    "        input_ids=inputs[\"input_ids\"], attention_mask=inputs[\"attention_mask\"], max_new_tokens=10, eos_token_id=3\n",
    "    )\n",
    "    print(tokenizer.batch_decode(outputs.detach().cpu().numpy(), skip_special_tokens=True))"
   ]
  },
  {
   "cell_type": "code",
   "execution_count": 22,
   "metadata": {},
   "outputs": [
    {
     "name": "stdout",
     "output_type": "stream",
     "text": [
      "['Tweet text : @nationalgridus I have no water and the bill is current and paid. Can you do something about this? Label :  NoThe present invention relates to a method of']\n"
     ]
    }
   ],
   "source": [
    "model = AutoModelForCausalLM.from_pretrained(model_name_or_path)\n",
    "model = get_peft_model(model, peft_config)\n",
    "\n",
    "inputs = tokenizer(\n",
    "    f'{text_column} : {\"@nationalgridus I have no water and the bill is current and paid. Can you do something about this?\"} Label : ',\n",
    "    return_tensors=\"pt\",\n",
    ")\n",
    "\n",
    "model.to(\"cuda\")\n",
    "\n",
    "with torch.no_grad():\n",
    "    inputs = {k: v.to(\"cuda\") for k, v in inputs.items()}\n",
    "    outputs = model.generate(\n",
    "        input_ids=inputs[\"input_ids\"], attention_mask=inputs[\"attention_mask\"], max_new_tokens=10, eos_token_id=3\n",
    "    )\n",
    "    print(tokenizer.batch_decode(outputs.detach().cpu().numpy(), skip_special_tokens=True))"
   ]
  },
  {
   "cell_type": "code",
   "execution_count": 32,
   "metadata": {},
   "outputs": [
    {
     "data": {
      "text/plain": [
       "BloomForCausalLM(\n",
       "  (transformer): BloomModel(\n",
       "    (word_embeddings): Embedding(250880, 1024)\n",
       "    (word_embeddings_layernorm): LayerNorm((1024,), eps=1e-05, elementwise_affine=True)\n",
       "    (h): ModuleList(\n",
       "      (0-23): 24 x BloomBlock(\n",
       "        (input_layernorm): LayerNorm((1024,), eps=1e-05, elementwise_affine=True)\n",
       "        (self_attention): BloomAttention(\n",
       "          (query_key_value): Linear(in_features=1024, out_features=3072, bias=True)\n",
       "          (dense): Linear(in_features=1024, out_features=1024, bias=True)\n",
       "          (attention_dropout): Dropout(p=0.0, inplace=False)\n",
       "        )\n",
       "        (post_attention_layernorm): LayerNorm((1024,), eps=1e-05, elementwise_affine=True)\n",
       "        (mlp): BloomMLP(\n",
       "          (dense_h_to_4h): Linear(in_features=1024, out_features=4096, bias=True)\n",
       "          (gelu_impl): BloomGelu()\n",
       "          (dense_4h_to_h): Linear(in_features=4096, out_features=1024, bias=True)\n",
       "        )\n",
       "      )\n",
       "    )\n",
       "    (ln_f): LayerNorm((1024,), eps=1e-05, elementwise_affine=True)\n",
       "  )\n",
       "  (lm_head): Linear(in_features=1024, out_features=250880, bias=False)\n",
       ")"
      ]
     },
     "execution_count": 32,
     "metadata": {},
     "output_type": "execute_result"
    }
   ],
   "source": [
    "model = AutoModelForCausalLM.from_pretrained(model_name_or_path)\n",
    "model"
   ]
  },
  {
   "cell_type": "code",
   "execution_count": 34,
   "metadata": {},
   "outputs": [
    {
     "data": {
      "text/plain": [
       "PeftModelForCausalLM(\n",
       "  (base_model): BloomForCausalLM(\n",
       "    (transformer): BloomModel(\n",
       "      (word_embeddings): Embedding(250880, 1024)\n",
       "      (word_embeddings_layernorm): LayerNorm((1024,), eps=1e-05, elementwise_affine=True)\n",
       "      (h): ModuleList(\n",
       "        (0-23): 24 x BloomBlock(\n",
       "          (input_layernorm): LayerNorm((1024,), eps=1e-05, elementwise_affine=True)\n",
       "          (self_attention): BloomAttention(\n",
       "            (query_key_value): Linear(in_features=1024, out_features=3072, bias=True)\n",
       "            (dense): Linear(in_features=1024, out_features=1024, bias=True)\n",
       "            (attention_dropout): Dropout(p=0.0, inplace=False)\n",
       "          )\n",
       "          (post_attention_layernorm): LayerNorm((1024,), eps=1e-05, elementwise_affine=True)\n",
       "          (mlp): BloomMLP(\n",
       "            (dense_h_to_4h): Linear(in_features=1024, out_features=4096, bias=True)\n",
       "            (gelu_impl): BloomGelu()\n",
       "            (dense_4h_to_h): Linear(in_features=4096, out_features=1024, bias=True)\n",
       "          )\n",
       "        )\n",
       "      )\n",
       "      (ln_f): LayerNorm((1024,), eps=1e-05, elementwise_affine=True)\n",
       "    )\n",
       "    (lm_head): Linear(in_features=1024, out_features=250880, bias=False)\n",
       "  )\n",
       "  (prompt_encoder): ModuleDict(\n",
       "    (default): PromptEmbedding(\n",
       "      (embedding): Embedding(8, 1024)\n",
       "    )\n",
       "  )\n",
       "  (word_embeddings): Embedding(250880, 1024)\n",
       ")"
      ]
     },
     "execution_count": 34,
     "metadata": {},
     "output_type": "execute_result"
    }
   ],
   "source": [
    "peft_model = get_peft_model(model, peft_config)\n",
    "peft_model"
   ]
  },
  {
   "cell_type": "code",
   "execution_count": 35,
   "metadata": {},
   "outputs": [
    {
     "name": "stdout",
     "output_type": "stream",
     "text": [
      "trainable params: 8,192 || all params: 559,222,784 || trainable%: 0.0014648902430985358\n"
     ]
    }
   ],
   "source": [
    "peft_model.print_trainable_parameters()"
   ]
  },
  {
   "cell_type": "code",
   "execution_count": 49,
   "metadata": {},
   "outputs": [
    {
     "data": {
      "text/plain": [
       "[101579, 2670, 24015, 15, 4143, 1306, 1152, 3]"
      ]
     },
     "execution_count": 49,
     "metadata": {},
     "output_type": "execute_result"
    }
   ],
   "source": [
    "tokenizer('hello my friend, how are you')['input_ids'] + [tokenizer.pad_token_id]"
   ]
  },
  {
   "cell_type": "code",
   "execution_count": 52,
   "metadata": {},
   "outputs": [
    {
     "data": {
      "text/plain": [
       "64"
      ]
     },
     "execution_count": 52,
     "metadata": {},
     "output_type": "execute_result"
    }
   ],
   "source": [
    "len(processed_datasets['train'][0]['input_ids'])"
   ]
  },
  {
   "cell_type": "code",
   "execution_count": null,
   "metadata": {},
   "outputs": [],
   "source": []
  }
 ],
 "metadata": {
  "kernelspec": {
   "display_name": "Python [conda env:repl]",
   "language": "python",
   "name": "conda-env-repl-py"
  },
  "language_info": {
   "codemirror_mode": {
    "name": "ipython",
    "version": 3
   },
   "file_extension": ".py",
   "mimetype": "text/x-python",
   "name": "python",
   "nbconvert_exporter": "python",
   "pygments_lexer": "ipython3",
   "version": "3.11.6"
  }
 },
 "nbformat": 4,
 "nbformat_minor": 4
}
